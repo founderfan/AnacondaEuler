{
 "cells": [
  {
   "cell_type": "markdown",
   "metadata": {},
   "source": [
    "## Anaconda Euler"
   ]
  },
  {
   "cell_type": "code",
   "execution_count": 1,
   "metadata": {},
   "outputs": [
    {
     "name": "stdout",
     "output_type": "stream",
     "text": [
      "/Users/fangda/Stat/test\n"
     ]
    }
   ],
   "source": [
    "import io\n",
    "import itertools\n",
    "import functools\n",
    "\n",
    "import numpy as np\n",
    "from scipy import special\n",
    "import pandas as pd\n",
    "import sympy\n",
    "\n",
    "import num2words\n",
    "\n",
    "%cd ~/Stat/test"
   ]
  },
  {
   "cell_type": "code",
   "execution_count": 2,
   "metadata": {},
   "outputs": [
    {
     "data": {
      "text/plain": [
       "233168"
      ]
     },
     "execution_count": 2,
     "metadata": {},
     "output_type": "execute_result"
    }
   ],
   "source": [
    "## Problem 1: Multiples of 3 and 5\n",
    "\n",
    "n_list = [3, 5]\n",
    "n_max = 1000\n",
    "\n",
    "np.unique(np.concatenate([np.arange(0, n_max, i) for i in n_list])).sum()"
   ]
  },
  {
   "cell_type": "code",
   "execution_count": 3,
   "metadata": {},
   "outputs": [
    {
     "data": {
      "text/plain": [
       "4613732"
      ]
     },
     "execution_count": 3,
     "metadata": {},
     "output_type": "execute_result"
    }
   ],
   "source": [
    "## Problem 2: Even Fibonacci numbers\n",
    "\n",
    "n_max = 4e6\n",
    "\n",
    "phi = (1 + np.sqrt(5)) / 2\n",
    "def fibonacci(n):\n",
    "    n_list = 2 + np.arange(n)\n",
    "    return(((phi ** n_list - (1 - phi) ** n_list) / np.sqrt(5)).astype('int'))\n",
    "\n",
    "i_max = int(np.log(4e6) / np.log(phi)) + 1\n",
    "sum([i for i in fibonacci(i_max) if (i < n_max) & (i % 2 == 0)])"
   ]
  },
  {
   "cell_type": "code",
   "execution_count": 4,
   "metadata": {},
   "outputs": [
    {
     "data": {
      "text/plain": [
       "6857"
      ]
     },
     "execution_count": 4,
     "metadata": {},
     "output_type": "execute_result"
    }
   ],
   "source": [
    "## Problem 3: Largest prime factor\n",
    "\n",
    "n = 600851475143\n",
    "\n",
    "max(sympy.factorint(n).keys())"
   ]
  },
  {
   "cell_type": "code",
   "execution_count": 5,
   "metadata": {},
   "outputs": [
    {
     "data": {
      "text/plain": [
       "906609"
      ]
     },
     "execution_count": 5,
     "metadata": {},
     "output_type": "execute_result"
    }
   ],
   "source": [
    "## Problem 4: Largest palindrome product\n",
    "\n",
    "n_min = 100\n",
    "n_max = 1000\n",
    "\n",
    "S = pd.Series(np.unique(np.outer(np.arange(n_min, n_max), np.arange(n_min, n_max))).astype(\"str\"))\n",
    "int(S[S == S.str[::-1]].iloc[-1])"
   ]
  },
  {
   "cell_type": "code",
   "execution_count": 6,
   "metadata": {},
   "outputs": [
    {
     "data": {
      "text/plain": [
       "232792560"
      ]
     },
     "execution_count": 6,
     "metadata": {},
     "output_type": "execute_result"
    }
   ],
   "source": [
    "## Problem 5: Smallest multiple\n",
    "\n",
    "n_list = range(1, 21)\n",
    "\n",
    "S = pd.concat([pd.Series(sympy.factorint(i)) for i in n_list], axis=1).fillna(0).max(axis=1).astype(\"int\")\n",
    "np.prod(S.index.values ** S.values)"
   ]
  },
  {
   "cell_type": "code",
   "execution_count": 7,
   "metadata": {},
   "outputs": [
    {
     "data": {
      "text/plain": [
       "25164150"
      ]
     },
     "execution_count": 7,
     "metadata": {},
     "output_type": "execute_result"
    }
   ],
   "source": [
    "## Problem 6: Sum square difference\n",
    "\n",
    "n_list = 1 + np.arange(100)\n",
    "\n",
    "sum(n_list) ** 2 - sum(n_list ** 2)"
   ]
  },
  {
   "cell_type": "code",
   "execution_count": 8,
   "metadata": {},
   "outputs": [
    {
     "data": {
      "text/plain": [
       "104743"
      ]
     },
     "execution_count": 8,
     "metadata": {},
     "output_type": "execute_result"
    }
   ],
   "source": [
    "## Problem 7: 10001st prime\n",
    "\n",
    "n = 10001\n",
    "\n",
    "sympy.prime(n)"
   ]
  },
  {
   "cell_type": "code",
   "execution_count": 9,
   "metadata": {},
   "outputs": [
    {
     "data": {
      "text/plain": [
       "23514624000"
      ]
     },
     "execution_count": 9,
     "metadata": {},
     "output_type": "execute_result"
    }
   ],
   "source": [
    "## Problem 8: Largest product in a series\n",
    "\n",
    "n = 13\n",
    "s = '''73167176531330624919225119674426574742355349194934\n",
    "96983520312774506326239578318016984801869478851843\n",
    "85861560789112949495459501737958331952853208805511\n",
    "12540698747158523863050715693290963295227443043557\n",
    "66896648950445244523161731856403098711121722383113\n",
    "62229893423380308135336276614282806444486645238749\n",
    "30358907296290491560440772390713810515859307960866\n",
    "70172427121883998797908792274921901699720888093776\n",
    "65727333001053367881220235421809751254540594752243\n",
    "52584907711670556013604839586446706324415722155397\n",
    "53697817977846174064955149290862569321978468622482\n",
    "83972241375657056057490261407972968652414535100474\n",
    "82166370484403199890008895243450658541227588666881\n",
    "16427171479924442928230863465674813919123162824586\n",
    "17866458359124566529476545682848912883142607690042\n",
    "24219022671055626321111109370544217506941658960408\n",
    "07198403850962455444362981230987879927244284909188\n",
    "84580156166097919133875499200524063689912560717606\n",
    "05886116467109405077541002256983155200055935729725\n",
    "71636269561882670428252483600823257530420752963450'''.replace(\"\\n\", \"\")\n",
    "\n",
    "pd.DataFrame([list(s[i:(i+13)]) for i in range(len(s) - n)]).astype(\"int\").prod(axis=1).max()"
   ]
  },
  {
   "cell_type": "code",
   "execution_count": 10,
   "metadata": {},
   "outputs": [
    {
     "data": {
      "text/plain": [
       "31875000"
      ]
     },
     "execution_count": 10,
     "metadata": {},
     "output_type": "execute_result"
    }
   ],
   "source": [
    "## Problem 9: Special Pythagorean triplet\n",
    "\n",
    "n = 1000\n",
    "\n",
    "a_list = np.arange(n / 2)\n",
    "b_list = np.arange(n / 2)\n",
    "c_list = n - np.add.outer(a_list, b_list)\n",
    "\n",
    "a, b = np.where(c_list ** 2 == np.add.outer(a_list ** 2, b_list ** 2))[0]\n",
    "a * b * (n - a - b)"
   ]
  },
  {
   "cell_type": "code",
   "execution_count": 11,
   "metadata": {},
   "outputs": [
    {
     "data": {
      "text/plain": [
       "142913828922"
      ]
     },
     "execution_count": 11,
     "metadata": {},
     "output_type": "execute_result"
    }
   ],
   "source": [
    "## Problem 10: Summation of primes\n",
    "\n",
    "n_max = 2e6\n",
    "\n",
    "out = 0\n",
    "for i in itertools.count():\n",
    "    i_val = sympy.prime(i + 1)\n",
    "    if i_val > n_max:\n",
    "        break\n",
    "    out += i_val\n",
    "out"
   ]
  },
  {
   "cell_type": "code",
   "execution_count": 12,
   "metadata": {},
   "outputs": [
    {
     "data": {
      "text/plain": [
       "70600674"
      ]
     },
     "execution_count": 12,
     "metadata": {},
     "output_type": "execute_result"
    }
   ],
   "source": [
    "## Problem 11: Largest product in a grid\n",
    "\n",
    "n = 4\n",
    "A = np.loadtxt(io.StringIO('''08 02 22 97 38 15 00 40 00 75 04 05 07 78 52 12 50 77 91 08\n",
    "49 49 99 40 17 81 18 57 60 87 17 40 98 43 69 48 04 56 62 00\n",
    "81 49 31 73 55 79 14 29 93 71 40 67 53 88 30 03 49 13 36 65\n",
    "52 70 95 23 04 60 11 42 69 24 68 56 01 32 56 71 37 02 36 91\n",
    "22 31 16 71 51 67 63 89 41 92 36 54 22 40 40 28 66 33 13 80\n",
    "24 47 32 60 99 03 45 02 44 75 33 53 78 36 84 20 35 17 12 50\n",
    "32 98 81 28 64 23 67 10 26 38 40 67 59 54 70 66 18 38 64 70\n",
    "67 26 20 68 02 62 12 20 95 63 94 39 63 08 40 91 66 49 94 21\n",
    "24 55 58 05 66 73 99 26 97 17 78 78 96 83 14 88 34 89 63 72\n",
    "21 36 23 09 75 00 76 44 20 45 35 14 00 61 33 97 34 31 33 95\n",
    "78 17 53 28 22 75 31 67 15 94 03 80 04 62 16 14 09 53 56 92\n",
    "16 39 05 42 96 35 31 47 55 58 88 24 00 17 54 24 36 29 85 57\n",
    "86 56 00 48 35 71 89 07 05 44 44 37 44 60 21 58 51 54 17 58\n",
    "19 80 81 68 05 94 47 69 28 73 92 13 86 52 17 77 04 89 55 40\n",
    "04 52 08 83 97 35 99 16 07 97 57 32 16 26 26 79 33 27 98 66\n",
    "88 36 68 87 57 62 20 72 03 46 33 67 46 55 12 32 63 93 53 69\n",
    "04 42 16 73 38 25 39 11 24 94 72 18 08 46 29 32 40 62 76 36\n",
    "20 69 36 41 72 30 23 88 34 62 99 69 82 67 59 85 74 04 36 16\n",
    "20 73 35 29 78 31 90 01 74 31 49 71 48 86 81 16 23 57 05 54\n",
    "01 70 54 71 83 51 54 69 16 92 33 48 61 43 52 01 89 19 67 48'''), dtype = 'int')\n",
    "\n",
    "A_pad = np.pad(A, [[1, 1], [1, 1]], mode=\"constant\", constant_values=0)\n",
    "max_v = np.max(functools.reduce(np.multiply, [A_pad[i:-(n - i)] for i in range(n)]))\n",
    "max_h = np.max(functools.reduce(np.multiply, [A_pad[:, i:-(n - i)] for i in range(n)]))\n",
    "max_d = np.max(functools.reduce(np.multiply, [A_pad[i:-(n - i), i:-(n - i)] for i in range(n)]))\n",
    "max_ad = np.max(functools.reduce(np.multiply, [A_pad[(n - i):-(i + 1), i:-(n - i)] for i in range(n)]))\n",
    "max(max_v, max_h, max_d, max_ad)"
   ]
  },
  {
   "cell_type": "code",
   "execution_count": 13,
   "metadata": {},
   "outputs": [
    {
     "data": {
      "text/plain": [
       "76576500"
      ]
     },
     "execution_count": 13,
     "metadata": {},
     "output_type": "execute_result"
    }
   ],
   "source": [
    "## Problem 12: Highly divisible triangular number\n",
    "\n",
    "n = 500\n",
    "\n",
    "i_val = 0\n",
    "for i in itertools.count():\n",
    "    i_val += i\n",
    "    if len(sympy.divisors(i_val)) > 500:\n",
    "        break\n",
    "i_val"
   ]
  },
  {
   "cell_type": "code",
   "execution_count": 14,
   "metadata": {},
   "outputs": [
    {
     "data": {
      "text/plain": [
       "5537376230"
      ]
     },
     "execution_count": 14,
     "metadata": {},
     "output_type": "execute_result"
    }
   ],
   "source": [
    "## Problem 13: Large sum\n",
    "\n",
    "n = 10\n",
    "n_list = np.loadtxt(io.StringIO('''37107287533902102798797998220837590246510135740250\n",
    "46376937677490009712648124896970078050417018260538\n",
    "74324986199524741059474233309513058123726617309629\n",
    "91942213363574161572522430563301811072406154908250\n",
    "23067588207539346171171980310421047513778063246676\n",
    "89261670696623633820136378418383684178734361726757\n",
    "28112879812849979408065481931592621691275889832738\n",
    "44274228917432520321923589422876796487670272189318\n",
    "47451445736001306439091167216856844588711603153276\n",
    "70386486105843025439939619828917593665686757934951\n",
    "62176457141856560629502157223196586755079324193331\n",
    "64906352462741904929101432445813822663347944758178\n",
    "92575867718337217661963751590579239728245598838407\n",
    "58203565325359399008402633568948830189458628227828\n",
    "80181199384826282014278194139940567587151170094390\n",
    "35398664372827112653829987240784473053190104293586\n",
    "86515506006295864861532075273371959191420517255829\n",
    "71693888707715466499115593487603532921714970056938\n",
    "54370070576826684624621495650076471787294438377604\n",
    "53282654108756828443191190634694037855217779295145\n",
    "36123272525000296071075082563815656710885258350721\n",
    "45876576172410976447339110607218265236877223636045\n",
    "17423706905851860660448207621209813287860733969412\n",
    "81142660418086830619328460811191061556940512689692\n",
    "51934325451728388641918047049293215058642563049483\n",
    "62467221648435076201727918039944693004732956340691\n",
    "15732444386908125794514089057706229429197107928209\n",
    "55037687525678773091862540744969844508330393682126\n",
    "18336384825330154686196124348767681297534375946515\n",
    "80386287592878490201521685554828717201219257766954\n",
    "78182833757993103614740356856449095527097864797581\n",
    "16726320100436897842553539920931837441497806860984\n",
    "48403098129077791799088218795327364475675590848030\n",
    "87086987551392711854517078544161852424320693150332\n",
    "59959406895756536782107074926966537676326235447210\n",
    "69793950679652694742597709739166693763042633987085\n",
    "41052684708299085211399427365734116182760315001271\n",
    "65378607361501080857009149939512557028198746004375\n",
    "35829035317434717326932123578154982629742552737307\n",
    "94953759765105305946966067683156574377167401875275\n",
    "88902802571733229619176668713819931811048770190271\n",
    "25267680276078003013678680992525463401061632866526\n",
    "36270218540497705585629946580636237993140746255962\n",
    "24074486908231174977792365466257246923322810917141\n",
    "91430288197103288597806669760892938638285025333403\n",
    "34413065578016127815921815005561868836468420090470\n",
    "23053081172816430487623791969842487255036638784583\n",
    "11487696932154902810424020138335124462181441773470\n",
    "63783299490636259666498587618221225225512486764533\n",
    "67720186971698544312419572409913959008952310058822\n",
    "95548255300263520781532296796249481641953868218774\n",
    "76085327132285723110424803456124867697064507995236\n",
    "37774242535411291684276865538926205024910326572967\n",
    "23701913275725675285653248258265463092207058596522\n",
    "29798860272258331913126375147341994889534765745501\n",
    "18495701454879288984856827726077713721403798879715\n",
    "38298203783031473527721580348144513491373226651381\n",
    "34829543829199918180278916522431027392251122869539\n",
    "40957953066405232632538044100059654939159879593635\n",
    "29746152185502371307642255121183693803580388584903\n",
    "41698116222072977186158236678424689157993532961922\n",
    "62467957194401269043877107275048102390895523597457\n",
    "23189706772547915061505504953922979530901129967519\n",
    "86188088225875314529584099251203829009407770775672\n",
    "11306739708304724483816533873502340845647058077308\n",
    "82959174767140363198008187129011875491310547126581\n",
    "97623331044818386269515456334926366572897563400500\n",
    "42846280183517070527831839425882145521227251250327\n",
    "55121603546981200581762165212827652751691296897789\n",
    "32238195734329339946437501907836945765883352399886\n",
    "75506164965184775180738168837861091527357929701337\n",
    "62177842752192623401942399639168044983993173312731\n",
    "32924185707147349566916674687634660915035914677504\n",
    "99518671430235219628894890102423325116913619626622\n",
    "73267460800591547471830798392868535206946944540724\n",
    "76841822524674417161514036427982273348055556214818\n",
    "97142617910342598647204516893989422179826088076852\n",
    "87783646182799346313767754307809363333018982642090\n",
    "10848802521674670883215120185883543223812876952786\n",
    "71329612474782464538636993009049310363619763878039\n",
    "62184073572399794223406235393808339651327408011116\n",
    "66627891981488087797941876876144230030984490851411\n",
    "60661826293682836764744779239180335110989069790714\n",
    "85786944089552990653640447425576083659976645795096\n",
    "66024396409905389607120198219976047599490197230297\n",
    "64913982680032973156037120041377903785566085089252\n",
    "16730939319872750275468906903707539413042652315011\n",
    "94809377245048795150954100921645863754710598436791\n",
    "78639167021187492431995700641917969777599028300699\n",
    "15368713711936614952811305876380278410754449733078\n",
    "40789923115535562561142322423255033685442488917353\n",
    "44889911501440648020369068063960672322193204149535\n",
    "41503128880339536053299340368006977710650566631954\n",
    "81234880673210146739058568557934581403627822703280\n",
    "82616570773948327592232845941706525094512325230608\n",
    "22918802058777319719839450180888072429661980811197\n",
    "77158542502016545090413245809786882778948721859617\n",
    "72107838435069186155435662884062257473692284509516\n",
    "20849603980134001723930671666823555245252804609722\n",
    "53503534226472524250874054075591789781264330331690'''))\n",
    "\n",
    "out = sum(n_list)\n",
    "int(out / 10 ** int(np.log10(out) - n + 1))"
   ]
  },
  {
   "cell_type": "code",
   "execution_count": 15,
   "metadata": {},
   "outputs": [
    {
     "data": {
      "text/plain": [
       "837799"
      ]
     },
     "execution_count": 15,
     "metadata": {},
     "output_type": "execute_result"
    }
   ],
   "source": [
    "## Problem 14: Longest Collatz sequence\n",
    "\n",
    "n_min = 2\n",
    "n_max = int(1e6)\n",
    "\n",
    "chain_val_dict = {}\n",
    "chain_len_dict = {1: 0}\n",
    "def chain(x):\n",
    "    if x != 1:\n",
    "        x_next = chain_val_dict.get(x)\n",
    "        if x_next is None:\n",
    "            if x % 2 == 1:\n",
    "                x_next = 3 * x + 1\n",
    "            else:\n",
    "                x_next = x // 2\n",
    "            chain_val_dict[x] = x_next\n",
    "            chain(x_next)\n",
    "        chain_len_dict[x] = chain_len_dict[x_next] + 1\n",
    "\n",
    "[chain(i) for i in range(n_min, n_max)]\n",
    "pd.Series(chain_len_dict)[:n_max].argmax()"
   ]
  },
  {
   "cell_type": "code",
   "execution_count": 16,
   "metadata": {},
   "outputs": [
    {
     "data": {
      "text/plain": [
       "137846528820"
      ]
     },
     "execution_count": 16,
     "metadata": {},
     "output_type": "execute_result"
    }
   ],
   "source": [
    "## Problem 15: Lattice paths\n",
    "\n",
    "n = 20\n",
    "\n",
    "special.comb(2 * n, n, exact=True)"
   ]
  },
  {
   "cell_type": "code",
   "execution_count": 17,
   "metadata": {},
   "outputs": [
    {
     "data": {
      "text/plain": [
       "1366"
      ]
     },
     "execution_count": 17,
     "metadata": {},
     "output_type": "execute_result"
    }
   ],
   "source": [
    "## Problem 16: Power digit sum\n",
    "\n",
    "n = 2 ** 1000\n",
    "\n",
    "np.array(list(str(n)), dtype=\"int\").sum()"
   ]
  },
  {
   "cell_type": "code",
   "execution_count": 18,
   "metadata": {},
   "outputs": [
    {
     "data": {
      "text/plain": [
       "21124"
      ]
     },
     "execution_count": 18,
     "metadata": {},
     "output_type": "execute_result"
    }
   ],
   "source": [
    "## Problem 17: Number letter counts\n",
    "\n",
    "n_max = 1000\n",
    "\n",
    "len(\"\".join([num2words.num2words(i) for i in 1 + np.arange(n_max)]).replace(\" \", \"\").replace(\"-\", \"\"))"
   ]
  },
  {
   "cell_type": "code",
   "execution_count": 19,
   "metadata": {},
   "outputs": [
    {
     "data": {
      "text/plain": [
       "1074"
      ]
     },
     "execution_count": 19,
     "metadata": {},
     "output_type": "execute_result"
    }
   ],
   "source": [
    "## Problem 18: Maximum path sum I\n",
    "\n",
    "A = pd.read_fwf(io.StringIO('''75\n",
    "95 64\n",
    "17 47 82\n",
    "18 35 87 10\n",
    "20 04 82 47 65\n",
    "19 01 23 75 03 34\n",
    "88 02 77 73 07 63 67\n",
    "99 65 04 28 06 16 70 92\n",
    "41 41 26 56 83 40 80 70 33\n",
    "41 48 72 33 47 32 37 16 94 29\n",
    "53 71 44 65 25 43 91 52 97 51 14\n",
    "70 11 33 28 77 73 17 78 39 68 17 57\n",
    "91 71 52 38 17 14 91 43 58 50 27 29 48\n",
    "63 66 04 68 89 53 67 30 73 16 69 87 40 31\n",
    "04 62 98 27 23 09 70 98 73 93 38 53 60 04 23'''), delim_whitespace=True, header=None).fillna(0).values.astype('int')\n",
    "\n",
    "A_cum = A.copy()\n",
    "A_choice = np.zeros(A.shape, dtype=\"int\")\n",
    "for i in np.arange(len(A)-1, 0, -1):\n",
    "    A_choice[i - 1, :-1] = (np.diff(A_cum[i]) > 0).astype(\"int\")\n",
    "    A_cum[i - 1] += A_cum[i, np.arange(len(A)) + A_choice[i - 1]]\n",
    "A_cum[0, 0]"
   ]
  },
  {
   "cell_type": "code",
   "execution_count": 20,
   "metadata": {},
   "outputs": [
    {
     "data": {
      "text/plain": [
       "171"
      ]
     },
     "execution_count": 20,
     "metadata": {},
     "output_type": "execute_result"
    }
   ],
   "source": [
    "## Problem 19: Counting Sundays\n",
    "\n",
    "date_begin = \"1901-01-01\"\n",
    "date_end = \"2000-12-31\"\n",
    "\n",
    "S = pd.Series(pd.date_range(date_begin, date_end, freq=\"MS\").strftime('%A'))\n",
    "S.value_counts()[\"Sunday\"]"
   ]
  },
  {
   "cell_type": "code",
   "execution_count": 21,
   "metadata": {},
   "outputs": [
    {
     "data": {
      "text/plain": [
       "648"
      ]
     },
     "execution_count": 21,
     "metadata": {},
     "output_type": "execute_result"
    }
   ],
   "source": [
    "## Problem 20: Factorial digit sum\n",
    "\n",
    "n = 100\n",
    "\n",
    "np.array(list(str(special.factorial(n, exact=True))), dtype=\"int\").sum()"
   ]
  },
  {
   "cell_type": "code",
   "execution_count": 36,
   "metadata": {},
   "outputs": [
    {
     "data": {
      "text/plain": [
       "31626"
      ]
     },
     "execution_count": 36,
     "metadata": {},
     "output_type": "execute_result"
    }
   ],
   "source": [
    "## Problem 21: Amicable numbers\n",
    "\n",
    "n_max = 10000\n",
    "\n",
    "def sum_divisors(x):\n",
    "    return(sum(sympy.divisors(x)[:-1]))\n",
    "\n",
    "S = pd.Series([sum_divisors(i) for i in np.arange(n_max)])\n",
    "S.index.values[(S.index == S.loc[S.values]) & (S.index != S.values)].sum()"
   ]
  },
  {
   "cell_type": "code",
   "execution_count": 51,
   "metadata": {},
   "outputs": [
    {
     "data": {
      "text/plain": [
       "871198282"
      ]
     },
     "execution_count": 51,
     "metadata": {},
     "output_type": "execute_result"
    }
   ],
   "source": [
    "## Problem 22: Names scores\n",
    "\n",
    "df = pd.read_csv(\"https://projecteuler.net/project/resources/p022_names.txt\").T\n",
    "\n",
    "S = df.sort_index().reset_index()[\"index\"]\n",
    "(S.apply(lambda x: sum([ord(i) - 64 for i in list(x)])) * (S.index.values + 1)).sum()"
   ]
  },
  {
   "cell_type": "code",
   "execution_count": 55,
   "metadata": {},
   "outputs": [],
   "source": [
    "## Problem 23: Non-abundant sums\n",
    "\n",
    "n_max = 28123\n",
    "\n",
    "def sum_divisors(x):\n",
    "    return(sum(sympy.divisors(x)[:-1]))\n",
    "\n",
    "S = pd.Series([sum_divisors(i) for i in np.arange(n_max)])\n",
    "n_list = S.index.values[S.index < S.values]"
   ]
  }
 ],
 "metadata": {
  "kernelspec": {
   "display_name": "Python 3",
   "language": "python",
   "name": "python3"
  },
  "language_info": {
   "codemirror_mode": {
    "name": "ipython",
    "version": 3
   },
   "file_extension": ".py",
   "mimetype": "text/x-python",
   "name": "python",
   "nbconvert_exporter": "python",
   "pygments_lexer": "ipython3",
   "version": "3.6.1"
  }
 },
 "nbformat": 4,
 "nbformat_minor": 2
}
