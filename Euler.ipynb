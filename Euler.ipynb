{
 "cells": [
  {
   "cell_type": "markdown",
   "metadata": {},
   "source": [
    "## Anaconda Euler"
   ]
  },
  {
   "cell_type": "code",
   "execution_count": 1,
   "metadata": {},
   "outputs": [
    {
     "name": "stdout",
     "output_type": "stream",
     "text": [
      "/Users/fangda/Stat/test\n"
     ]
    }
   ],
   "source": [
    "import io\n",
    "import itertools\n",
    "import functools\n",
    "import requests\n",
    "\n",
    "import numpy as np\n",
    "from scipy import linalg, special, optimize\n",
    "import pandas as pd\n",
    "import sympy\n",
    "import numba\n",
    "\n",
    "import num2words\n",
    "\n",
    "%cd ~/Stat/test"
   ]
  },
  {
   "cell_type": "code",
   "execution_count": 161,
   "metadata": {},
   "outputs": [
    {
     "name": "stdout",
     "output_type": "stream",
     "text": [
      "233168\n",
      "CPU times: user 493 µs, sys: 498 µs, total: 991 µs\n",
      "Wall time: 595 µs\n"
     ]
    }
   ],
   "source": [
    "%%time\n",
    "## Problem 1: Multiples of 3 and 5\n",
    "\n",
    "n_list = [3, 5]\n",
    "n_max = 1000\n",
    "\n",
    "print(np.unique(np.concatenate([np.arange(0, n_max, i) for i in n_list])).sum())"
   ]
  },
  {
   "cell_type": "code",
   "execution_count": 160,
   "metadata": {},
   "outputs": [
    {
     "name": "stdout",
     "output_type": "stream",
     "text": [
      "4613732\n",
      "CPU times: user 369 µs, sys: 165 µs, total: 534 µs\n",
      "Wall time: 429 µs\n"
     ]
    }
   ],
   "source": [
    "%%time\n",
    "## Problem 2: Even Fibonacci numbers\n",
    "\n",
    "n_max = 4e6\n",
    "\n",
    "phi = (1 + np.sqrt(5)) / 2\n",
    "def fibonacci(n, n_init=0):\n",
    "    n_list = n_init + np.arange(n)\n",
    "    return(((phi ** n_list - (1 - phi) ** n_list) / np.sqrt(5)).astype('int'))\n",
    "\n",
    "i_max = int(np.log(4e6) / np.log(phi)) + 1\n",
    "print(sum([i for i in fibonacci(i_max, n_init=2) if (i < n_max) & (i % 2 == 0)]))"
   ]
  },
  {
   "cell_type": "code",
   "execution_count": 159,
   "metadata": {},
   "outputs": [
    {
     "name": "stdout",
     "output_type": "stream",
     "text": [
      "6857\n",
      "CPU times: user 602 µs, sys: 218 µs, total: 820 µs\n",
      "Wall time: 679 µs\n"
     ]
    }
   ],
   "source": [
    "%%time\n",
    "## Problem 3: Largest prime factor\n",
    "\n",
    "n = 600851475143\n",
    "\n",
    "print(max(sympy.factorint(n).keys()))"
   ]
  },
  {
   "cell_type": "code",
   "execution_count": 158,
   "metadata": {},
   "outputs": [
    {
     "name": "stdout",
     "output_type": "stream",
     "text": [
      "906609\n",
      "CPU times: user 230 ms, sys: 36 ms, total: 266 ms\n",
      "Wall time: 271 ms\n"
     ]
    }
   ],
   "source": [
    "%%time\n",
    "## Problem 4: Largest palindrome product\n",
    "\n",
    "n_min = 100\n",
    "n_max = 1000\n",
    "\n",
    "S = pd.Series(np.unique(np.outer(np.arange(n_min, n_max), np.arange(n_min, n_max))).astype(\"str\"))\n",
    "print(int(S[S == S.str[::-1]].iloc[-1]))"
   ]
  },
  {
   "cell_type": "code",
   "execution_count": 157,
   "metadata": {},
   "outputs": [
    {
     "name": "stdout",
     "output_type": "stream",
     "text": [
      "232792560\n",
      "CPU times: user 14 ms, sys: 1.58 ms, total: 15.6 ms\n",
      "Wall time: 16.3 ms\n"
     ]
    }
   ],
   "source": [
    "%%time\n",
    "## Problem 5: Smallest multiple\n",
    "\n",
    "n_list = range(1, 21)\n",
    "\n",
    "S = pd.concat([pd.Series(sympy.factorint(i)) for i in n_list], axis=1).fillna(0).max(axis=1).astype(\"int\")\n",
    "print(np.prod(S.index.values ** S.values))"
   ]
  },
  {
   "cell_type": "code",
   "execution_count": 156,
   "metadata": {},
   "outputs": [
    {
     "name": "stdout",
     "output_type": "stream",
     "text": [
      "25164150\n",
      "CPU times: user 339 µs, sys: 194 µs, total: 533 µs\n",
      "Wall time: 368 µs\n"
     ]
    }
   ],
   "source": [
    "%%time\n",
    "## Problem 6: Sum square difference\n",
    "\n",
    "n_list = 1 + np.arange(100)\n",
    "\n",
    "print(sum(n_list) ** 2 - sum(n_list ** 2))"
   ]
  },
  {
   "cell_type": "code",
   "execution_count": 155,
   "metadata": {},
   "outputs": [
    {
     "name": "stdout",
     "output_type": "stream",
     "text": [
      "104743\n",
      "CPU times: user 57.5 ms, sys: 9.18 ms, total: 66.7 ms\n",
      "Wall time: 65.1 ms\n"
     ]
    }
   ],
   "source": [
    "%%time\n",
    "## Problem 7: 10001st prime\n",
    "\n",
    "n = 10001\n",
    "\n",
    "print(sympy.prime(n))"
   ]
  },
  {
   "cell_type": "code",
   "execution_count": 154,
   "metadata": {},
   "outputs": [
    {
     "name": "stdout",
     "output_type": "stream",
     "text": [
      "23514624000\n",
      "CPU times: user 6.45 ms, sys: 3.82 ms, total: 10.3 ms\n",
      "Wall time: 9.93 ms\n"
     ]
    }
   ],
   "source": [
    "%%time\n",
    "## Problem 8: Largest product in a series\n",
    "\n",
    "n = 13\n",
    "s = '''73167176531330624919225119674426574742355349194934\n",
    "96983520312774506326239578318016984801869478851843\n",
    "85861560789112949495459501737958331952853208805511\n",
    "12540698747158523863050715693290963295227443043557\n",
    "66896648950445244523161731856403098711121722383113\n",
    "62229893423380308135336276614282806444486645238749\n",
    "30358907296290491560440772390713810515859307960866\n",
    "70172427121883998797908792274921901699720888093776\n",
    "65727333001053367881220235421809751254540594752243\n",
    "52584907711670556013604839586446706324415722155397\n",
    "53697817977846174064955149290862569321978468622482\n",
    "83972241375657056057490261407972968652414535100474\n",
    "82166370484403199890008895243450658541227588666881\n",
    "16427171479924442928230863465674813919123162824586\n",
    "17866458359124566529476545682848912883142607690042\n",
    "24219022671055626321111109370544217506941658960408\n",
    "07198403850962455444362981230987879927244284909188\n",
    "84580156166097919133875499200524063689912560717606\n",
    "05886116467109405077541002256983155200055935729725\n",
    "71636269561882670428252483600823257530420752963450'''.replace(\"\\n\", \"\")\n",
    "\n",
    "print(pd.DataFrame([list(s[i:(i+13)]) for i in range(len(s) - n)]).astype(\"int\").prod(axis=1).max())"
   ]
  },
  {
   "cell_type": "code",
   "execution_count": 153,
   "metadata": {},
   "outputs": [
    {
     "name": "stdout",
     "output_type": "stream",
     "text": [
      "31875000\n",
      "CPU times: user 4.09 ms, sys: 2.92 ms, total: 7.01 ms\n",
      "Wall time: 5.54 ms\n"
     ]
    }
   ],
   "source": [
    "%%time\n",
    "## Problem 9: Special Pythagorean triplet\n",
    "\n",
    "n = 1000\n",
    "\n",
    "a_list = np.arange(n / 2)\n",
    "b_list = np.arange(n / 2)\n",
    "c_list = n - np.add.outer(a_list, b_list)\n",
    "\n",
    "a, b = np.where(c_list ** 2 == np.add.outer(a_list ** 2, b_list ** 2))[0]\n",
    "print(a * b * (n - a - b))"
   ]
  },
  {
   "cell_type": "code",
   "execution_count": 152,
   "metadata": {},
   "outputs": [
    {
     "name": "stdout",
     "output_type": "stream",
     "text": [
      "142913828922\n",
      "CPU times: user 10.2 s, sys: 26.2 ms, total: 10.3 s\n",
      "Wall time: 10.3 s\n"
     ]
    }
   ],
   "source": [
    "%%time\n",
    "## Problem 10: Summation of primes\n",
    "\n",
    "n_max = 2e6\n",
    "\n",
    "print(sum(sympy.primerange(1, n_max)))"
   ]
  },
  {
   "cell_type": "code",
   "execution_count": 151,
   "metadata": {},
   "outputs": [
    {
     "name": "stdout",
     "output_type": "stream",
     "text": [
      "70600674\n",
      "CPU times: user 1.47 ms, sys: 502 µs, total: 1.97 ms\n",
      "Wall time: 1.93 ms\n"
     ]
    }
   ],
   "source": [
    "%%time\n",
    "## Problem 11: Largest product in a grid\n",
    "\n",
    "n = 4\n",
    "A = np.loadtxt(io.StringIO('''08 02 22 97 38 15 00 40 00 75 04 05 07 78 52 12 50 77 91 08\n",
    "49 49 99 40 17 81 18 57 60 87 17 40 98 43 69 48 04 56 62 00\n",
    "81 49 31 73 55 79 14 29 93 71 40 67 53 88 30 03 49 13 36 65\n",
    "52 70 95 23 04 60 11 42 69 24 68 56 01 32 56 71 37 02 36 91\n",
    "22 31 16 71 51 67 63 89 41 92 36 54 22 40 40 28 66 33 13 80\n",
    "24 47 32 60 99 03 45 02 44 75 33 53 78 36 84 20 35 17 12 50\n",
    "32 98 81 28 64 23 67 10 26 38 40 67 59 54 70 66 18 38 64 70\n",
    "67 26 20 68 02 62 12 20 95 63 94 39 63 08 40 91 66 49 94 21\n",
    "24 55 58 05 66 73 99 26 97 17 78 78 96 83 14 88 34 89 63 72\n",
    "21 36 23 09 75 00 76 44 20 45 35 14 00 61 33 97 34 31 33 95\n",
    "78 17 53 28 22 75 31 67 15 94 03 80 04 62 16 14 09 53 56 92\n",
    "16 39 05 42 96 35 31 47 55 58 88 24 00 17 54 24 36 29 85 57\n",
    "86 56 00 48 35 71 89 07 05 44 44 37 44 60 21 58 51 54 17 58\n",
    "19 80 81 68 05 94 47 69 28 73 92 13 86 52 17 77 04 89 55 40\n",
    "04 52 08 83 97 35 99 16 07 97 57 32 16 26 26 79 33 27 98 66\n",
    "88 36 68 87 57 62 20 72 03 46 33 67 46 55 12 32 63 93 53 69\n",
    "04 42 16 73 38 25 39 11 24 94 72 18 08 46 29 32 40 62 76 36\n",
    "20 69 36 41 72 30 23 88 34 62 99 69 82 67 59 85 74 04 36 16\n",
    "20 73 35 29 78 31 90 01 74 31 49 71 48 86 81 16 23 57 05 54\n",
    "01 70 54 71 83 51 54 69 16 92 33 48 61 43 52 01 89 19 67 48'''), dtype = 'int')\n",
    "\n",
    "A_pad = np.pad(A, [[1, 1], [1, 1]], mode=\"constant\", constant_values=0)\n",
    "max_v = np.max(functools.reduce(np.multiply, [A_pad[i:-(n - i)] for i in range(n)]))\n",
    "max_h = np.max(functools.reduce(np.multiply, [A_pad[:, i:-(n - i)] for i in range(n)]))\n",
    "max_d = np.max(functools.reduce(np.multiply, [A_pad[i:-(n - i), i:-(n - i)] for i in range(n)]))\n",
    "max_ad = np.max(functools.reduce(np.multiply, [A_pad[(n - i):-(i + 1), i:-(n - i)] for i in range(n)]))\n",
    "print(max(max_v, max_h, max_d, max_ad))"
   ]
  },
  {
   "cell_type": "code",
   "execution_count": 150,
   "metadata": {},
   "outputs": [
    {
     "name": "stdout",
     "output_type": "stream",
     "text": [
      "76576500\n",
      "CPU times: user 1.11 s, sys: 7.98 ms, total: 1.12 s\n",
      "Wall time: 1.12 s\n"
     ]
    }
   ],
   "source": [
    "%%time\n",
    "## Problem 12: Highly divisible triangular number\n",
    "\n",
    "n = 500\n",
    "\n",
    "i_val = 0\n",
    "for i in itertools.count():\n",
    "    i_val += i\n",
    "    if len(sympy.divisors(i_val)) > 500:\n",
    "        break\n",
    "print(i_val)"
   ]
  },
  {
   "cell_type": "code",
   "execution_count": 149,
   "metadata": {},
   "outputs": [
    {
     "name": "stdout",
     "output_type": "stream",
     "text": [
      "5537376230\n",
      "CPU times: user 1.39 ms, sys: 290 µs, total: 1.68 ms\n",
      "Wall time: 1.73 ms\n"
     ]
    }
   ],
   "source": [
    "%%time\n",
    "## Problem 13: Large sum\n",
    "\n",
    "n = 10\n",
    "n_list = np.loadtxt(io.StringIO('''37107287533902102798797998220837590246510135740250\n",
    "46376937677490009712648124896970078050417018260538\n",
    "74324986199524741059474233309513058123726617309629\n",
    "91942213363574161572522430563301811072406154908250\n",
    "23067588207539346171171980310421047513778063246676\n",
    "89261670696623633820136378418383684178734361726757\n",
    "28112879812849979408065481931592621691275889832738\n",
    "44274228917432520321923589422876796487670272189318\n",
    "47451445736001306439091167216856844588711603153276\n",
    "70386486105843025439939619828917593665686757934951\n",
    "62176457141856560629502157223196586755079324193331\n",
    "64906352462741904929101432445813822663347944758178\n",
    "92575867718337217661963751590579239728245598838407\n",
    "58203565325359399008402633568948830189458628227828\n",
    "80181199384826282014278194139940567587151170094390\n",
    "35398664372827112653829987240784473053190104293586\n",
    "86515506006295864861532075273371959191420517255829\n",
    "71693888707715466499115593487603532921714970056938\n",
    "54370070576826684624621495650076471787294438377604\n",
    "53282654108756828443191190634694037855217779295145\n",
    "36123272525000296071075082563815656710885258350721\n",
    "45876576172410976447339110607218265236877223636045\n",
    "17423706905851860660448207621209813287860733969412\n",
    "81142660418086830619328460811191061556940512689692\n",
    "51934325451728388641918047049293215058642563049483\n",
    "62467221648435076201727918039944693004732956340691\n",
    "15732444386908125794514089057706229429197107928209\n",
    "55037687525678773091862540744969844508330393682126\n",
    "18336384825330154686196124348767681297534375946515\n",
    "80386287592878490201521685554828717201219257766954\n",
    "78182833757993103614740356856449095527097864797581\n",
    "16726320100436897842553539920931837441497806860984\n",
    "48403098129077791799088218795327364475675590848030\n",
    "87086987551392711854517078544161852424320693150332\n",
    "59959406895756536782107074926966537676326235447210\n",
    "69793950679652694742597709739166693763042633987085\n",
    "41052684708299085211399427365734116182760315001271\n",
    "65378607361501080857009149939512557028198746004375\n",
    "35829035317434717326932123578154982629742552737307\n",
    "94953759765105305946966067683156574377167401875275\n",
    "88902802571733229619176668713819931811048770190271\n",
    "25267680276078003013678680992525463401061632866526\n",
    "36270218540497705585629946580636237993140746255962\n",
    "24074486908231174977792365466257246923322810917141\n",
    "91430288197103288597806669760892938638285025333403\n",
    "34413065578016127815921815005561868836468420090470\n",
    "23053081172816430487623791969842487255036638784583\n",
    "11487696932154902810424020138335124462181441773470\n",
    "63783299490636259666498587618221225225512486764533\n",
    "67720186971698544312419572409913959008952310058822\n",
    "95548255300263520781532296796249481641953868218774\n",
    "76085327132285723110424803456124867697064507995236\n",
    "37774242535411291684276865538926205024910326572967\n",
    "23701913275725675285653248258265463092207058596522\n",
    "29798860272258331913126375147341994889534765745501\n",
    "18495701454879288984856827726077713721403798879715\n",
    "38298203783031473527721580348144513491373226651381\n",
    "34829543829199918180278916522431027392251122869539\n",
    "40957953066405232632538044100059654939159879593635\n",
    "29746152185502371307642255121183693803580388584903\n",
    "41698116222072977186158236678424689157993532961922\n",
    "62467957194401269043877107275048102390895523597457\n",
    "23189706772547915061505504953922979530901129967519\n",
    "86188088225875314529584099251203829009407770775672\n",
    "11306739708304724483816533873502340845647058077308\n",
    "82959174767140363198008187129011875491310547126581\n",
    "97623331044818386269515456334926366572897563400500\n",
    "42846280183517070527831839425882145521227251250327\n",
    "55121603546981200581762165212827652751691296897789\n",
    "32238195734329339946437501907836945765883352399886\n",
    "75506164965184775180738168837861091527357929701337\n",
    "62177842752192623401942399639168044983993173312731\n",
    "32924185707147349566916674687634660915035914677504\n",
    "99518671430235219628894890102423325116913619626622\n",
    "73267460800591547471830798392868535206946944540724\n",
    "76841822524674417161514036427982273348055556214818\n",
    "97142617910342598647204516893989422179826088076852\n",
    "87783646182799346313767754307809363333018982642090\n",
    "10848802521674670883215120185883543223812876952786\n",
    "71329612474782464538636993009049310363619763878039\n",
    "62184073572399794223406235393808339651327408011116\n",
    "66627891981488087797941876876144230030984490851411\n",
    "60661826293682836764744779239180335110989069790714\n",
    "85786944089552990653640447425576083659976645795096\n",
    "66024396409905389607120198219976047599490197230297\n",
    "64913982680032973156037120041377903785566085089252\n",
    "16730939319872750275468906903707539413042652315011\n",
    "94809377245048795150954100921645863754710598436791\n",
    "78639167021187492431995700641917969777599028300699\n",
    "15368713711936614952811305876380278410754449733078\n",
    "40789923115535562561142322423255033685442488917353\n",
    "44889911501440648020369068063960672322193204149535\n",
    "41503128880339536053299340368006977710650566631954\n",
    "81234880673210146739058568557934581403627822703280\n",
    "82616570773948327592232845941706525094512325230608\n",
    "22918802058777319719839450180888072429661980811197\n",
    "77158542502016545090413245809786882778948721859617\n",
    "72107838435069186155435662884062257473692284509516\n",
    "20849603980134001723930671666823555245252804609722\n",
    "53503534226472524250874054075591789781264330331690'''))\n",
    "\n",
    "out = sum(n_list)\n",
    "print(int(out / 10 ** int(np.log10(out) - n + 1)))"
   ]
  },
  {
   "cell_type": "code",
   "execution_count": 148,
   "metadata": {},
   "outputs": [
    {
     "name": "stdout",
     "output_type": "stream",
     "text": [
      "837799\n",
      "CPU times: user 6.45 s, sys: 221 ms, total: 6.67 s\n",
      "Wall time: 6.69 s\n"
     ]
    }
   ],
   "source": [
    "%%time\n",
    "## Problem 14: Longest Collatz sequence\n",
    "\n",
    "n_min = 2\n",
    "n_max = int(1e6)\n",
    "\n",
    "chain_val_dict = {}\n",
    "chain_len_dict = {1: 0}\n",
    "def chain(x):\n",
    "    if x != 1:\n",
    "        x_next = chain_val_dict.get(x)\n",
    "        if x_next is None:\n",
    "            if x % 2 == 1:\n",
    "                x_next = 3 * x + 1\n",
    "            else:\n",
    "                x_next = x // 2\n",
    "            chain_val_dict[x] = x_next\n",
    "            chain(x_next)\n",
    "        chain_len_dict[x] = chain_len_dict[x_next] + 1\n",
    "\n",
    "[chain(i) for i in range(n_min, n_max)]\n",
    "print(pd.Series(chain_len_dict)[:n_max].argmax())"
   ]
  },
  {
   "cell_type": "code",
   "execution_count": 147,
   "metadata": {},
   "outputs": [
    {
     "name": "stdout",
     "output_type": "stream",
     "text": [
      "137846528820\n",
      "CPU times: user 414 µs, sys: 449 µs, total: 863 µs\n",
      "Wall time: 788 µs\n"
     ]
    }
   ],
   "source": [
    "%%time\n",
    "## Problem 15: Lattice paths\n",
    "\n",
    "n = 20\n",
    "\n",
    "print(special.comb(2 * n, n, exact=True))"
   ]
  },
  {
   "cell_type": "code",
   "execution_count": 146,
   "metadata": {},
   "outputs": [
    {
     "name": "stdout",
     "output_type": "stream",
     "text": [
      "1366\n",
      "CPU times: user 589 µs, sys: 385 µs, total: 974 µs\n",
      "Wall time: 644 µs\n"
     ]
    }
   ],
   "source": [
    "%%time\n",
    "## Problem 16: Power digit sum\n",
    "\n",
    "n = 2 ** 1000\n",
    "\n",
    "print(np.array(list(str(n)), dtype=\"int\").sum())"
   ]
  },
  {
   "cell_type": "code",
   "execution_count": 145,
   "metadata": {},
   "outputs": [
    {
     "name": "stdout",
     "output_type": "stream",
     "text": [
      "21124\n",
      "CPU times: user 1.89 s, sys: 12 ms, total: 1.9 s\n",
      "Wall time: 1.92 s\n"
     ]
    }
   ],
   "source": [
    "%%time\n",
    "## Problem 17: Number letter counts\n",
    "\n",
    "n_max = 1000\n",
    "\n",
    "print(len(\"\".join([num2words.num2words(i) for i in 1 + np.arange(n_max)]).replace(\" \", \"\").replace(\"-\", \"\")))"
   ]
  },
  {
   "cell_type": "code",
   "execution_count": 144,
   "metadata": {},
   "outputs": [
    {
     "name": "stdout",
     "output_type": "stream",
     "text": [
      "1074\n",
      "CPU times: user 4.92 ms, sys: 4.67 ms, total: 9.6 ms\n",
      "Wall time: 9.3 ms\n"
     ]
    }
   ],
   "source": [
    "%%time\n",
    "## Problem 18: Maximum path sum I\n",
    "\n",
    "A = pd.read_fwf(io.StringIO('''75\n",
    "95 64\n",
    "17 47 82\n",
    "18 35 87 10\n",
    "20 04 82 47 65\n",
    "19 01 23 75 03 34\n",
    "88 02 77 73 07 63 67\n",
    "99 65 04 28 06 16 70 92\n",
    "41 41 26 56 83 40 80 70 33\n",
    "41 48 72 33 47 32 37 16 94 29\n",
    "53 71 44 65 25 43 91 52 97 51 14\n",
    "70 11 33 28 77 73 17 78 39 68 17 57\n",
    "91 71 52 38 17 14 91 43 58 50 27 29 48\n",
    "63 66 04 68 89 53 67 30 73 16 69 87 40 31\n",
    "04 62 98 27 23 09 70 98 73 93 38 53 60 04 23'''), delim_whitespace=True, header=None).fillna(0).values.astype('int')\n",
    "\n",
    "A_cum = A.copy()\n",
    "A_choice = np.zeros(A.shape, dtype=\"int\")\n",
    "for i in np.arange(len(A)-1, 0, -1):\n",
    "    A_choice[i - 1, :-1] = (np.diff(A_cum[i]) > 0).astype(\"int\")\n",
    "    A_cum[i - 1] += A_cum[i, np.arange(len(A)) + A_choice[i - 1]]\n",
    "print(A_cum[0, 0])"
   ]
  },
  {
   "cell_type": "code",
   "execution_count": 143,
   "metadata": {},
   "outputs": [
    {
     "name": "stdout",
     "output_type": "stream",
     "text": [
      "171\n",
      "CPU times: user 76.6 ms, sys: 3 ms, total: 79.6 ms\n",
      "Wall time: 83.1 ms\n"
     ]
    }
   ],
   "source": [
    "%%time\n",
    "## Problem 19: Counting Sundays\n",
    "\n",
    "date_begin = \"1901-01-01\"\n",
    "date_end = \"2000-12-31\"\n",
    "\n",
    "S = pd.Series(pd.date_range(date_begin, date_end, freq=\"MS\").strftime('%A'))\n",
    "print(S.value_counts()[\"Sunday\"])"
   ]
  },
  {
   "cell_type": "code",
   "execution_count": 142,
   "metadata": {},
   "outputs": [
    {
     "name": "stdout",
     "output_type": "stream",
     "text": [
      "648\n",
      "CPU times: user 570 µs, sys: 347 µs, total: 917 µs\n",
      "Wall time: 576 µs\n"
     ]
    }
   ],
   "source": [
    "%%time\n",
    "## Problem 20: Factorial digit sum\n",
    "\n",
    "n = 100\n",
    "\n",
    "print(np.array(list(str(special.factorial(n, exact=True))), dtype=\"int\").sum())"
   ]
  },
  {
   "cell_type": "code",
   "execution_count": 141,
   "metadata": {},
   "outputs": [
    {
     "name": "stdout",
     "output_type": "stream",
     "text": [
      "31626\n",
      "CPU times: user 323 ms, sys: 3.42 ms, total: 326 ms\n",
      "Wall time: 332 ms\n"
     ]
    }
   ],
   "source": [
    "%%time\n",
    "## Problem 21: Amicable numbers\n",
    "\n",
    "n_max = 10000\n",
    "\n",
    "def sum_divisors(x):\n",
    "    return(sum(sympy.divisors(x)[:-1]))\n",
    "\n",
    "S = pd.Series([sum_divisors(i) for i in np.arange(n_max)])\n",
    "print(S.index.values[(S.index == S.loc[S.values]) & (S.index != S.values)].sum())"
   ]
  },
  {
   "cell_type": "code",
   "execution_count": 140,
   "metadata": {},
   "outputs": [
    {
     "name": "stdout",
     "output_type": "stream",
     "text": [
      "871198282\n",
      "CPU times: user 1.73 s, sys: 27.6 ms, total: 1.75 s\n",
      "Wall time: 2.71 s\n"
     ]
    }
   ],
   "source": [
    "%%time\n",
    "## Problem 22: Names scores\n",
    "\n",
    "df = pd.read_csv(\"https://projecteuler.net/project/resources/p022_names.txt\").T\n",
    "\n",
    "S = df.sort_index().reset_index()[\"index\"]\n",
    "print((S.apply(lambda x: sum([ord(i) - 64 for i in list(x)])) * (S.index.values + 1)).sum())"
   ]
  },
  {
   "cell_type": "code",
   "execution_count": 139,
   "metadata": {},
   "outputs": [
    {
     "name": "stdout",
     "output_type": "stream",
     "text": [
      "4179871\n",
      "CPU times: user 2.85 s, sys: 318 ms, total: 3.17 s\n",
      "Wall time: 3.26 s\n"
     ]
    }
   ],
   "source": [
    "%%time\n",
    "## Problem 23: Non-abundant sums\n",
    "\n",
    "n_max = 28123\n",
    "\n",
    "def sum_divisors(x):\n",
    "    return(sum(sympy.divisors(x)[:-1]))\n",
    "\n",
    "S = pd.Series([sum_divisors(i) for i in np.arange(n_max)])\n",
    "n_list = S.index.values[S.index < S.values]\n",
    "print(S.index.difference(np.unique(np.add.outer(n_list, n_list))).values.sum())"
   ]
  },
  {
   "cell_type": "code",
   "execution_count": 138,
   "metadata": {},
   "outputs": [
    {
     "name": "stdout",
     "output_type": "stream",
     "text": [
      "2783915460\n",
      "CPU times: user 209 µs, sys: 89 µs, total: 298 µs\n",
      "Wall time: 247 µs\n"
     ]
    }
   ],
   "source": [
    "%%time\n",
    "## Problem 24: Lexicographic permutations\n",
    "\n",
    "n = 10\n",
    "n_th = int(1e6)\n",
    "\n",
    "n_list = list(range(n))\n",
    "out = 0\n",
    "n_th -= 1\n",
    "for i in reversed(range(n)):\n",
    "    i_val = special.factorial(i, exact=True)\n",
    "    out += n_list.pop(n_th // i_val) * 10 ** i\n",
    "    n_th %= i_val\n",
    "print(out)"
   ]
  },
  {
   "cell_type": "code",
   "execution_count": 137,
   "metadata": {},
   "outputs": [
    {
     "name": "stdout",
     "output_type": "stream",
     "text": [
      "4782\n",
      "CPU times: user 442 µs, sys: 320 µs, total: 762 µs\n",
      "Wall time: 489 µs\n"
     ]
    }
   ],
   "source": [
    "%%time\n",
    "## Problem 25: 1000-digit Fibonacci number\n",
    "\n",
    "n = 1000\n",
    "\n",
    "i = 3\n",
    "i_val = 2\n",
    "phi = (1 + np.sqrt(5)) / 2\n",
    "print(int(np.ceil((n - 1 - np.log10(i_val)) / np.log10(phi) + i)))"
   ]
  },
  {
   "cell_type": "code",
   "execution_count": 136,
   "metadata": {},
   "outputs": [
    {
     "name": "stdout",
     "output_type": "stream",
     "text": [
      "983\n",
      "CPU times: user 107 ms, sys: 2.68 ms, total: 110 ms\n",
      "Wall time: 108 ms\n"
     ]
    }
   ],
   "source": [
    "%%time\n",
    "## Problem 26: Reciprocal cycles\n",
    "\n",
    "n_max = 1000\n",
    "\n",
    "out = []\n",
    "for i in range(1, n_max):\n",
    "    out.append(list(sympy.cycle_length(lambda x: 10 * x % i, 1))[0][0])\n",
    "print(np.argmax(out) + 1)"
   ]
  },
  {
   "cell_type": "code",
   "execution_count": 135,
   "metadata": {},
   "outputs": [
    {
     "name": "stdout",
     "output_type": "stream",
     "text": [
      "-59231\n",
      "CPU times: user 16.9 s, sys: 756 ms, total: 17.7 s\n",
      "Wall time: 17.8 s\n"
     ]
    }
   ],
   "source": [
    "%%time\n",
    "## Problem 27: Quadratic primes\n",
    "\n",
    "a_bound = 1000\n",
    "\n",
    "a_list = np.arange(-a_bound, a_bound + 1)\n",
    "A_choice = np.ones((len(a_list), len(a_list)), dtype=\"bool\")\n",
    "\n",
    "for n in itertools.count():\n",
    "    A = n ** 2 + np.add.outer(n * a_list, a_list)\n",
    "    A_update = [sympy.isprime(i) for i in A[A_choice]]\n",
    "    if np.any(A_update) == False:\n",
    "        break\n",
    "    A_choice[A_choice] = A_update\n",
    "print(np.prod([a_list[i[0]] for i in np.where(A_choice)]))"
   ]
  },
  {
   "cell_type": "code",
   "execution_count": 134,
   "metadata": {},
   "outputs": [
    {
     "name": "stdout",
     "output_type": "stream",
     "text": [
      "669171001\n",
      "CPU times: user 421 µs, sys: 222 µs, total: 643 µs\n",
      "Wall time: 486 µs\n"
     ]
    }
   ],
   "source": [
    "%%time\n",
    "## Problem 28: Number spiral diagonals\n",
    "\n",
    "n = 1001\n",
    "\n",
    "print(4 * np.cumsum(np.insert(5 + np.arange((n + 1) // 2 - 1) * 8, 0, 1)).sum() - 3)"
   ]
  },
  {
   "cell_type": "code",
   "execution_count": 133,
   "metadata": {},
   "outputs": [
    {
     "name": "stdout",
     "output_type": "stream",
     "text": [
      "9183\n",
      "CPU times: user 1.78 ms, sys: 1.17 ms, total: 2.94 ms\n",
      "Wall time: 1.38 ms\n"
     ]
    }
   ],
   "source": [
    "%%time\n",
    "## Problem 29: Distinct powers\n",
    "\n",
    "n_min = 2\n",
    "n_max = 100\n",
    "\n",
    "n_list = np.arange(n_min, n_max + 1, dtype=\"float\")\n",
    "print(len(np.unique(np.power.outer(n_list, n_list))))"
   ]
  },
  {
   "cell_type": "code",
   "execution_count": 132,
   "metadata": {},
   "outputs": [
    {
     "name": "stdout",
     "output_type": "stream",
     "text": [
      "443839\n",
      "CPU times: user 60.6 ms, sys: 9.38 ms, total: 70 ms\n",
      "Wall time: 68.9 ms\n"
     ]
    }
   ],
   "source": [
    "%%time\n",
    "## Problem 30: Digit fifth powers\n",
    "\n",
    "n = 5\n",
    "\n",
    "n_list = np.arange(2, 9 ** n * n)\n",
    "S = pd.Series(functools.reduce(np.add, [(n_list // (10 ** i) % 10) ** n for i in np.arange(n + 1)]), n_list)\n",
    "print(sum(S.index[S == S.index].values))"
   ]
  },
  {
   "cell_type": "code",
   "execution_count": 131,
   "metadata": {},
   "outputs": [
    {
     "name": "stdout",
     "output_type": "stream",
     "text": [
      "73682\n",
      "CPU times: user 481 ms, sys: 13.5 ms, total: 494 ms\n",
      "Wall time: 500 ms\n"
     ]
    }
   ],
   "source": [
    "%%time\n",
    "## Problem 31: Coin sums\n",
    "\n",
    "n = 200\n",
    "n_list = [1, 2, 5, 10, 20, 50, 100, 200]\n",
    "\n",
    "def count_coin(x, val):\n",
    "    if x == 0:\n",
    "        return([[val]])\n",
    "    out = []\n",
    "    for i in range(val // n_list[x] + 1):\n",
    "        out += [j + [i] for j in count_coin(x - 1, val - n_list[x] * i)]\n",
    "    return(out)\n",
    "print(len(count_coin(len(n_list) - 1, 200)))"
   ]
  },
  {
   "cell_type": "code",
   "execution_count": 130,
   "metadata": {},
   "outputs": [
    {
     "name": "stdout",
     "output_type": "stream",
     "text": [
      "45228\n",
      "CPU times: user 430 ms, sys: 3.23 ms, total: 434 ms\n",
      "Wall time: 439 ms\n"
     ]
    }
   ],
   "source": [
    "%%time\n",
    "## Problem 32: Pandigital products\n",
    "\n",
    "n_list = np.arange(1, 10)\n",
    "\n",
    "out = []\n",
    "for i in n_list:\n",
    "    for j in n_list:\n",
    "        res_list = np.setdiff1d(n_list, [i, j, (i * j) % 10])\n",
    "        if len(res_list) == 6:\n",
    "            for k in itertools.permutations(res_list, 3):\n",
    "                k_val_0 = (i + k[0] * 10 + k[1] * 100 + k[2] * 1000) * j\n",
    "                k_val_1 = (i + k[0] * 10 + k[1] * 100) * (j + k[2] * 10)\n",
    "                prod_list = list(np.setdiff1d(res_list, k))\n",
    "                if list(np.sort([int(x) for x in str(k_val_0)[:-1]])) == prod_list:\n",
    "                    out.append(k_val_0)\n",
    "                if list(np.sort([int(x) for x in str(k_val_1)[:-1]])) == prod_list:\n",
    "                    out.append(k_val_1)\n",
    "print(sum(np.unique(out)))"
   ]
  },
  {
   "cell_type": "code",
   "execution_count": 129,
   "metadata": {},
   "outputs": [
    {
     "name": "stdout",
     "output_type": "stream",
     "text": [
      "100\n",
      "CPU times: user 14.5 ms, sys: 1.92 ms, total: 16.5 ms\n",
      "Wall time: 15.5 ms\n"
     ]
    }
   ],
   "source": [
    "%%time\n",
    "## Problem 33: Digit cancelling fractions\n",
    "\n",
    "out = []\n",
    "for i in range(1, 10):\n",
    "    for j in range(1, i):\n",
    "        i_val = sympy.Rational(j, i)\n",
    "        for k in range(1, 10):\n",
    "            if sympy.Rational(10 * k + j, 10 * i + k) == i_val:\n",
    "                out.append(i_val)\n",
    "            if sympy.Rational(10 * j + k, 10 * k + i) == i_val:\n",
    "                out.append(i_val)\n",
    "print(sympy.prod(out).q)"
   ]
  },
  {
   "cell_type": "code",
   "execution_count": 128,
   "metadata": {},
   "outputs": [
    {
     "name": "stdout",
     "output_type": "stream",
     "text": [
      "40730\n",
      "CPU times: user 618 ms, sys: 3.27 ms, total: 621 ms\n",
      "Wall time: 626 ms\n"
     ]
    }
   ],
   "source": [
    "%%time\n",
    "## Problem 34: Digit factorials\n",
    "\n",
    "n_min = 10\n",
    "\n",
    "n_max = special.factorial(9, exact=True)\n",
    "n_dict = {str(i): special.factorial(i, exact=True) for i in range(10)}\n",
    "print(sum(i for i in range(n_min, n_max) if sum(n_dict[j] for j in str(i)) == i))"
   ]
  },
  {
   "cell_type": "code",
   "execution_count": 127,
   "metadata": {},
   "outputs": [
    {
     "name": "stdout",
     "output_type": "stream",
     "text": [
      "55\n",
      "CPU times: user 5.95 s, sys: 16.7 ms, total: 5.97 s\n",
      "Wall time: 5.99 s\n"
     ]
    }
   ],
   "source": [
    "%%time\n",
    "## Problem 35: Circular primes\n",
    "\n",
    "n_max = int(1e6)\n",
    "\n",
    "n_list = set(sympy.primerange(1, n_max))\n",
    "out = []\n",
    "for i in n_list:\n",
    "    i_len = 1 + int(np.log10(i))\n",
    "    i_val = set(int((str(i) * 2)[j:(j+i_len)]) for j in range(i_len))\n",
    "    if i_val.issubset(n_list):\n",
    "        out.append(i)\n",
    "print(len(out))"
   ]
  },
  {
   "cell_type": "code",
   "execution_count": 126,
   "metadata": {},
   "outputs": [
    {
     "name": "stdout",
     "output_type": "stream",
     "text": [
      "872187\n",
      "CPU times: user 4.97 ms, sys: 374 µs, total: 5.34 ms\n",
      "Wall time: 5.12 ms\n"
     ]
    }
   ],
   "source": [
    "%%time\n",
    "## Problem 36: Double-base palindromes\n",
    "\n",
    "n_max = 1000\n",
    "\n",
    "out = []\n",
    "for i in range(1, n_max):\n",
    "    i_val_0 = int(str(i)[:-1] + str(i)[::-1])\n",
    "    i_val_1 = int(str(i) + str(i)[::-1])\n",
    "    i_val_0_base2 = \"{0:b}\".format(i_val_0)\n",
    "    i_val_1_base2 = \"{0:b}\".format(i_val_1)\n",
    "    if i_val_0_base2 == i_val_0_base2[::-1]:\n",
    "        out.append(i_val_0)\n",
    "    if i_val_1_base2 == i_val_1_base2[::-1]:\n",
    "        out.append(i_val_1)\n",
    "print(sum(out))"
   ]
  },
  {
   "cell_type": "code",
   "execution_count": 125,
   "metadata": {},
   "outputs": [
    {
     "name": "stdout",
     "output_type": "stream",
     "text": [
      "748317\n",
      "CPU times: user 3.75 s, sys: 9.7 ms, total: 3.76 s\n",
      "Wall time: 3.78 s\n"
     ]
    }
   ],
   "source": [
    "%%time\n",
    "## Problem 37: Truncatable primes\n",
    "\n",
    "n_min = 10\n",
    "n_stop = 11\n",
    "\n",
    "n_max = int(1e9)\n",
    "n_list = sympy.primerange(n_min, n_max)\n",
    "out = []\n",
    "left_list = {2, 3, 5, 7}\n",
    "right_list = {2, 3, 5, 7}\n",
    "for i in n_list:\n",
    "    if i // 10 in left_list:\n",
    "        left_list.add(i)\n",
    "    if int(str(i)[1:]) in right_list:\n",
    "        right_list.add(i)\n",
    "        if i // 10 in left_list:\n",
    "            out.append(i)\n",
    "            if len(out) >= n_stop:\n",
    "                break\n",
    "print(sum(out))"
   ]
  },
  {
   "cell_type": "code",
   "execution_count": 124,
   "metadata": {},
   "outputs": [
    {
     "name": "stdout",
     "output_type": "stream",
     "text": [
      "932718654\n",
      "CPU times: user 260 ms, sys: 1.95 ms, total: 262 ms\n",
      "Wall time: 268 ms\n"
     ]
    }
   ],
   "source": [
    "%%time\n",
    "## Problem 38: Pandigital multiples\n",
    "\n",
    "n_list = np.arange(1, 10)\n",
    "\n",
    "out = []\n",
    "for i in [4]:\n",
    "    for j in itertools.permutations(n_list, i):\n",
    "        res_list = np.setdiff1d(n_list, j)\n",
    "        i_val = int(\"\".join([str(k) for k in j]))\n",
    "        i_val_list = [int(k) for k in str(2 * i_val)]\n",
    "        if list(np.sort(i_val_list)) == list(res_list):\n",
    "            out.append(int(\"\".join([str(k) for k in list(j) + i_val_list])))\n",
    "print(max(out))"
   ]
  },
  {
   "cell_type": "code",
   "execution_count": 123,
   "metadata": {},
   "outputs": [
    {
     "name": "stdout",
     "output_type": "stream",
     "text": [
      "840\n",
      "CPU times: user 737 ms, sys: 352 ms, total: 1.09 s\n",
      "Wall time: 1.1 s\n"
     ]
    }
   ],
   "source": [
    "%%time\n",
    "## Problem 39: Integer right triangles\n",
    "\n",
    "n_max = 1000\n",
    "n_min = 10\n",
    "\n",
    "n_list = np.arange(n_min, n_max + 1)\n",
    "out = []\n",
    "for i in n_list:\n",
    "    a_list = np.arange(1, i // 2)\n",
    "    A = (i - np.add.outer(a_list, a_list)) ** 2 == np.add.outer(a_list ** 2, a_list ** 2)\n",
    "    out.append(np.sum(A))\n",
    "print(n_list[np.argmax(out)])"
   ]
  },
  {
   "cell_type": "code",
   "execution_count": 122,
   "metadata": {},
   "outputs": [
    {
     "name": "stdout",
     "output_type": "stream",
     "text": [
      "840\n",
      "CPU times: user 1.91 s, sys: 129 ms, total: 2.04 s\n",
      "Wall time: 2.19 s\n"
     ]
    }
   ],
   "source": [
    "%%time\n",
    "## Problem 39: Integer right triangles\n",
    "### Alternative solve 1\n",
    "\n",
    "n_max = 1000\n",
    "n_min = 10\n",
    "\n",
    "@numba.jit\n",
    "def right_triangle_solve(p, a, b):\n",
    "    return(a ** 2 + b ** 2 - (p - a - b) ** 2)\n",
    "\n",
    "n_list = np.arange(n_min, n_max + 1)\n",
    "out = []\n",
    "for i in n_list:\n",
    "    b = (i - 1) // 2\n",
    "    count = 0\n",
    "    for a in np.arange(1, i // 2):\n",
    "        b = round(optimize.brentq(lambda x: right_triangle_solve(i, a, x), b - 3, b + 1, xtol = 0.5))\n",
    "        if right_triangle_solve(i, a, b) == 0:\n",
    "            count += 1\n",
    "    out.append(count)\n",
    "print(n_list[np.argmax(out)])"
   ]
  },
  {
   "cell_type": "code",
   "execution_count": 121,
   "metadata": {},
   "outputs": [
    {
     "name": "stdout",
     "output_type": "stream",
     "text": [
      "210\n",
      "CPU times: user 329 ms, sys: 29.8 ms, total: 359 ms\n",
      "Wall time: 364 ms\n"
     ]
    }
   ],
   "source": [
    "%%time\n",
    "## Problem 40: Champernowne's constant\n",
    "\n",
    "n_max = int(1e6)\n",
    "n_list = [1, 10, 100, 1000, 10000, 100000, 1000000]\n",
    "\n",
    "s = \"\".join([str(i) for i in range(n_max)])\n",
    "print(np.prod([int(s[i]) for i in n_list]))"
   ]
  },
  {
   "cell_type": "code",
   "execution_count": 120,
   "metadata": {},
   "outputs": [
    {
     "name": "stdout",
     "output_type": "stream",
     "text": [
      "7652413\n",
      "CPU times: user 5.91 s, sys: 14.9 ms, total: 5.92 s\n",
      "Wall time: 5.95 s\n"
     ]
    }
   ],
   "source": [
    "%%time\n",
    "## Problem 41: Pandigital prime\n",
    "\n",
    "n_list = range(1, 10)\n",
    "\n",
    "out = []\n",
    "for i in n_list:\n",
    "    for j in itertools.permutations(range(1, i + 1)):\n",
    "        i_val = int(\"\".join([str(k) for k in j]))\n",
    "        if sympy.isprime(i_val):\n",
    "            out.append(i_val)\n",
    "print(max(out))"
   ]
  },
  {
   "cell_type": "code",
   "execution_count": 119,
   "metadata": {},
   "outputs": [
    {
     "name": "stdout",
     "output_type": "stream",
     "text": [
      "162\n",
      "CPU times: user 31.3 ms, sys: 11.4 ms, total: 42.6 ms\n",
      "Wall time: 1.49 s\n"
     ]
    }
   ],
   "source": [
    "%%time\n",
    "## Problem 42: Coded triangle numbers\n",
    "\n",
    "url = requests.get(\"https://projecteuler.net/project/resources/p042_words.txt\")\n",
    "\n",
    "out = np.bincount([sum(ord(j) - 64 for j in i[1:-1]) for i in url.text.split(\",\")])\n",
    "n_list = np.arange(1, np.sqrt(2 * len(out)) + 1, dtype = \"int\")\n",
    "n_list = n_list * (n_list + 1) // 2\n",
    "print(sum(out[n_list[n_list < len(out)]]))"
   ]
  },
  {
   "cell_type": "code",
   "execution_count": 118,
   "metadata": {},
   "outputs": [
    {
     "name": "stdout",
     "output_type": "stream",
     "text": [
      "16695334890\n",
      "CPU times: user 6.97 s, sys: 14.1 ms, total: 6.98 s\n",
      "Wall time: 7 s\n"
     ]
    }
   ],
   "source": [
    "%%time\n",
    "## Problem 43: Sub-string divisibility\n",
    "\n",
    "n_list = range(10)\n",
    "a_list = [2, 3, 5, 7, 11, 13, 17]\n",
    "\n",
    "print(sum([int(\"\".join(str(j) for j in i)) for i in itertools.permutations(n_list) \n",
    "     if all((i[j + 1] * 100 + i[j + 2] * 10 + i[j + 3]) % j_val == 0 for j, j_val in enumerate(a_list))]))"
   ]
  },
  {
   "cell_type": "code",
   "execution_count": 117,
   "metadata": {},
   "outputs": [
    {
     "name": "stdout",
     "output_type": "stream",
     "text": [
      "5482660\n",
      "CPU times: user 480 ms, sys: 2.38 ms, total: 482 ms\n",
      "Wall time: 488 ms\n"
     ]
    }
   ],
   "source": [
    "%%time\n",
    "## Problem 44: Pentagon numbers\n",
    "\n",
    "def pentagonal(x):\n",
    "    return(x * (3 * x - 1) // 2)\n",
    "\n",
    "def pentagonal_solve():\n",
    "    n_list = set()\n",
    "    a_list = []\n",
    "    for i in itertools.count(1):\n",
    "        i_val = pentagonal(i)\n",
    "        n_list.add(pentagonal(2 * i))\n",
    "        n_list.add(pentagonal(2 * i + 1))\n",
    "        for j in a_list:\n",
    "            if ((i_val - j) in n_list) & ((2 * i_val - j) in n_list):\n",
    "                return(j)\n",
    "        a_list.append(i_val)\n",
    "        \n",
    "print(pentagonal_solve())"
   ]
  },
  {
   "cell_type": "code",
   "execution_count": 116,
   "metadata": {},
   "outputs": [
    {
     "name": "stdout",
     "output_type": "stream",
     "text": [
      "1533776805\n",
      "CPU times: user 84.1 ms, sys: 3.97 ms, total: 88 ms\n",
      "Wall time: 93.8 ms\n"
     ]
    }
   ],
   "source": [
    "%%time\n",
    "## Problem 45: Triangular, pentagonal, and hexagonal\n",
    "\n",
    "n_min = 285\n",
    "\n",
    "n_list_pen = set()\n",
    "n_list_hex = set()\n",
    "for i in itertools.count(2):\n",
    "    i_val = i * (i + 1) // 2\n",
    "    n_list_pen.add(i * (3 * i - 1) // 2)\n",
    "    n_list_hex.add(i * (2 * i - 1))\n",
    "    if (i > n_min) & (i_val in n_list_pen) & (i_val in n_list_hex):\n",
    "        break\n",
    "print(i_val)"
   ]
  },
  {
   "cell_type": "code",
   "execution_count": 115,
   "metadata": {},
   "outputs": [
    {
     "name": "stdout",
     "output_type": "stream",
     "text": [
      "5777\n",
      "CPU times: user 12.1 s, sys: 29 ms, total: 12.1 s\n",
      "Wall time: 12.1 s\n"
     ]
    }
   ],
   "source": [
    "%%time\n",
    "## Problem 46: Goldbach's other conjecture\n",
    "\n",
    "for i in itertools.count(1):\n",
    "    i_val = 2 * i + 1\n",
    "    if not sympy.isprime(i_val):\n",
    "        i_choice = np.sqrt((i_val - np.array(list(sympy.primerange(1, i_val)))) / 2)\n",
    "        if (i_choice.round(0) != i_choice).all():\n",
    "            break\n",
    "print(i_val)"
   ]
  },
  {
   "cell_type": "code",
   "execution_count": 114,
   "metadata": {},
   "outputs": [
    {
     "name": "stdout",
     "output_type": "stream",
     "text": [
      "134043\n",
      "CPU times: user 3.3 s, sys: 10.6 ms, total: 3.31 s\n",
      "Wall time: 3.33 s\n"
     ]
    }
   ],
   "source": [
    "%%time\n",
    "## Problem 47: Distinct primes factors\n",
    "\n",
    "n = 4\n",
    "\n",
    "count = 0\n",
    "for i in itertools.count():\n",
    "    i_val = len(sympy.primefactors(i))\n",
    "    if i_val == n:\n",
    "        count += 1\n",
    "        if count >= n:\n",
    "            break\n",
    "    else:\n",
    "        count = 0\n",
    "print(i - 3)"
   ]
  },
  {
   "cell_type": "code",
   "execution_count": 113,
   "metadata": {},
   "outputs": [
    {
     "name": "stdout",
     "output_type": "stream",
     "text": [
      "9110846700\n",
      "CPU times: user 142 ms, sys: 2.17 ms, total: 144 ms\n",
      "Wall time: 142 ms\n"
     ]
    }
   ],
   "source": [
    "%%time\n",
    "## Problem 48: Self powers\n",
    "\n",
    "n_max = 1000\n",
    "n = 10\n",
    "\n",
    "def power_last_digits(x, n):\n",
    "    out = 1\n",
    "    a = int(10 ** n)\n",
    "    for i in range(x):\n",
    "        out *= x\n",
    "        out %= a\n",
    "    return(out)\n",
    "print(sum(power_last_digits(i, n) for i in 1 + np.arange(n_max)) % int(10 ** n))"
   ]
  },
  {
   "cell_type": "code",
   "execution_count": 112,
   "metadata": {},
   "outputs": [
    {
     "name": "stdout",
     "output_type": "stream",
     "text": [
      "296962999629\n",
      "CPU times: user 71 ms, sys: 819 µs, total: 71.8 ms\n",
      "Wall time: 74.1 ms\n"
     ]
    }
   ],
   "source": [
    "%%time\n",
    "## Problem 49: Prime permutations\n",
    "\n",
    "n = 3\n",
    "n_min = 1000\n",
    "n_max = 10000\n",
    "n_exclude = 4817\n",
    "\n",
    "def prime_perm():\n",
    "    n_list = list(sympy.primerange(n_min, n_max))\n",
    "    S = pd.Series([tuple(np.sort(list(str(i)))) for i in n_list], n_list, name=\"perm\")\n",
    "    for i_key, i in S.reset_index().groupby(\"perm\")[\"index\"]:\n",
    "        if len(i) >= 3:\n",
    "            i_val = np.abs(np.add.outer(i, -i))\n",
    "            for j in range(len(i_val)):\n",
    "                if (len(np.unique(i_val[j])) < len(i_val)) & (i.values[j] != n_exclude):\n",
    "                    j_val = pd.Series(i_val[j]).duplicated(keep = False)\n",
    "                    return(int(\"\".join(str(i.values[k]) for k in [j_val.index[j_val][0], j, j_val.index[j_val][1]])))\n",
    "print(prime_perm())"
   ]
  },
  {
   "cell_type": "code",
   "execution_count": 111,
   "metadata": {},
   "outputs": [
    {
     "name": "stdout",
     "output_type": "stream",
     "text": [
      "997651\n",
      "CPU times: user 16.9 s, sys: 89.2 ms, total: 16.9 s\n",
      "Wall time: 17 s\n"
     ]
    }
   ],
   "source": [
    "%%time\n",
    "## Problem 50: Consecutive prime sum\n",
    "\n",
    "n_max = int(1e6)\n",
    "\n",
    "n_list = np.array(list(sympy.primerange(1, n_max)))\n",
    "out = np.zeros(n_max)\n",
    "for i in range(len(n_list)):\n",
    "    i_val = n_list[i:].cumsum()\n",
    "    i_val = i_val[i_val < n_max]\n",
    "    out[i_val] = np.maximum(out[i_val], 1 + np.arange(len(i_val)))\n",
    "print(n_list[np.argmax(out[n_list])])"
   ]
  },
  {
   "cell_type": "code",
   "execution_count": 109,
   "metadata": {},
   "outputs": [
    {
     "name": "stdout",
     "output_type": "stream",
     "text": [
      "121313\n",
      "CPU times: user 20 s, sys: 209 ms, total: 20.2 s\n",
      "Wall time: 20.1 s\n"
     ]
    }
   ],
   "source": [
    "%%time\n",
    "## Problem 51: Prime digit replacements\n",
    "\n",
    "len_min = 8\n",
    "\n",
    "for n in itertools.count(2):\n",
    "    n_list = list(sympy.primerange(10 ** (n - 1), 10 ** n))\n",
    "    df = pd.DataFrame([[int(j) for j in str(i)] for i in n_list], n_list)\n",
    "    out = []\n",
    "    for i in range(1, n):\n",
    "        for j in itertools.combinations(np.arange(1, n), i):\n",
    "            j_val = np.setdiff1d(np.arange(n), j)\n",
    "            if len(j_val) == 1:\n",
    "                for k_key, k in df.groupby(j):\n",
    "                    if len(k) >= len_min:\n",
    "                        out.append(min(k.index.values))\n",
    "            else:\n",
    "                for k_key, k in df.groupby(j):\n",
    "                    k_val = (np.diff(k.values[:, j_val], axis=1) == 0).all(axis=1)\n",
    "                    if sum(k_val) >= len_min:\n",
    "                        out.append(min(k.index.values[k_val]))\n",
    "    if out:\n",
    "        break\n",
    "print(min(out))"
   ]
  },
  {
   "cell_type": "code",
   "execution_count": 110,
   "metadata": {},
   "outputs": [
    {
     "name": "stdout",
     "output_type": "stream",
     "text": [
      "142857\n",
      "CPU times: user 1.98 s, sys: 8.75 ms, total: 1.99 s\n",
      "Wall time: 2 s\n"
     ]
    }
   ],
   "source": [
    "%%time\n",
    "## Problem 52: Permuted multiples\n",
    "\n",
    "n = 6\n",
    "\n",
    "def contain_digit(x):\n",
    "    return(np.sort(list(str(x))))\n",
    "\n",
    "for i in itertools.count(1):\n",
    "    i += 10 ** len(str(i))\n",
    "    i_val = contain_digit(i)\n",
    "    if all(np.array_equal(i_val, contain_digit(j * i)) for j in np.arange(2, n)):\n",
    "        break\n",
    "print(i)"
   ]
  },
  {
   "cell_type": "code",
   "execution_count": 163,
   "metadata": {},
   "outputs": [
    {
     "name": "stdout",
     "output_type": "stream",
     "text": [
      "4075\n",
      "CPU times: user 10.9 ms, sys: 916 µs, total: 11.8 ms\n",
      "Wall time: 11.1 ms\n"
     ]
    }
   ],
   "source": [
    "%%time\n",
    "## Problem 53: Combinatoric selections\n",
    "\n",
    "n_max = 100\n",
    "n_val_max = int(1e6)\n",
    "\n",
    "out = []\n",
    "for i in 1 + np.arange(n_max):\n",
    "    for j in np.arange(i + 1):\n",
    "        j_val = special.comb(i, j)\n",
    "        if j_val > n_val_max:\n",
    "            j = j * 2 - 1\n",
    "            break\n",
    "    out.append(i - j)\n",
    "print(sum(out))"
   ]
  },
  {
   "cell_type": "code",
   "execution_count": 244,
   "metadata": {},
   "outputs": [
    {
     "name": "stdout",
     "output_type": "stream",
     "text": [
      "376\n",
      "CPU times: user 494 ms, sys: 4.41 ms, total: 498 ms\n",
      "Wall time: 985 ms\n"
     ]
    }
   ],
   "source": [
    "%%time\n",
    "## Problem 54: Poker hands\n",
    "\n",
    "n = 5\n",
    "n_dict = {\"2\": 2, \"3\": 3, \"4\": 4, \"5\": 5, \"6\": 6, \"7\": 7, \"8\": 8, \"9\": 9, \"T\": 10, \"J\": 11, \"Q\": 12, \"K\": 13, \"A\": 14}\n",
    "def poker_rank(df):\n",
    "    df_rank = pd.DataFrame([np.bincount(i, minlength = 5) for i_key, i in df.iterrows()])\n",
    "    df_rank[5] = (df_rank[1] == 5) & ((df.diff(axis=1) == 1).sum(axis=1) == 1)\n",
    "    df_rank = 7 * df_rank[4] + 2 * (df_rank[3] & df_rank[2]) + 4 * df_rank[5] + 3 * df_rank[3] + df_rank[2] + (df + np.arange(15) / 100).idxmax(axis=1) / 100\n",
    "    return(df_rank)\n",
    "\n",
    "df = pd.read_fwf(\"https://projecteuler.net/project/resources/p054_poker.txt\", header=None)\n",
    "df_1 = pd.DataFrame([np.bincount([n_dict[j[0]] for j in i], minlength = 15) for i_key, i in df.iloc[:, :n].iterrows()])\n",
    "df_2 = pd.DataFrame([np.bincount([n_dict[j[0]] for j in i], minlength = 15) for i_key, i in df.iloc[:, n:].iterrows()])\n",
    "S_suit = df.iloc[:, :n].apply(lambda x: len(set(i[1] for i in x)) == 1, axis=1).astype('int') - df.iloc[:, n:].apply(lambda x: len(set(i[1] for i in x)) == 1, axis=1).astype('int')\n",
    "df_rank_1 = poker_rank(df_1)\n",
    "df_rank_2 = poker_rank(df_2)\n",
    "print(np.sum(df_rank_1 - df_rank_2 + 5 * S_suit > 0))"
   ]
  },
  {
   "cell_type": "code",
   "execution_count": null,
   "metadata": {},
   "outputs": [],
   "source": []
  }
 ],
 "metadata": {
  "kernelspec": {
   "display_name": "Python 3",
   "language": "python",
   "name": "python3"
  },
  "language_info": {
   "codemirror_mode": {
    "name": "ipython",
    "version": 3
   },
   "file_extension": ".py",
   "mimetype": "text/x-python",
   "name": "python",
   "nbconvert_exporter": "python",
   "pygments_lexer": "ipython3",
   "version": "3.6.1"
  }
 },
 "nbformat": 4,
 "nbformat_minor": 2
}
