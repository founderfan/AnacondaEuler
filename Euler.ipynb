{
 "cells": [
  {
   "cell_type": "markdown",
   "metadata": {},
   "source": [
    "## Anaconda Euler"
   ]
  },
  {
   "cell_type": "code",
   "execution_count": 1,
   "metadata": {},
   "outputs": [],
   "source": [
    "import io\n",
    "import itertools\n",
    "import functools\n",
    "import requests\n",
    "\n",
    "import numpy as np\n",
    "from scipy import linalg, special, optimize\n",
    "import pandas as pd\n",
    "import sympy\n",
    "import numba\n",
    "import num2words\n",
    "\n",
    "class Prime():\n",
    "    def __init__(self, n=10):\n",
    "        self.prime_list = np.array([2])\n",
    "        self.prime_generate(n)\n",
    "        \n",
    "    def prime_generate(self, n):\n",
    "        \"\"\" Input n>=6, Returns a array of primes, 2 <= p < n \"\"\"\n",
    "        if self.prime_list[-1] < n:\n",
    "            sieve = np.ones(n // 3 + (n % 6 == 2), dtype=np.bool)\n",
    "            for i in range(1, int(n ** 0.5) // 3 + 1):\n",
    "                if sieve[i]:\n",
    "                    k = 3 * i + 1 | 1\n",
    "                    sieve[k * k // 3::2 * k] = False\n",
    "                    sieve[k * (k - 2 * (i & 1) + 4) // 3::2 * k] = False\n",
    "            self.prime_list = np.r_[2, 3, ((3 * np.nonzero(sieve)[0][1:] + 1) | 1)]\n",
    "    \n",
    "    def primerange(self, n):\n",
    "        self.prime_generate(n)\n",
    "        return(self.prime_list[:np.searchsorted(self.prime_list, n)])\n",
    "    \n",
    "    def prime(self, n):\n",
    "        self.prime_generate(int(np.max(2 * n * np.log(n))))\n",
    "        return(self.prime_list[n - 1])\n",
    "    \n",
    "    def isprime(self, n):\n",
    "        n_key = np.searchsorted(self.prime_list, n)\n",
    "        if n_key >= len(self.prime_list):\n",
    "            self.prime_generate(2 * n)\n",
    "        return(self.prime_list[n_key] == n)\n",
    "    \n",
    "prime = Prime(int(10 ** 9))"
   ]
  },
  {
   "cell_type": "code",
   "execution_count": 2,
   "metadata": {},
   "outputs": [
    {
     "name": "stdout",
     "output_type": "stream",
     "text": [
      "233168\n",
      "CPU times: user 209 µs, sys: 53 µs, total: 262 µs\n",
      "Wall time: 266 µs\n"
     ]
    }
   ],
   "source": [
    "%%time\n",
    "## Problem 1: Multiples of 3 and 5\n",
    "\n",
    "n_list = [3, 5]\n",
    "n_max = 1000\n",
    "\n",
    "print(np.unique(np.concatenate([np.arange(0, n_max, i) for i in n_list])).sum())"
   ]
  },
  {
   "cell_type": "code",
   "execution_count": 3,
   "metadata": {},
   "outputs": [
    {
     "name": "stdout",
     "output_type": "stream",
     "text": [
      "4613732\n",
      "CPU times: user 458 µs, sys: 193 µs, total: 651 µs\n",
      "Wall time: 499 µs\n"
     ]
    }
   ],
   "source": [
    "%%time\n",
    "## Problem 2: Even Fibonacci numbers\n",
    "\n",
    "n_max = 4e6\n",
    "\n",
    "phi = (1 + np.sqrt(5)) / 2\n",
    "def fibonacci(n, n_init=0):\n",
    "    n_list = n_init + np.arange(n)\n",
    "    return(((phi ** n_list - (1 - phi) ** n_list) / np.sqrt(5)).astype('int'))\n",
    "\n",
    "i_max = int(np.log(4e6) / np.log(phi)) + 1\n",
    "print(sum([i for i in fibonacci(i_max, n_init=2) if (i < n_max) & (i % 2 == 0)]))"
   ]
  },
  {
   "cell_type": "code",
   "execution_count": 4,
   "metadata": {},
   "outputs": [
    {
     "name": "stdout",
     "output_type": "stream",
     "text": [
      "6857\n",
      "CPU times: user 524 µs, sys: 127 µs, total: 651 µs\n",
      "Wall time: 555 µs\n"
     ]
    }
   ],
   "source": [
    "%%time\n",
    "## Problem 3: Largest prime factor\n",
    "\n",
    "n = 600851475143\n",
    "\n",
    "print(max(sympy.factorint(n).keys()))"
   ]
  },
  {
   "cell_type": "code",
   "execution_count": 5,
   "metadata": {},
   "outputs": [
    {
     "name": "stdout",
     "output_type": "stream",
     "text": [
      "906609\n",
      "CPU times: user 231 ms, sys: 34.9 ms, total: 266 ms\n",
      "Wall time: 264 ms\n"
     ]
    }
   ],
   "source": [
    "%%time\n",
    "## Problem 4: Largest palindrome product\n",
    "\n",
    "n_min = 100\n",
    "n_max = 1000\n",
    "\n",
    "S = pd.Series(np.unique(np.outer(np.arange(n_min, n_max), np.arange(n_min, n_max))).astype(\"str\"))\n",
    "print(int(S[S == S.str[::-1]].iloc[-1]))"
   ]
  },
  {
   "cell_type": "code",
   "execution_count": 6,
   "metadata": {},
   "outputs": [
    {
     "name": "stdout",
     "output_type": "stream",
     "text": [
      "232792560\n",
      "CPU times: user 16.6 ms, sys: 2.74 ms, total: 19.3 ms\n",
      "Wall time: 18.6 ms\n"
     ]
    }
   ],
   "source": [
    "%%time\n",
    "## Problem 5: Smallest multiple\n",
    "\n",
    "n_list = range(1, 21)\n",
    "\n",
    "S = pd.concat([pd.Series(sympy.factorint(i)) for i in n_list], axis=1).fillna(0).max(axis=1).astype(\"int\")\n",
    "print(np.prod(S.index.values ** S.values))"
   ]
  },
  {
   "cell_type": "code",
   "execution_count": 7,
   "metadata": {},
   "outputs": [
    {
     "name": "stdout",
     "output_type": "stream",
     "text": [
      "25164150\n",
      "CPU times: user 416 µs, sys: 392 µs, total: 808 µs\n",
      "Wall time: 462 µs\n"
     ]
    }
   ],
   "source": [
    "%%time\n",
    "## Problem 6: Sum square difference\n",
    "\n",
    "n_list = 1 + np.arange(100)\n",
    "\n",
    "print(sum(n_list) ** 2 - sum(n_list ** 2))"
   ]
  },
  {
   "cell_type": "code",
   "execution_count": 8,
   "metadata": {},
   "outputs": [
    {
     "name": "stdout",
     "output_type": "stream",
     "text": [
      "104743\n",
      "CPU times: user 117 µs, sys: 65 µs, total: 182 µs\n",
      "Wall time: 150 µs\n"
     ]
    }
   ],
   "source": [
    "%%time\n",
    "## Problem 7: 10001st prime\n",
    "\n",
    "n = 10001\n",
    "\n",
    "print(prime.prime(n))"
   ]
  },
  {
   "cell_type": "code",
   "execution_count": 9,
   "metadata": {},
   "outputs": [
    {
     "name": "stdout",
     "output_type": "stream",
     "text": [
      "23514624000\n",
      "CPU times: user 5.97 ms, sys: 1.38 ms, total: 7.35 ms\n",
      "Wall time: 6.21 ms\n"
     ]
    }
   ],
   "source": [
    "%%time\n",
    "## Problem 8: Largest product in a series\n",
    "\n",
    "n = 13\n",
    "s = '''73167176531330624919225119674426574742355349194934\n",
    "96983520312774506326239578318016984801869478851843\n",
    "85861560789112949495459501737958331952853208805511\n",
    "12540698747158523863050715693290963295227443043557\n",
    "66896648950445244523161731856403098711121722383113\n",
    "62229893423380308135336276614282806444486645238749\n",
    "30358907296290491560440772390713810515859307960866\n",
    "70172427121883998797908792274921901699720888093776\n",
    "65727333001053367881220235421809751254540594752243\n",
    "52584907711670556013604839586446706324415722155397\n",
    "53697817977846174064955149290862569321978468622482\n",
    "83972241375657056057490261407972968652414535100474\n",
    "82166370484403199890008895243450658541227588666881\n",
    "16427171479924442928230863465674813919123162824586\n",
    "17866458359124566529476545682848912883142607690042\n",
    "24219022671055626321111109370544217506941658960408\n",
    "07198403850962455444362981230987879927244284909188\n",
    "84580156166097919133875499200524063689912560717606\n",
    "05886116467109405077541002256983155200055935729725\n",
    "71636269561882670428252483600823257530420752963450'''.replace(\"\\n\", \"\")\n",
    "\n",
    "print(pd.DataFrame([list(s[i:(i+13)]) for i in range(len(s) - n)]).astype(\"int\").prod(axis=1).max())"
   ]
  },
  {
   "cell_type": "code",
   "execution_count": 10,
   "metadata": {},
   "outputs": [
    {
     "name": "stdout",
     "output_type": "stream",
     "text": [
      "31875000\n",
      "CPU times: user 4.4 ms, sys: 3.26 ms, total: 7.67 ms\n",
      "Wall time: 5.91 ms\n"
     ]
    }
   ],
   "source": [
    "%%time\n",
    "## Problem 9: Special Pythagorean triplet\n",
    "\n",
    "n = 1000\n",
    "\n",
    "a_list = np.arange(n / 2)\n",
    "b_list = np.arange(n / 2)\n",
    "c_list = n - np.add.outer(a_list, b_list)\n",
    "\n",
    "a, b = np.where(c_list ** 2 == np.add.outer(a_list ** 2, b_list ** 2))[0]\n",
    "print(a * b * (n - a - b))"
   ]
  },
  {
   "cell_type": "code",
   "execution_count": 11,
   "metadata": {},
   "outputs": [
    {
     "name": "stdout",
     "output_type": "stream",
     "text": [
      "142913828922\n",
      "CPU times: user 16.1 ms, sys: 423 µs, total: 16.5 ms\n",
      "Wall time: 16.2 ms\n"
     ]
    }
   ],
   "source": [
    "%%time\n",
    "## Problem 10: Summation of primes\n",
    "\n",
    "n_max = int(2e6)\n",
    "\n",
    "print(sum(prime.primerange(n_max)))"
   ]
  },
  {
   "cell_type": "code",
   "execution_count": 12,
   "metadata": {},
   "outputs": [
    {
     "name": "stdout",
     "output_type": "stream",
     "text": [
      "70600674\n",
      "CPU times: user 1.67 ms, sys: 774 µs, total: 2.45 ms\n",
      "Wall time: 1.85 ms\n"
     ]
    }
   ],
   "source": [
    "%%time\n",
    "## Problem 11: Largest product in a grid\n",
    "\n",
    "n = 4\n",
    "A = np.loadtxt(io.StringIO('''08 02 22 97 38 15 00 40 00 75 04 05 07 78 52 12 50 77 91 08\n",
    "49 49 99 40 17 81 18 57 60 87 17 40 98 43 69 48 04 56 62 00\n",
    "81 49 31 73 55 79 14 29 93 71 40 67 53 88 30 03 49 13 36 65\n",
    "52 70 95 23 04 60 11 42 69 24 68 56 01 32 56 71 37 02 36 91\n",
    "22 31 16 71 51 67 63 89 41 92 36 54 22 40 40 28 66 33 13 80\n",
    "24 47 32 60 99 03 45 02 44 75 33 53 78 36 84 20 35 17 12 50\n",
    "32 98 81 28 64 23 67 10 26 38 40 67 59 54 70 66 18 38 64 70\n",
    "67 26 20 68 02 62 12 20 95 63 94 39 63 08 40 91 66 49 94 21\n",
    "24 55 58 05 66 73 99 26 97 17 78 78 96 83 14 88 34 89 63 72\n",
    "21 36 23 09 75 00 76 44 20 45 35 14 00 61 33 97 34 31 33 95\n",
    "78 17 53 28 22 75 31 67 15 94 03 80 04 62 16 14 09 53 56 92\n",
    "16 39 05 42 96 35 31 47 55 58 88 24 00 17 54 24 36 29 85 57\n",
    "86 56 00 48 35 71 89 07 05 44 44 37 44 60 21 58 51 54 17 58\n",
    "19 80 81 68 05 94 47 69 28 73 92 13 86 52 17 77 04 89 55 40\n",
    "04 52 08 83 97 35 99 16 07 97 57 32 16 26 26 79 33 27 98 66\n",
    "88 36 68 87 57 62 20 72 03 46 33 67 46 55 12 32 63 93 53 69\n",
    "04 42 16 73 38 25 39 11 24 94 72 18 08 46 29 32 40 62 76 36\n",
    "20 69 36 41 72 30 23 88 34 62 99 69 82 67 59 85 74 04 36 16\n",
    "20 73 35 29 78 31 90 01 74 31 49 71 48 86 81 16 23 57 05 54\n",
    "01 70 54 71 83 51 54 69 16 92 33 48 61 43 52 01 89 19 67 48'''), dtype = 'int')\n",
    "\n",
    "A_pad = np.pad(A, [[1, 1], [1, 1]], mode=\"constant\", constant_values=0)\n",
    "max_v = np.max(functools.reduce(np.multiply, [A_pad[i:-(n - i)] for i in range(n)]))\n",
    "max_h = np.max(functools.reduce(np.multiply, [A_pad[:, i:-(n - i)] for i in range(n)]))\n",
    "max_d = np.max(functools.reduce(np.multiply, [A_pad[i:-(n - i), i:-(n - i)] for i in range(n)]))\n",
    "max_ad = np.max(functools.reduce(np.multiply, [A_pad[(n - i):-(i + 1), i:-(n - i)] for i in range(n)]))\n",
    "print(max(max_v, max_h, max_d, max_ad))"
   ]
  },
  {
   "cell_type": "code",
   "execution_count": 13,
   "metadata": {},
   "outputs": [
    {
     "name": "stdout",
     "output_type": "stream",
     "text": [
      "76576500\n",
      "CPU times: user 1.06 s, sys: 8.47 ms, total: 1.07 s\n",
      "Wall time: 1.07 s\n"
     ]
    }
   ],
   "source": [
    "%%time\n",
    "## Problem 12: Highly divisible triangular number\n",
    "\n",
    "n = 500\n",
    "\n",
    "i_val = 0\n",
    "for i in itertools.count():\n",
    "    i_val += i\n",
    "    if len(sympy.divisors(i_val)) > 500:\n",
    "        break\n",
    "print(i_val)"
   ]
  },
  {
   "cell_type": "code",
   "execution_count": 14,
   "metadata": {},
   "outputs": [
    {
     "name": "stdout",
     "output_type": "stream",
     "text": [
      "5537376230\n",
      "CPU times: user 1.22 ms, sys: 65 µs, total: 1.28 ms\n",
      "Wall time: 1.27 ms\n"
     ]
    }
   ],
   "source": [
    "%%time\n",
    "## Problem 13: Large sum\n",
    "\n",
    "n = 10\n",
    "n_list = np.loadtxt(io.StringIO('''37107287533902102798797998220837590246510135740250\n",
    "46376937677490009712648124896970078050417018260538\n",
    "74324986199524741059474233309513058123726617309629\n",
    "91942213363574161572522430563301811072406154908250\n",
    "23067588207539346171171980310421047513778063246676\n",
    "89261670696623633820136378418383684178734361726757\n",
    "28112879812849979408065481931592621691275889832738\n",
    "44274228917432520321923589422876796487670272189318\n",
    "47451445736001306439091167216856844588711603153276\n",
    "70386486105843025439939619828917593665686757934951\n",
    "62176457141856560629502157223196586755079324193331\n",
    "64906352462741904929101432445813822663347944758178\n",
    "92575867718337217661963751590579239728245598838407\n",
    "58203565325359399008402633568948830189458628227828\n",
    "80181199384826282014278194139940567587151170094390\n",
    "35398664372827112653829987240784473053190104293586\n",
    "86515506006295864861532075273371959191420517255829\n",
    "71693888707715466499115593487603532921714970056938\n",
    "54370070576826684624621495650076471787294438377604\n",
    "53282654108756828443191190634694037855217779295145\n",
    "36123272525000296071075082563815656710885258350721\n",
    "45876576172410976447339110607218265236877223636045\n",
    "17423706905851860660448207621209813287860733969412\n",
    "81142660418086830619328460811191061556940512689692\n",
    "51934325451728388641918047049293215058642563049483\n",
    "62467221648435076201727918039944693004732956340691\n",
    "15732444386908125794514089057706229429197107928209\n",
    "55037687525678773091862540744969844508330393682126\n",
    "18336384825330154686196124348767681297534375946515\n",
    "80386287592878490201521685554828717201219257766954\n",
    "78182833757993103614740356856449095527097864797581\n",
    "16726320100436897842553539920931837441497806860984\n",
    "48403098129077791799088218795327364475675590848030\n",
    "87086987551392711854517078544161852424320693150332\n",
    "59959406895756536782107074926966537676326235447210\n",
    "69793950679652694742597709739166693763042633987085\n",
    "41052684708299085211399427365734116182760315001271\n",
    "65378607361501080857009149939512557028198746004375\n",
    "35829035317434717326932123578154982629742552737307\n",
    "94953759765105305946966067683156574377167401875275\n",
    "88902802571733229619176668713819931811048770190271\n",
    "25267680276078003013678680992525463401061632866526\n",
    "36270218540497705585629946580636237993140746255962\n",
    "24074486908231174977792365466257246923322810917141\n",
    "91430288197103288597806669760892938638285025333403\n",
    "34413065578016127815921815005561868836468420090470\n",
    "23053081172816430487623791969842487255036638784583\n",
    "11487696932154902810424020138335124462181441773470\n",
    "63783299490636259666498587618221225225512486764533\n",
    "67720186971698544312419572409913959008952310058822\n",
    "95548255300263520781532296796249481641953868218774\n",
    "76085327132285723110424803456124867697064507995236\n",
    "37774242535411291684276865538926205024910326572967\n",
    "23701913275725675285653248258265463092207058596522\n",
    "29798860272258331913126375147341994889534765745501\n",
    "18495701454879288984856827726077713721403798879715\n",
    "38298203783031473527721580348144513491373226651381\n",
    "34829543829199918180278916522431027392251122869539\n",
    "40957953066405232632538044100059654939159879593635\n",
    "29746152185502371307642255121183693803580388584903\n",
    "41698116222072977186158236678424689157993532961922\n",
    "62467957194401269043877107275048102390895523597457\n",
    "23189706772547915061505504953922979530901129967519\n",
    "86188088225875314529584099251203829009407770775672\n",
    "11306739708304724483816533873502340845647058077308\n",
    "82959174767140363198008187129011875491310547126581\n",
    "97623331044818386269515456334926366572897563400500\n",
    "42846280183517070527831839425882145521227251250327\n",
    "55121603546981200581762165212827652751691296897789\n",
    "32238195734329339946437501907836945765883352399886\n",
    "75506164965184775180738168837861091527357929701337\n",
    "62177842752192623401942399639168044983993173312731\n",
    "32924185707147349566916674687634660915035914677504\n",
    "99518671430235219628894890102423325116913619626622\n",
    "73267460800591547471830798392868535206946944540724\n",
    "76841822524674417161514036427982273348055556214818\n",
    "97142617910342598647204516893989422179826088076852\n",
    "87783646182799346313767754307809363333018982642090\n",
    "10848802521674670883215120185883543223812876952786\n",
    "71329612474782464538636993009049310363619763878039\n",
    "62184073572399794223406235393808339651327408011116\n",
    "66627891981488087797941876876144230030984490851411\n",
    "60661826293682836764744779239180335110989069790714\n",
    "85786944089552990653640447425576083659976645795096\n",
    "66024396409905389607120198219976047599490197230297\n",
    "64913982680032973156037120041377903785566085089252\n",
    "16730939319872750275468906903707539413042652315011\n",
    "94809377245048795150954100921645863754710598436791\n",
    "78639167021187492431995700641917969777599028300699\n",
    "15368713711936614952811305876380278410754449733078\n",
    "40789923115535562561142322423255033685442488917353\n",
    "44889911501440648020369068063960672322193204149535\n",
    "41503128880339536053299340368006977710650566631954\n",
    "81234880673210146739058568557934581403627822703280\n",
    "82616570773948327592232845941706525094512325230608\n",
    "22918802058777319719839450180888072429661980811197\n",
    "77158542502016545090413245809786882778948721859617\n",
    "72107838435069186155435662884062257473692284509516\n",
    "20849603980134001723930671666823555245252804609722\n",
    "53503534226472524250874054075591789781264330331690'''))\n",
    "\n",
    "out = sum(n_list)\n",
    "print(int(out / 10 ** int(np.log10(out) - n + 1)))"
   ]
  },
  {
   "cell_type": "code",
   "execution_count": 15,
   "metadata": {},
   "outputs": [
    {
     "name": "stdout",
     "output_type": "stream",
     "text": [
      "837799\n",
      "CPU times: user 6.22 s, sys: 204 ms, total: 6.43 s\n",
      "Wall time: 6.42 s\n"
     ]
    }
   ],
   "source": [
    "%%time\n",
    "## Problem 14: Longest Collatz sequence\n",
    "\n",
    "n_min = 2\n",
    "n_max = int(1e6)\n",
    "\n",
    "chain_val_dict = {}\n",
    "chain_len_dict = {1: 0}\n",
    "def chain(x):\n",
    "    if x != 1:\n",
    "        x_next = chain_val_dict.get(x)\n",
    "        if x_next is None:\n",
    "            if x % 2 == 1:\n",
    "                x_next = 3 * x + 1\n",
    "            else:\n",
    "                x_next = x // 2\n",
    "            chain_val_dict[x] = x_next\n",
    "            chain(x_next)\n",
    "        chain_len_dict[x] = chain_len_dict[x_next] + 1\n",
    "\n",
    "[chain(i) for i in range(n_min, n_max)]\n",
    "print(pd.Series(chain_len_dict)[:n_max].argmax())"
   ]
  },
  {
   "cell_type": "code",
   "execution_count": 16,
   "metadata": {},
   "outputs": [
    {
     "name": "stdout",
     "output_type": "stream",
     "text": [
      "137846528820\n",
      "CPU times: user 301 µs, sys: 244 µs, total: 545 µs\n",
      "Wall time: 305 µs\n"
     ]
    }
   ],
   "source": [
    "%%time\n",
    "## Problem 15: Lattice paths\n",
    "\n",
    "n = 20\n",
    "\n",
    "print(special.comb(2 * n, n, exact=True))"
   ]
  },
  {
   "cell_type": "code",
   "execution_count": 17,
   "metadata": {},
   "outputs": [
    {
     "name": "stdout",
     "output_type": "stream",
     "text": [
      "1366\n",
      "CPU times: user 359 µs, sys: 245 µs, total: 604 µs\n",
      "Wall time: 454 µs\n"
     ]
    }
   ],
   "source": [
    "%%time\n",
    "## Problem 16: Power digit sum\n",
    "\n",
    "n = 2 ** 1000\n",
    "\n",
    "print(np.array(list(str(n)), dtype=\"int\").sum())"
   ]
  },
  {
   "cell_type": "code",
   "execution_count": 18,
   "metadata": {},
   "outputs": [
    {
     "name": "stdout",
     "output_type": "stream",
     "text": [
      "21124\n",
      "CPU times: user 1.76 s, sys: 6.34 ms, total: 1.77 s\n",
      "Wall time: 1.76 s\n"
     ]
    }
   ],
   "source": [
    "%%time\n",
    "## Problem 17: Number letter counts\n",
    "\n",
    "n_max = 1000\n",
    "\n",
    "print(len(\"\".join([num2words.num2words(i) for i in 1 + np.arange(n_max)]).replace(\" \", \"\").replace(\"-\", \"\")))"
   ]
  },
  {
   "cell_type": "code",
   "execution_count": 19,
   "metadata": {},
   "outputs": [
    {
     "name": "stdout",
     "output_type": "stream",
     "text": [
      "1074\n",
      "CPU times: user 4.81 ms, sys: 1.56 ms, total: 6.37 ms\n",
      "Wall time: 5.19 ms\n"
     ]
    }
   ],
   "source": [
    "%%time\n",
    "## Problem 18: Maximum path sum I\n",
    "\n",
    "A = pd.read_fwf(io.StringIO('''75\n",
    "95 64\n",
    "17 47 82\n",
    "18 35 87 10\n",
    "20 04 82 47 65\n",
    "19 01 23 75 03 34\n",
    "88 02 77 73 07 63 67\n",
    "99 65 04 28 06 16 70 92\n",
    "41 41 26 56 83 40 80 70 33\n",
    "41 48 72 33 47 32 37 16 94 29\n",
    "53 71 44 65 25 43 91 52 97 51 14\n",
    "70 11 33 28 77 73 17 78 39 68 17 57\n",
    "91 71 52 38 17 14 91 43 58 50 27 29 48\n",
    "63 66 04 68 89 53 67 30 73 16 69 87 40 31\n",
    "04 62 98 27 23 09 70 98 73 93 38 53 60 04 23'''), delim_whitespace=True, header=None).fillna(0).values.astype('int')\n",
    "\n",
    "A_cum = A.copy()\n",
    "A_bool = np.zeros(A.shape, dtype=\"int\")\n",
    "for i in np.arange(len(A)-1, 0, -1):\n",
    "    A_bool[i - 1, :-1] = (np.diff(A_cum[i]) > 0).astype(\"int\")\n",
    "    A_cum[i - 1] += A_cum[i, np.arange(len(A)) + A_bool[i - 1]]\n",
    "print(A_cum[0, 0])"
   ]
  },
  {
   "cell_type": "code",
   "execution_count": 20,
   "metadata": {},
   "outputs": [
    {
     "name": "stdout",
     "output_type": "stream",
     "text": [
      "171\n",
      "CPU times: user 80.6 ms, sys: 1.96 ms, total: 82.5 ms\n",
      "Wall time: 81.1 ms\n"
     ]
    }
   ],
   "source": [
    "%%time\n",
    "## Problem 19: Counting Sundays\n",
    "\n",
    "date_begin = \"1901-01-01\"\n",
    "date_end = \"2000-12-31\"\n",
    "\n",
    "S = pd.Series(pd.date_range(date_begin, date_end, freq=\"MS\").strftime('%A'))\n",
    "print(S.value_counts()[\"Sunday\"])"
   ]
  },
  {
   "cell_type": "code",
   "execution_count": 21,
   "metadata": {},
   "outputs": [
    {
     "name": "stdout",
     "output_type": "stream",
     "text": [
      "648\n",
      "CPU times: user 321 µs, sys: 195 µs, total: 516 µs\n",
      "Wall time: 375 µs\n"
     ]
    }
   ],
   "source": [
    "%%time\n",
    "## Problem 20: Factorial digit sum\n",
    "\n",
    "n = 100\n",
    "\n",
    "print(np.array(list(str(special.factorial(n, exact=True))), dtype=\"int\").sum())"
   ]
  },
  {
   "cell_type": "code",
   "execution_count": 22,
   "metadata": {},
   "outputs": [
    {
     "name": "stdout",
     "output_type": "stream",
     "text": [
      "31626\n",
      "CPU times: user 269 ms, sys: 5.58 ms, total: 274 ms\n",
      "Wall time: 271 ms\n"
     ]
    }
   ],
   "source": [
    "%%time\n",
    "## Problem 21: Amicable numbers\n",
    "\n",
    "n_max = 10000\n",
    "\n",
    "def sum_divisors(x):\n",
    "    return(sum(sympy.divisors(x)[:-1]))\n",
    "\n",
    "S = pd.Series([sum_divisors(i) for i in np.arange(n_max)])\n",
    "print(S.index.values[(S.index == S.loc[S.values]) & (S.index != S.values)].sum())"
   ]
  },
  {
   "cell_type": "code",
   "execution_count": 23,
   "metadata": {},
   "outputs": [
    {
     "name": "stdout",
     "output_type": "stream",
     "text": [
      "871198282\n",
      "CPU times: user 1.86 s, sys: 39.2 ms, total: 1.89 s\n",
      "Wall time: 3.01 s\n"
     ]
    }
   ],
   "source": [
    "%%time\n",
    "## Problem 22: Names scores\n",
    "\n",
    "df = pd.read_csv(\"https://projecteuler.net/project/resources/p022_names.txt\").T\n",
    "\n",
    "S = df.sort_index().reset_index()[\"index\"]\n",
    "print((S.apply(lambda x: sum([ord(i) - 64 for i in list(x)])) * (S.index.values + 1)).sum())"
   ]
  },
  {
   "cell_type": "code",
   "execution_count": 24,
   "metadata": {},
   "outputs": [
    {
     "name": "stdout",
     "output_type": "stream",
     "text": [
      "4179871\n",
      "CPU times: user 2.84 s, sys: 332 ms, total: 3.17 s\n",
      "Wall time: 3.18 s\n"
     ]
    }
   ],
   "source": [
    "%%time\n",
    "## Problem 23: Non-abundant sums\n",
    "\n",
    "n_max = 28123\n",
    "\n",
    "def sum_divisors(x):\n",
    "    return(sum(sympy.divisors(x)[:-1]))\n",
    "\n",
    "S = pd.Series([sum_divisors(i) for i in np.arange(n_max)])\n",
    "n_list = S.index.values[S.index < S.values]\n",
    "print(S.index.difference(np.unique(np.add.outer(n_list, n_list))).values.sum())"
   ]
  },
  {
   "cell_type": "code",
   "execution_count": 25,
   "metadata": {},
   "outputs": [
    {
     "name": "stdout",
     "output_type": "stream",
     "text": [
      "2783915460\n",
      "CPU times: user 248 µs, sys: 115 µs, total: 363 µs\n",
      "Wall time: 296 µs\n"
     ]
    }
   ],
   "source": [
    "%%time\n",
    "## Problem 24: Lexicographic permutations\n",
    "\n",
    "n = 10\n",
    "n_th = int(1e6)\n",
    "\n",
    "n_list = list(range(n))\n",
    "out = 0\n",
    "n_th -= 1\n",
    "for i in reversed(range(n)):\n",
    "    i_val = special.factorial(i, exact=True)\n",
    "    out += n_list.pop(n_th // i_val) * 10 ** i\n",
    "    n_th %= i_val\n",
    "print(out)"
   ]
  },
  {
   "cell_type": "code",
   "execution_count": 26,
   "metadata": {},
   "outputs": [
    {
     "name": "stdout",
     "output_type": "stream",
     "text": [
      "4782\n",
      "CPU times: user 255 µs, sys: 173 µs, total: 428 µs\n",
      "Wall time: 328 µs\n"
     ]
    }
   ],
   "source": [
    "%%time\n",
    "## Problem 25: 1000-digit Fibonacci number\n",
    "\n",
    "n = 1000\n",
    "\n",
    "i = 3\n",
    "i_val = 2\n",
    "phi = (1 + np.sqrt(5)) / 2\n",
    "print(int(np.ceil((n - 1 - np.log10(i_val)) / np.log10(phi) + i)))"
   ]
  },
  {
   "cell_type": "code",
   "execution_count": 27,
   "metadata": {},
   "outputs": [
    {
     "name": "stdout",
     "output_type": "stream",
     "text": [
      "983\n",
      "CPU times: user 110 ms, sys: 2.56 ms, total: 113 ms\n",
      "Wall time: 111 ms\n"
     ]
    }
   ],
   "source": [
    "%%time\n",
    "## Problem 26: Reciprocal cycles\n",
    "\n",
    "n_max = 1000\n",
    "\n",
    "out = []\n",
    "for i in range(1, n_max):\n",
    "    out.append(list(sympy.cycle_length(lambda x: 10 * x % i, 1))[0][0])\n",
    "print(np.argmax(out) + 1)"
   ]
  },
  {
   "cell_type": "code",
   "execution_count": 28,
   "metadata": {},
   "outputs": [
    {
     "name": "stdout",
     "output_type": "stream",
     "text": [
      "-59231\n",
      "CPU times: user 25.4 s, sys: 940 ms, total: 26.3 s\n",
      "Wall time: 26.3 s\n"
     ]
    }
   ],
   "source": [
    "%%time\n",
    "## Problem 27: Quadratic primes\n",
    "\n",
    "a_bound = 1000\n",
    "\n",
    "a_list = np.arange(-a_bound, a_bound + 1)\n",
    "A_bool = np.ones((len(a_list), len(a_list)), dtype=\"bool\")\n",
    "\n",
    "for n in itertools.count():\n",
    "    A = n ** 2 + np.add.outer(n * a_list, a_list)\n",
    "    A_update = [prime.isprime(i) for i in A[A_bool]]\n",
    "    if np.any(A_update) == False:\n",
    "        break\n",
    "    A_bool[A_bool] = A_update\n",
    "print(np.prod([a_list[i[0]] for i in np.where(A_bool)]))"
   ]
  },
  {
   "cell_type": "code",
   "execution_count": 29,
   "metadata": {},
   "outputs": [
    {
     "name": "stdout",
     "output_type": "stream",
     "text": [
      "669171001\n",
      "CPU times: user 559 µs, sys: 495 µs, total: 1.05 ms\n",
      "Wall time: 570 µs\n"
     ]
    }
   ],
   "source": [
    "%%time\n",
    "## Problem 28: Number spiral diagonals\n",
    "\n",
    "n = 1001\n",
    "\n",
    "print(4 * np.cumsum(np.insert(5 + np.arange((n + 1) // 2 - 1) * 8, 0, 1)).sum() - 3)"
   ]
  },
  {
   "cell_type": "code",
   "execution_count": 30,
   "metadata": {},
   "outputs": [
    {
     "name": "stdout",
     "output_type": "stream",
     "text": [
      "9183\n",
      "CPU times: user 1.68 ms, sys: 958 µs, total: 2.64 ms\n",
      "Wall time: 1.38 ms\n"
     ]
    }
   ],
   "source": [
    "%%time\n",
    "## Problem 29: Distinct powers\n",
    "\n",
    "n_min = 2\n",
    "n_max = 100\n",
    "\n",
    "n_list = np.arange(n_min, n_max + 1, dtype=\"float\")\n",
    "print(len(np.unique(np.power.outer(n_list, n_list))))"
   ]
  },
  {
   "cell_type": "code",
   "execution_count": 31,
   "metadata": {},
   "outputs": [
    {
     "name": "stdout",
     "output_type": "stream",
     "text": [
      "443839\n",
      "CPU times: user 59.7 ms, sys: 8.11 ms, total: 67.8 ms\n",
      "Wall time: 66.3 ms\n"
     ]
    }
   ],
   "source": [
    "%%time\n",
    "## Problem 30: Digit fifth powers\n",
    "\n",
    "n = 5\n",
    "\n",
    "n_list = np.arange(2, 9 ** n * n)\n",
    "S = pd.Series(functools.reduce(np.add, [(n_list // (10 ** i) % 10) ** n for i in np.arange(n + 1)]), n_list)\n",
    "print(sum(S.index[S == S.index].values))"
   ]
  },
  {
   "cell_type": "code",
   "execution_count": 32,
   "metadata": {},
   "outputs": [
    {
     "name": "stdout",
     "output_type": "stream",
     "text": [
      "73682\n",
      "CPU times: user 423 ms, sys: 20 ms, total: 443 ms\n",
      "Wall time: 440 ms\n"
     ]
    }
   ],
   "source": [
    "%%time\n",
    "## Problem 31: Coin sums\n",
    "\n",
    "n = 200\n",
    "n_list = [1, 2, 5, 10, 20, 50, 100, 200]\n",
    "\n",
    "def count_coin(x, val):\n",
    "    if x == 0:\n",
    "        return([[val]])\n",
    "    out = []\n",
    "    for i in range(val // n_list[x] + 1):\n",
    "        out += [j + [i] for j in count_coin(x - 1, val - n_list[x] * i)]\n",
    "    return(out)\n",
    "print(len(count_coin(len(n_list) - 1, 200)))"
   ]
  },
  {
   "cell_type": "code",
   "execution_count": 33,
   "metadata": {},
   "outputs": [
    {
     "name": "stdout",
     "output_type": "stream",
     "text": [
      "45228\n",
      "CPU times: user 444 ms, sys: 10 ms, total: 454 ms\n",
      "Wall time: 447 ms\n"
     ]
    }
   ],
   "source": [
    "%%time\n",
    "## Problem 32: Pandigital products\n",
    "\n",
    "n_list = np.arange(1, 10)\n",
    "\n",
    "out = []\n",
    "for i in n_list:\n",
    "    for j in n_list:\n",
    "        res_list = np.setdiff1d(n_list, [i, j, (i * j) % 10])\n",
    "        if len(res_list) == 6:\n",
    "            for k in itertools.permutations(res_list, 3):\n",
    "                k_val_0 = (i + k[0] * 10 + k[1] * 100 + k[2] * 1000) * j\n",
    "                k_val_1 = (i + k[0] * 10 + k[1] * 100) * (j + k[2] * 10)\n",
    "                prod_list = list(np.setdiff1d(res_list, k))\n",
    "                if list(np.sort([int(x) for x in str(k_val_0)[:-1]])) == prod_list:\n",
    "                    out.append(k_val_0)\n",
    "                if list(np.sort([int(x) for x in str(k_val_1)[:-1]])) == prod_list:\n",
    "                    out.append(k_val_1)\n",
    "print(sum(np.unique(out)))"
   ]
  },
  {
   "cell_type": "code",
   "execution_count": 34,
   "metadata": {},
   "outputs": [
    {
     "name": "stdout",
     "output_type": "stream",
     "text": [
      "100\n",
      "CPU times: user 12.3 ms, sys: 575 µs, total: 12.8 ms\n",
      "Wall time: 12.4 ms\n"
     ]
    }
   ],
   "source": [
    "%%time\n",
    "## Problem 33: Digit cancelling fractions\n",
    "\n",
    "out = []\n",
    "for i in range(1, 10):\n",
    "    for j in range(1, i):\n",
    "        i_val = sympy.Rational(j, i)\n",
    "        for k in range(1, 10):\n",
    "            if sympy.Rational(10 * k + j, 10 * i + k) == i_val:\n",
    "                out.append(i_val)\n",
    "            if sympy.Rational(10 * j + k, 10 * k + i) == i_val:\n",
    "                out.append(i_val)\n",
    "print(sympy.prod(out).q)"
   ]
  },
  {
   "cell_type": "code",
   "execution_count": 35,
   "metadata": {},
   "outputs": [
    {
     "name": "stdout",
     "output_type": "stream",
     "text": [
      "40730\n",
      "CPU times: user 606 ms, sys: 4.27 ms, total: 611 ms\n",
      "Wall time: 608 ms\n"
     ]
    }
   ],
   "source": [
    "%%time\n",
    "## Problem 34: Digit factorials\n",
    "\n",
    "n_min = 10\n",
    "\n",
    "n_max = special.factorial(9, exact=True)\n",
    "n_dict = {str(i): special.factorial(i, exact=True) for i in range(10)}\n",
    "print(sum(i for i in range(n_min, n_max) if sum(n_dict[j] for j in str(i)) == i))"
   ]
  },
  {
   "cell_type": "code",
   "execution_count": 36,
   "metadata": {},
   "outputs": [
    {
     "name": "stdout",
     "output_type": "stream",
     "text": [
      "55\n",
      "CPU times: user 2.26 s, sys: 5.52 ms, total: 2.26 s\n",
      "Wall time: 2.26 s\n"
     ]
    }
   ],
   "source": [
    "%%time\n",
    "## Problem 35: Circular primes\n",
    "\n",
    "n_max = int(1e6)\n",
    "\n",
    "prime_set = set(prime.primerange(n_max))\n",
    "out = []\n",
    "for i in prime_set:\n",
    "    i_len = 1 + int(np.log10(i))\n",
    "    i_val = set(int((str(i) * 2)[j:(j+i_len)]) for j in range(i_len))\n",
    "    if i_val.issubset(prime_set):\n",
    "        out.append(i)\n",
    "print(len(out))"
   ]
  },
  {
   "cell_type": "code",
   "execution_count": 37,
   "metadata": {},
   "outputs": [
    {
     "name": "stdout",
     "output_type": "stream",
     "text": [
      "872187\n",
      "CPU times: user 4.81 ms, sys: 213 µs, total: 5.03 ms\n",
      "Wall time: 4.92 ms\n"
     ]
    }
   ],
   "source": [
    "%%time\n",
    "## Problem 36: Double-base palindromes\n",
    "\n",
    "n_max = 1000\n",
    "\n",
    "out = []\n",
    "for i in range(1, n_max):\n",
    "    i_val_0 = int(str(i)[:-1] + str(i)[::-1])\n",
    "    i_val_1 = int(str(i) + str(i)[::-1])\n",
    "    i_val_0_base2 = \"{0:b}\".format(i_val_0)\n",
    "    i_val_1_base2 = \"{0:b}\".format(i_val_1)\n",
    "    if i_val_0_base2 == i_val_0_base2[::-1]:\n",
    "        out.append(i_val_0)\n",
    "    if i_val_1_base2 == i_val_1_base2[::-1]:\n",
    "        out.append(i_val_1)\n",
    "print(sum(out))"
   ]
  },
  {
   "cell_type": "code",
   "execution_count": 38,
   "metadata": {},
   "outputs": [
    {
     "name": "stdout",
     "output_type": "stream",
     "text": [
      "748317\n",
      "CPU times: user 5.1 s, sys: 766 ms, total: 5.87 s\n",
      "Wall time: 5.87 s\n"
     ]
    }
   ],
   "source": [
    "%%time\n",
    "## Problem 37: Truncatable primes\n",
    "\n",
    "n_stop = 11\n",
    "\n",
    "n_max = int(1e9)\n",
    "n_list = prime.primerange(n_max)[4:]\n",
    "out = []\n",
    "left_list = {2, 3, 5, 7}\n",
    "right_list = {2, 3, 5, 7}\n",
    "for i in n_list:\n",
    "    if i // 10 in left_list:\n",
    "        left_list.add(i)\n",
    "    if int(str(i)[1:]) in right_list:\n",
    "        right_list.add(i)\n",
    "        if i // 10 in left_list:\n",
    "            out.append(i)\n",
    "            if len(out) >= n_stop:\n",
    "                break\n",
    "print(sum(out))"
   ]
  },
  {
   "cell_type": "code",
   "execution_count": 39,
   "metadata": {},
   "outputs": [
    {
     "name": "stdout",
     "output_type": "stream",
     "text": [
      "932718654\n",
      "CPU times: user 280 ms, sys: 3.04 ms, total: 283 ms\n",
      "Wall time: 281 ms\n"
     ]
    }
   ],
   "source": [
    "%%time\n",
    "## Problem 38: Pandigital multiples\n",
    "\n",
    "n_list = np.arange(1, 10)\n",
    "\n",
    "out = []\n",
    "for i in [4]:\n",
    "    for j in itertools.permutations(n_list, i):\n",
    "        res_list = np.setdiff1d(n_list, j)\n",
    "        i_val = int(\"\".join([str(k) for k in j]))\n",
    "        i_val_list = [int(k) for k in str(2 * i_val)]\n",
    "        if list(np.sort(i_val_list)) == list(res_list):\n",
    "            out.append(int(\"\".join([str(k) for k in list(j) + i_val_list])))\n",
    "print(max(out))"
   ]
  },
  {
   "cell_type": "code",
   "execution_count": 40,
   "metadata": {},
   "outputs": [
    {
     "name": "stdout",
     "output_type": "stream",
     "text": [
      "840\n",
      "CPU times: user 700 ms, sys: 344 ms, total: 1.04 s\n",
      "Wall time: 1.04 s\n"
     ]
    }
   ],
   "source": [
    "%%time\n",
    "## Problem 39: Integer right triangles\n",
    "\n",
    "n_max = 1000\n",
    "n_min = 10\n",
    "\n",
    "n_list = np.arange(n_min, n_max + 1)\n",
    "out = []\n",
    "for i in n_list:\n",
    "    a_list = np.arange(1, i // 2)\n",
    "    A = (i - np.add.outer(a_list, a_list)) ** 2 == np.add.outer(a_list ** 2, a_list ** 2)\n",
    "    out.append(np.sum(A))\n",
    "print(n_list[np.argmax(out)])"
   ]
  },
  {
   "cell_type": "code",
   "execution_count": 41,
   "metadata": {},
   "outputs": [
    {
     "name": "stdout",
     "output_type": "stream",
     "text": [
      "840\n",
      "CPU times: user 1.91 s, sys: 124 ms, total: 2.03 s\n",
      "Wall time: 2.17 s\n"
     ]
    }
   ],
   "source": [
    "%%time\n",
    "## Problem 39: Integer right triangles\n",
    "### Alternative solve 1\n",
    "\n",
    "n_max = 1000\n",
    "n_min = 10\n",
    "\n",
    "@numba.jit\n",
    "def right_triangle_solve(p, a, b):\n",
    "    return(a ** 2 + b ** 2 - (p - a - b) ** 2)\n",
    "\n",
    "n_list = np.arange(n_min, n_max + 1)\n",
    "out = []\n",
    "for i in n_list:\n",
    "    b = (i - 1) // 2\n",
    "    count = 0\n",
    "    for a in np.arange(1, i // 2):\n",
    "        b = round(optimize.brentq(lambda x: right_triangle_solve(i, a, x), b - 3, b + 1, xtol = 0.5))\n",
    "        if right_triangle_solve(i, a, b) == 0:\n",
    "            count += 1\n",
    "    out.append(count)\n",
    "print(n_list[np.argmax(out)])"
   ]
  },
  {
   "cell_type": "code",
   "execution_count": 42,
   "metadata": {},
   "outputs": [
    {
     "name": "stdout",
     "output_type": "stream",
     "text": [
      "210\n",
      "CPU times: user 348 ms, sys: 33.3 ms, total: 381 ms\n",
      "Wall time: 378 ms\n"
     ]
    }
   ],
   "source": [
    "%%time\n",
    "## Problem 40: Champernowne's constant\n",
    "\n",
    "n_max = int(1e6)\n",
    "n_list = [1, 10, 100, 1000, 10000, 100000, 1000000]\n",
    "\n",
    "s = \"\".join([str(i) for i in range(n_max)])\n",
    "print(np.prod([int(s[i]) for i in n_list]))"
   ]
  },
  {
   "cell_type": "code",
   "execution_count": 43,
   "metadata": {},
   "outputs": [
    {
     "name": "stdout",
     "output_type": "stream",
     "text": [
      "7652413\n",
      "CPU times: user 4.25 s, sys: 117 ms, total: 4.36 s\n",
      "Wall time: 4.29 s\n"
     ]
    }
   ],
   "source": [
    "%%time\n",
    "## Problem 41: Pandigital prime\n",
    "\n",
    "n_list = range(1, 10)\n",
    "out = []\n",
    "for i in n_list:\n",
    "    for j in itertools.permutations(range(1, i + 1)):\n",
    "        i_val = int(\"\".join([str(k) for k in j]))\n",
    "        if prime.isprime(i_val):\n",
    "            out.append(i_val)\n",
    "print(max(out))"
   ]
  },
  {
   "cell_type": "code",
   "execution_count": 44,
   "metadata": {},
   "outputs": [
    {
     "name": "stdout",
     "output_type": "stream",
     "text": [
      "162\n",
      "CPU times: user 27.3 ms, sys: 6.34 ms, total: 33.7 ms\n",
      "Wall time: 538 ms\n"
     ]
    }
   ],
   "source": [
    "%%time\n",
    "## Problem 42: Coded triangle numbers\n",
    "\n",
    "url = requests.get(\"https://projecteuler.net/project/resources/p042_words.txt\")\n",
    "\n",
    "out = np.bincount([sum(ord(j) - 64 for j in i[1:-1]) for i in url.text.split(\",\")])\n",
    "n_list = np.arange(1, np.sqrt(2 * len(out)) + 1, dtype = \"int\")\n",
    "n_list = n_list * (n_list + 1) // 2\n",
    "print(sum(out[n_list[n_list < len(out)]]))"
   ]
  },
  {
   "cell_type": "code",
   "execution_count": 45,
   "metadata": {},
   "outputs": [
    {
     "name": "stdout",
     "output_type": "stream",
     "text": [
      "16695334890\n",
      "CPU times: user 6.82 s, sys: 6.83 ms, total: 6.83 s\n",
      "Wall time: 6.83 s\n"
     ]
    }
   ],
   "source": [
    "%%time\n",
    "## Problem 43: Sub-string divisibility\n",
    "\n",
    "n_list = range(10)\n",
    "a_list = [2, 3, 5, 7, 11, 13, 17]\n",
    "\n",
    "print(sum([int(\"\".join(str(j) for j in i)) for i in itertools.permutations(n_list) \n",
    "     if all((i[j + 1] * 100 + i[j + 2] * 10 + i[j + 3]) % j_val == 0 for j, j_val in enumerate(a_list))]))"
   ]
  },
  {
   "cell_type": "code",
   "execution_count": 46,
   "metadata": {},
   "outputs": [
    {
     "name": "stdout",
     "output_type": "stream",
     "text": [
      "5482660\n",
      "CPU times: user 466 ms, sys: 3.98 ms, total: 470 ms\n",
      "Wall time: 467 ms\n"
     ]
    }
   ],
   "source": [
    "%%time\n",
    "## Problem 44: Pentagon numbers\n",
    "\n",
    "def pentagonal(x):\n",
    "    return(x * (3 * x - 1) // 2)\n",
    "\n",
    "def pentagonal_solve():\n",
    "    n_list = set()\n",
    "    a_list = []\n",
    "    for i in itertools.count(1):\n",
    "        i_val = pentagonal(i)\n",
    "        n_list.add(pentagonal(2 * i))\n",
    "        n_list.add(pentagonal(2 * i + 1))\n",
    "        for j in a_list:\n",
    "            if ((i_val - j) in n_list) & ((2 * i_val - j) in n_list):\n",
    "                return(j)\n",
    "        a_list.append(i_val)\n",
    "        \n",
    "print(pentagonal_solve())"
   ]
  },
  {
   "cell_type": "code",
   "execution_count": 47,
   "metadata": {},
   "outputs": [
    {
     "name": "stdout",
     "output_type": "stream",
     "text": [
      "1533776805\n",
      "CPU times: user 79.4 ms, sys: 3.98 ms, total: 83.3 ms\n",
      "Wall time: 81.6 ms\n"
     ]
    }
   ],
   "source": [
    "%%time\n",
    "## Problem 45: Triangular, pentagonal, and hexagonal\n",
    "\n",
    "n_min = 285\n",
    "\n",
    "n_list_pen = set()\n",
    "n_list_hex = set()\n",
    "for i in itertools.count(2):\n",
    "    i_val = i * (i + 1) // 2\n",
    "    n_list_pen.add(i * (3 * i - 1) // 2)\n",
    "    n_list_hex.add(i * (2 * i - 1))\n",
    "    if (i > n_min) & (i_val in n_list_pen) & (i_val in n_list_hex):\n",
    "        break\n",
    "print(i_val)"
   ]
  },
  {
   "cell_type": "code",
   "execution_count": 48,
   "metadata": {},
   "outputs": [
    {
     "name": "stdout",
     "output_type": "stream",
     "text": [
      "5777\n",
      "CPU times: user 96.2 ms, sys: 11.5 ms, total: 108 ms\n",
      "Wall time: 99.3 ms\n"
     ]
    }
   ],
   "source": [
    "%%time\n",
    "## Problem 46: Goldbach's other conjecture\n",
    "\n",
    "for i in itertools.count(1):\n",
    "    i_val = 2 * i + 1\n",
    "    if not sympy.isprime(i_val):\n",
    "        i_choice = np.sqrt((i_val - prime.primerange(i_val)) / 2)\n",
    "        if (i_choice.round(0) != i_choice).all():\n",
    "            break\n",
    "print(i_val)"
   ]
  },
  {
   "cell_type": "code",
   "execution_count": 49,
   "metadata": {},
   "outputs": [
    {
     "name": "stdout",
     "output_type": "stream",
     "text": [
      "134043\n",
      "CPU times: user 3.16 s, sys: 5.75 ms, total: 3.17 s\n",
      "Wall time: 3.17 s\n"
     ]
    }
   ],
   "source": [
    "%%time\n",
    "## Problem 47: Distinct primes factors\n",
    "\n",
    "n = 4\n",
    "\n",
    "count = 0\n",
    "for i in itertools.count():\n",
    "    i_val = len(sympy.primefactors(i))\n",
    "    if i_val == n:\n",
    "        count += 1\n",
    "        if count >= n:\n",
    "            break\n",
    "    else:\n",
    "        count = 0\n",
    "print(i - 3)"
   ]
  },
  {
   "cell_type": "code",
   "execution_count": 50,
   "metadata": {},
   "outputs": [
    {
     "name": "stdout",
     "output_type": "stream",
     "text": [
      "9110846700\n",
      "CPU times: user 146 ms, sys: 1.91 ms, total: 148 ms\n",
      "Wall time: 146 ms\n"
     ]
    }
   ],
   "source": [
    "%%time\n",
    "## Problem 48: Self powers\n",
    "\n",
    "n_max = 1000\n",
    "n = 10\n",
    "\n",
    "def power_last_digits(x, n):\n",
    "    out = 1\n",
    "    a = int(10 ** n)\n",
    "    for i in range(x):\n",
    "        out *= x\n",
    "        out %= a\n",
    "    return(out)\n",
    "print(sum(power_last_digits(i, n) for i in 1 + np.arange(n_max)) % int(10 ** n))"
   ]
  },
  {
   "cell_type": "code",
   "execution_count": 51,
   "metadata": {},
   "outputs": [
    {
     "name": "stdout",
     "output_type": "stream",
     "text": [
      "296962999629\n",
      "CPU times: user 60 ms, sys: 4.22 ms, total: 64.3 ms\n",
      "Wall time: 61.1 ms\n"
     ]
    }
   ],
   "source": [
    "%%time\n",
    "## Problem 49: Prime permutations\n",
    "\n",
    "n = 3\n",
    "n_min = 1000\n",
    "n_max = 10000\n",
    "n_exclude = 4817\n",
    "\n",
    "def prime_perm():\n",
    "    n_list = prime.primerange(n_max)\n",
    "    n_list = n_list[n_list > n_min]\n",
    "    S = pd.Series([tuple(np.sort(list(str(i)))) for i in n_list], n_list, name=\"perm\")\n",
    "    for i_key, i in S.reset_index().groupby(\"perm\")[\"index\"]:\n",
    "        if len(i) >= 3:\n",
    "            i_val = np.abs(np.add.outer(i, -i))\n",
    "            for j in range(len(i_val)):\n",
    "                if (len(np.unique(i_val[j])) < len(i_val)) & (i.values[j] != n_exclude):\n",
    "                    j_val = pd.Series(i_val[j]).duplicated(keep = False)\n",
    "                    return(int(\"\".join(str(i.values[k]) for k in [j_val.index[j_val][0], j, j_val.index[j_val][1]])))\n",
    "print(prime_perm())"
   ]
  },
  {
   "cell_type": "code",
   "execution_count": 52,
   "metadata": {},
   "outputs": [
    {
     "name": "stdout",
     "output_type": "stream",
     "text": [
      "997651\n",
      "CPU times: user 12.3 s, sys: 138 ms, total: 12.5 s\n",
      "Wall time: 13.2 s\n"
     ]
    }
   ],
   "source": [
    "%%time\n",
    "## Problem 50: Consecutive prime sum\n",
    "\n",
    "n_max = int(1e6)\n",
    "\n",
    "n_list = prime.primerange(n_max)\n",
    "out = np.zeros(n_max)\n",
    "for i in range(len(n_list)):\n",
    "    i_val = n_list[i:].cumsum()\n",
    "    i_val = i_val[i_val < n_max]\n",
    "    out[i_val] = np.maximum(out[i_val], 1 + np.arange(len(i_val)))\n",
    "print(n_list[np.argmax(out[n_list])])"
   ]
  },
  {
   "cell_type": "code",
   "execution_count": 53,
   "metadata": {},
   "outputs": [
    {
     "name": "stdout",
     "output_type": "stream",
     "text": [
      "121313\n",
      "CPU times: user 17.3 s, sys: 176 ms, total: 17.5 s\n",
      "Wall time: 17.5 s\n"
     ]
    }
   ],
   "source": [
    "%%time\n",
    "## Problem 51: Prime digit replacements\n",
    "\n",
    "len_min = 8\n",
    "\n",
    "for n in itertools.count(2):\n",
    "    n_list = prime.primerange(10 ** n)\n",
    "    n_list = n_list[n_list > 10 ** (n - 1)]\n",
    "    df = pd.DataFrame([[int(j) for j in str(i)] for i in n_list], n_list)\n",
    "    out = []\n",
    "    for i in range(1, n):\n",
    "        for j in itertools.combinations(np.arange(1, n), i):\n",
    "            j_val = np.setdiff1d(np.arange(n), j)\n",
    "            if len(j_val) == 1:\n",
    "                for k_key, k in df.groupby(j):\n",
    "                    if len(k) >= len_min:\n",
    "                        out.append(min(k.index.values))\n",
    "            else:\n",
    "                for k_key, k in df.groupby(j):\n",
    "                    k_val = (np.diff(k.values[:, j_val], axis=1) == 0).all(axis=1)\n",
    "                    if sum(k_val) >= len_min:\n",
    "                        out.append(min(k.index.values[k_val]))\n",
    "    if out:\n",
    "        break\n",
    "print(min(out))"
   ]
  },
  {
   "cell_type": "code",
   "execution_count": 54,
   "metadata": {},
   "outputs": [
    {
     "name": "stdout",
     "output_type": "stream",
     "text": [
      "142857\n",
      "CPU times: user 1.92 s, sys: 6.98 ms, total: 1.92 s\n",
      "Wall time: 1.92 s\n"
     ]
    }
   ],
   "source": [
    "%%time\n",
    "## Problem 52: Permuted multiples\n",
    "\n",
    "n = 6\n",
    "\n",
    "def contain_digit(x):\n",
    "    return(np.sort(list(str(x))))\n",
    "\n",
    "for i in itertools.count(1):\n",
    "    i += 10 ** len(str(i))\n",
    "    i_val = contain_digit(i)\n",
    "    if all(np.array_equal(i_val, contain_digit(j * i)) for j in np.arange(2, n)):\n",
    "        break\n",
    "print(i)"
   ]
  },
  {
   "cell_type": "code",
   "execution_count": 55,
   "metadata": {},
   "outputs": [
    {
     "name": "stdout",
     "output_type": "stream",
     "text": [
      "4075\n",
      "CPU times: user 11.9 ms, sys: 1.57 ms, total: 13.4 ms\n",
      "Wall time: 19.1 ms\n"
     ]
    }
   ],
   "source": [
    "%%time\n",
    "## Problem 53: Combinatoric selections\n",
    "\n",
    "n_max = 100\n",
    "n_val_max = int(1e6)\n",
    "\n",
    "out = []\n",
    "for i in 1 + np.arange(n_max):\n",
    "    for j in np.arange(i + 1):\n",
    "        j_val = special.comb(i, j)\n",
    "        if j_val > n_val_max:\n",
    "            j = j * 2 - 1\n",
    "            break\n",
    "    out.append(i - j)\n",
    "print(sum(out))"
   ]
  },
  {
   "cell_type": "code",
   "execution_count": 56,
   "metadata": {},
   "outputs": [
    {
     "name": "stdout",
     "output_type": "stream",
     "text": [
      "376\n",
      "CPU times: user 478 ms, sys: 5.61 ms, total: 484 ms\n",
      "Wall time: 1.52 s\n"
     ]
    }
   ],
   "source": [
    "%%time\n",
    "## Problem 54: Poker hands\n",
    "\n",
    "n = 5\n",
    "n_dict = {\"2\": 2, \"3\": 3, \"4\": 4, \"5\": 5, \"6\": 6, \"7\": 7, \"8\": 8, \"9\": 9, \"T\": 10, \"J\": 11, \"Q\": 12, \"K\": 13, \"A\": 14}\n",
    "def poker_rank(df):\n",
    "    df_rank = pd.DataFrame([np.bincount(i, minlength = 5) for i_key, i in df.iterrows()])\n",
    "    df_rank[5] = (df_rank[1] == 5) & ((df.diff(axis=1) == 1).sum(axis=1) == 1)\n",
    "    df_rank = 7 * df_rank[4] + 2 * (df_rank[3] & df_rank[2]) + 4 * df_rank[5] + 3 * df_rank[3] + df_rank[2] + (df + np.arange(15) / 100).idxmax(axis=1) / 100\n",
    "    return(df_rank)\n",
    "\n",
    "df = pd.read_fwf(\"https://projecteuler.net/project/resources/p054_poker.txt\", header=None)\n",
    "df_1 = pd.DataFrame([np.bincount([n_dict[j[0]] for j in i], minlength = 15) for i_key, i in df.iloc[:, :n].iterrows()])\n",
    "df_2 = pd.DataFrame([np.bincount([n_dict[j[0]] for j in i], minlength = 15) for i_key, i in df.iloc[:, n:].iterrows()])\n",
    "S_suit = df.iloc[:, :n].apply(lambda x: len(set(i[1] for i in x)) == 1, axis=1).astype('int') - df.iloc[:, n:].apply(lambda x: len(set(i[1] for i in x)) == 1, axis=1).astype('int')\n",
    "df_rank_1 = poker_rank(df_1)\n",
    "df_rank_2 = poker_rank(df_2)\n",
    "print(np.sum(df_rank_1 - df_rank_2 + 5 * S_suit > 0))"
   ]
  },
  {
   "cell_type": "code",
   "execution_count": 57,
   "metadata": {},
   "outputs": [
    {
     "name": "stdout",
     "output_type": "stream",
     "text": [
      "249\n",
      "CPU times: user 121 ms, sys: 2.43 ms, total: 123 ms\n",
      "Wall time: 121 ms\n"
     ]
    }
   ],
   "source": [
    "%%time\n",
    "## Problem 55: Lychrel numbers\n",
    "\n",
    "n_max = 10000\n",
    "max_iter = 50\n",
    "\n",
    "n_dict = {}\n",
    "out = np.ones(n_max, dtype=\"bool\")\n",
    "for i in range(n_max):\n",
    "    i_val = i\n",
    "    for j in range(max_iter):\n",
    "        i_val += int(str(i_val)[::-1])\n",
    "        if int(str(i_val)[::-1]) == i_val:\n",
    "            out[i] = 0\n",
    "            break\n",
    "print(sum(out))"
   ]
  },
  {
   "cell_type": "code",
   "execution_count": 58,
   "metadata": {},
   "outputs": [
    {
     "name": "stdout",
     "output_type": "stream",
     "text": [
      "972\n",
      "CPU times: user 253 ms, sys: 3.57 ms, total: 256 ms\n",
      "Wall time: 256 ms\n"
     ]
    }
   ],
   "source": [
    "%%time\n",
    "## Problem 56: Powerful digit sum\n",
    "\n",
    "n_max = 100\n",
    "out = []\n",
    "for i in range(n_max):\n",
    "    i_val = 1\n",
    "    out.append([])\n",
    "    for j in range(n_max):\n",
    "        i_val *= i\n",
    "        out[-1].append(sum([int(k) for k in str(i_val)]))     \n",
    "print(np.max(out))"
   ]
  },
  {
   "cell_type": "code",
   "execution_count": 59,
   "metadata": {},
   "outputs": [
    {
     "name": "stdout",
     "output_type": "stream",
     "text": [
      "153\n",
      "CPU times: user 3.54 ms, sys: 129 µs, total: 3.67 ms\n",
      "Wall time: 3.61 ms\n"
     ]
    }
   ],
   "source": [
    "%%time\n",
    "## Problem 57: Square root convergents\n",
    "\n",
    "n_max = 1000\n",
    "\n",
    "n_list_0 = [3]\n",
    "n_list_1 = [2]\n",
    "for i in range(n_max):\n",
    "    n_list_1.append(n_list_0[-1] + n_list_1[-1])\n",
    "    n_list_0.append(n_list_1[-1] + n_list_1[-2])\n",
    "print(sum([len(str(i)) > len(str(j)) for i, j in zip(n_list_0, n_list_1)]))"
   ]
  },
  {
   "cell_type": "code",
   "execution_count": 60,
   "metadata": {},
   "outputs": [
    {
     "name": "stdout",
     "output_type": "stream",
     "text": [
      "26241\n",
      "CPU times: user 819 ms, sys: 17.4 ms, total: 837 ms\n",
      "Wall time: 827 ms\n"
     ]
    }
   ],
   "source": [
    "%%time\n",
    "## Problem 58: Spiral primes\n",
    "\n",
    "r_min = 0.1\n",
    "\n",
    "i_val = 0\n",
    "for i in itertools.count(1):\n",
    "    i_val += sum(prime.isprime(j) for j in (2 * i + 1) ** 2 + 2 * i * (np.arange(4) - 3))\n",
    "    if i_val / (4 * i + 1) < r_min:\n",
    "        break\n",
    "print(2 * i + 1)"
   ]
  },
  {
   "cell_type": "code",
   "execution_count": 61,
   "metadata": {},
   "outputs": [
    {
     "name": "stdout",
     "output_type": "stream",
     "text": [
      "107359\n",
      "CPU times: user 27.7 ms, sys: 4.82 ms, total: 32.5 ms\n",
      "Wall time: 652 ms\n"
     ]
    }
   ],
   "source": [
    "%%time\n",
    "## Problem 59: XOR decryption\n",
    "\n",
    "n = 3\n",
    "url = requests.get(\"https://projecteuler.net/project/resources/p059_cipher.txt\")\n",
    "\n",
    "S = pd.Series(url.text.split(\",\"), dtype=\"uint8\")\n",
    "grp = S.groupby(S.index.values % n)\n",
    "key = np.bitwise_xor(np.array([pd.value_counts(i).index[0] for i_key, i in grp], \"uint8\"), ord(\" \"))\n",
    "print(sum([sum(np.bitwise_xor(i.values, key[i_key])) for i_key, i in grp]))"
   ]
  },
  {
   "cell_type": "code",
   "execution_count": 62,
   "metadata": {},
   "outputs": [
    {
     "name": "stdout",
     "output_type": "stream",
     "text": [
      "26033\n",
      "CPU times: user 50.9 s, sys: 499 ms, total: 51.4 s\n",
      "Wall time: 51.6 s\n"
     ]
    }
   ],
   "source": [
    "%%time\n",
    "## Problem 60: Prime pair sets\n",
    "\n",
    "n = 5\n",
    "n_max = int(1e8)\n",
    "n_list = [list() for i in range(n)]\n",
    "prime_set = set(prime.primerange(n_max))\n",
    "for i in itertools.count(1):\n",
    "    i_val = sympy.prime(i)\n",
    "    for j in range(n - 1):\n",
    "        for k in n_list[j]:\n",
    "            if all(int(\"{}{}\".format(l[0], l[1])) in prime_set for l in itertools.permutations(k + [i_val], 2)):\n",
    "                n_list[j + 1].append(k + [i_val])\n",
    "    if n_list[n - 1]:\n",
    "        break\n",
    "    n_list[0].append([i_val])\n",
    "print(sum(n_list[n - 1][0]))"
   ]
  },
  {
   "cell_type": "code",
   "execution_count": 63,
   "metadata": {},
   "outputs": [
    {
     "name": "stdout",
     "output_type": "stream",
     "text": [
      "28684\n",
      "CPU times: user 1.74 s, sys: 20.6 ms, total: 1.76 s\n",
      "Wall time: 1.77 s\n"
     ]
    }
   ],
   "source": [
    "%%time\n",
    "## Problem 61: Cyclical figurate numbers\n",
    "\n",
    "n_len = 6\n",
    "n_min = 1000\n",
    "n_max = 10000\n",
    "\n",
    "n = np.arange(2 * np.sqrt(n_max), dtype=\"int\")\n",
    "n_list = [i[(i < n_max) & (i >= n_min) & (i % 100 >= 10)] for i in [n * (n + 1) // 2, n ** 2, n * (3 * n - 1) // 2, n * (2 * n - 1), n * (5 * n - 3) // 2, n * (3 * n - 2)]]\n",
    "df_list = [pd.DataFrame([i // 100, i % 100]).T for i in n_list]\n",
    "for i in itertools.permutations(range(n_len - 1)):\n",
    "    df = df_list[n_len - 1]\n",
    "    for j_key, j in enumerate(i):\n",
    "        df = df.set_index(j_key + 1).join(df_list[j].rename(columns=lambda x: x + j_key + 1).set_index(j_key + 1), lsuffix=\"old\", how=\"inner\").reset_index().rename(columns={\"index\": j_key + 1})\n",
    "    i_val = df[n_len] == df[0]\n",
    "    if i_val.any():\n",
    "        break\n",
    "print((df.loc[i_val, range(n_len)].values * (100 + 1)).sum())"
   ]
  },
  {
   "cell_type": "code",
   "execution_count": 64,
   "metadata": {},
   "outputs": [
    {
     "name": "stdout",
     "output_type": "stream",
     "text": [
      "127035954683\n",
      "CPU times: user 1.27 s, sys: 33.9 ms, total: 1.3 s\n",
      "Wall time: 1.28 s\n"
     ]
    }
   ],
   "source": [
    "%%time\n",
    "## Problem 62: Cubic permutations\n",
    "\n",
    "out = []\n",
    "for n in itertools.count(1):\n",
    "    n_list = np.arange(10 ** (n - 1), 10 ** n) ** 3\n",
    "    df = pd.DataFrame(np.vstack(np.bincount([int(j) for j in i], minlength=10) for i in n_list.astype(\"str\")), n_list)\n",
    "    out += [i_val for i, i_val in df.groupby(list(range(10))) if len(i_val) >= 5]\n",
    "    if out:\n",
    "        break\n",
    "print(pd.concat(out).index.min())"
   ]
  },
  {
   "cell_type": "code",
   "execution_count": 65,
   "metadata": {},
   "outputs": [
    {
     "name": "stdout",
     "output_type": "stream",
     "text": [
      "49\n",
      "CPU times: user 394 µs, sys: 190 µs, total: 584 µs\n",
      "Wall time: 469 µs\n"
     ]
    }
   ],
   "source": [
    "%%time\n",
    "## Problem 63: Powerful digit counts\n",
    "\n",
    "n_max = 100\n",
    "n_list = np.arange(n_max)\n",
    "print(((np.multiply.outer(np.log10(np.arange(1, 10)), n_list) + 1).astype(\"int\") == n_list).sum())"
   ]
  },
  {
   "cell_type": "code",
   "execution_count": 66,
   "metadata": {},
   "outputs": [
    {
     "name": "stdout",
     "output_type": "stream",
     "text": [
      "1322\n",
      "CPU times: user 618 ms, sys: 2.36 ms, total: 620 ms\n",
      "Wall time: 619 ms\n"
     ]
    }
   ],
   "source": [
    "%%time\n",
    "## Problem 64: Odd period square roots\n",
    "\n",
    "n_max = 10000\n",
    "\n",
    "def sqrt_fraction_period(x):\n",
    "    x_sqrt = np.sqrt(x)\n",
    "    if x_sqrt == int(x_sqrt):\n",
    "        return(0)\n",
    "    x_q = [x - int(x_sqrt) ** 2]\n",
    "    x_m = [(x_sqrt + int(x_sqrt)) // x_q[-1]]\n",
    "    x_r = [x_m[-1] * x_q[-1] - int(x_sqrt)]\n",
    "    for i in itertools.count():\n",
    "        x_q.append((x - x_r[-1] ** 2) // x_q[-1])\n",
    "        x_m.append((x_sqrt + x_r[-1]) // x_q[-1])\n",
    "        x_r.append(x_m[-1] * x_q[-1] - x_r[-1])\n",
    "        if (x_q[-1] == x_q[0]) & (x_m[-1] == x_m[0]) & (x_r[-1] == x_r[0]):\n",
    "            break\n",
    "    return(len(x_m) - 1)\n",
    "\n",
    "print(sum([sqrt_fraction_period(i) % 2 == 1 for i in range(n_max + 1)]))"
   ]
  },
  {
   "cell_type": "code",
   "execution_count": 67,
   "metadata": {},
   "outputs": [
    {
     "name": "stdout",
     "output_type": "stream",
     "text": [
      "272\n",
      "CPU times: user 497 µs, sys: 535 µs, total: 1.03 ms\n",
      "Wall time: 593 µs\n"
     ]
    }
   ],
   "source": [
    "%%time\n",
    "## Problem 65: Convergents of e\n",
    "\n",
    "n = 100\n",
    "\n",
    "def continued_fraction(m, x):\n",
    "    x_q = [0, 1]\n",
    "    for i in reversed(x):\n",
    "        x_q.append(i * x_q[-1] + x_q[-2])\n",
    "    x_q.append(m * x_q[-1] + x_q[-2])\n",
    "    return(x_q)\n",
    "\n",
    "n_list = np.hstack([np.ones([n // 3 + 1, 1]), 2 * (1 + np.arange(n // 3 + 1))[:, np.newaxis], np.ones([n // 3 + 1, 1])]).flatten()[:n - 1]\n",
    "print(sum([int(j) for j in str(continued_fraction(2, [int(i) for i in n_list])[-1])]))"
   ]
  },
  {
   "cell_type": "code",
   "execution_count": 109,
   "metadata": {},
   "outputs": [
    {
     "name": "stdout",
     "output_type": "stream",
     "text": [
      "100001 330 43.1850940873\n",
      "200001 311 45.1850796605\n",
      "300001 292 46.3549998529\n",
      "400001 280 47.185072447\n",
      "500001 273 47.8289271941\n",
      "600001 270 48.354995044\n",
      "700001 266 48.7997791996\n",
      "800001 264 49.1850688403\n",
      "900001 263 49.5249184424\n",
      "1000001 259 49.8289243087\n",
      "1100001 257 50.1039310939\n",
      "1300001 255 50.5845034725\n",
      "1400001 253 50.7983337218\n",
      "1500001 252 50.9974049315\n",
      "1600001 251 51.18362362\n",
      "1800001 250 51.5234734225\n",
      "1900001 248 51.6794783622\n",
      "2000001 247 51.8274794491\n",
      "2100001 245 51.9682580362\n",
      "2200001 243 52.1024863655\n",
      "2400001 242 52.3535480204\n",
      "2500001 240 52.4713353504\n",
      "2800001 239 52.7983326913\n",
      "3000001 238 52.9974039697\n",
      "3200001 236 53.1836227184\n",
      "3300001 234 53.2709660673\n",
      "3700001 233 53.6010844653\n",
      "4100001 232 53.8972816672\n",
      "4200001 230 53.9668124868\n",
      "4600001 229 54.2293014936\n",
      "4800001 228 54.3521025568\n",
      "5000001 227 54.4698899108\n",
      "5100001 225 54.5270282039\n",
      "5300001 224 54.6380184078\n",
      "6400001 223 55.1821774051\n",
      "6500001 222 55.2269130242\n",
      "6600001 220 55.2709656301\n",
      "7100001 219 55.4816715996\n",
      "7300001 217 55.5618264672\n",
      "7400001 216 55.6010840754\n",
      "8300001 215 55.9322561645\n",
      "8400001 214 55.9668121433\n",
      "9100001 213 56.1977665517\n",
      "9400001 211 56.2913549645\n",
      "9700001 210 56.382002936\n",
      "9900001 209 56.4408904858\n",
      "10400001 208 56.5830566679\n",
      "10500001 206 56.6106682643\n",
      "11900001 205 56.9718127233\n",
      "13200001 204 57.2709654115\n",
      "14400001 203 57.5220271575\n",
      "15100001 202 57.6589866239\n",
      "17600001 201 58.1010403554\n",
      "18500001 200 58.2449400312\n",
      "21500001 199 58.6785627876\n",
      "25300001 198 59.1481642176\n",
      "26100001 197 59.2379890579\n",
      "27200001 196 59.3571027428\n",
      "28900001 195 59.5320284191\n",
      "30500001 194 59.6875079137\n",
      "31200001 193 59.7515351735\n",
      "35200001 192 60.0995939625\n",
      "43500001 191 60.7104738911\n",
      "53400001 190 61.3021225607\n",
      "56600001 189 61.4700471799\n",
      "64900001 188 61.8648800237\n",
      "66100001 187 61.9177436099\n",
      "66800001 186 61.9481392714\n",
      "67900001 185 61.9952662143\n",
      "70300001 184 62.0954924425\n",
      "75400001 183 62.2975721081\n",
      "107700001 182 63.3263357392\n",
      "113100001 181 63.4674970968\n",
      "132100001 180 63.9155601676\n",
      "140700001 179 64.0975438903\n",
      "158400001 178 64.4394439016\n",
      "171100001 177 64.6619787491\n",
      "185300001 176 64.8920249909\n",
      "202700001 175 65.1509914044\n",
      "224500001 174 65.4370216682\n",
      "226200001 173 65.4587886368\n",
      "269300001 172 65.9620192358\n",
      "295000001 171 66.2250206841\n",
      "361700001 170 66.8131779693\n",
      "363800001 169 66.8298818593\n",
      "365700001 168 66.8449120266\n",
      "372700001 167 66.8996204113\n",
      "374000001 166 66.9096673133\n",
      "400200001 165 67.1050331071\n",
      "415200001 164 67.2112036597\n"
     ]
    },
    {
     "ename": "KeyboardInterrupt",
     "evalue": "",
     "output_type": "error",
     "traceback": [
      "\u001b[0;31m---------------------------------------------------------------------------\u001b[0m",
      "\u001b[0;31mKeyboardInterrupt\u001b[0m                         Traceback (most recent call last)",
      "\u001b[0;32m<ipython-input-109-f4b0940aa4fc>\u001b[0m in \u001b[0;36m<module>\u001b[0;34m()\u001b[0m\n\u001b[1;32m     18\u001b[0m     \u001b[0mY2D\u001b[0m \u001b[0;34m+=\u001b[0m \u001b[0;36m1\u001b[0m\u001b[0;34m\u001b[0m\u001b[0m\n\u001b[1;32m     19\u001b[0m     \u001b[0mnp\u001b[0m\u001b[0;34m.\u001b[0m\u001b[0msqrt\u001b[0m\u001b[0;34m(\u001b[0m\u001b[0mY2D\u001b[0m\u001b[0;34m,\u001b[0m \u001b[0mX\u001b[0m\u001b[0;34m)\u001b[0m\u001b[0;34m\u001b[0m\u001b[0m\n\u001b[0;32m---> 20\u001b[0;31m     \u001b[0mnp\u001b[0m\u001b[0;34m.\u001b[0m\u001b[0msquare\u001b[0m\u001b[0;34m(\u001b[0m\u001b[0mX\u001b[0m\u001b[0;34m.\u001b[0m\u001b[0mround\u001b[0m\u001b[0;34m(\u001b[0m\u001b[0;34m)\u001b[0m\u001b[0;34m.\u001b[0m\u001b[0mastype\u001b[0m\u001b[0;34m(\u001b[0m\u001b[0;34m\"uint\"\u001b[0m\u001b[0;34m)\u001b[0m\u001b[0;34m,\u001b[0m \u001b[0mX2\u001b[0m\u001b[0;34m)\u001b[0m\u001b[0;34m\u001b[0m\u001b[0m\n\u001b[0m\u001b[1;32m     21\u001b[0m     \u001b[0mnp\u001b[0m\u001b[0;34m.\u001b[0m\u001b[0mequal\u001b[0m\u001b[0;34m(\u001b[0m\u001b[0mX2\u001b[0m\u001b[0;34m,\u001b[0m \u001b[0mY2D\u001b[0m\u001b[0;34m,\u001b[0m \u001b[0mX_bool\u001b[0m\u001b[0;34m)\u001b[0m\u001b[0;34m\u001b[0m\u001b[0m\n\u001b[1;32m     22\u001b[0m     \u001b[0mi_val\u001b[0m \u001b[0;34m=\u001b[0m \u001b[0mX_bool\u001b[0m\u001b[0;34m.\u001b[0m\u001b[0many\u001b[0m\u001b[0;34m(\u001b[0m\u001b[0maxis\u001b[0m\u001b[0;34m=\u001b[0m\u001b[0;36m0\u001b[0m\u001b[0;34m)\u001b[0m\u001b[0;34m\u001b[0m\u001b[0m\n",
      "\u001b[0;31mKeyboardInterrupt\u001b[0m: "
     ]
    }
   ],
   "source": [
    "## Problem 66: Diophantine equation\n",
    "## integer method\n",
    "\n",
    "n_max = 1000\n",
    "\n",
    "n_list = np.arange(1 + n_max, dtype=\"uint\")\n",
    "out = np.zeros(1 + n_max, dtype=\"uint\")\n",
    "n_list = n_list[np.sqrt(n_list) % 1 != 0]\n",
    "n_thres = int(1e9)\n",
    "n_batch = int(1e5)\n",
    "\n",
    "y = 2 + np.arange(n_batch, dtype=\"uint\")\n",
    "y2 = np.empty(n_batch, dtype=\"uint\")\n",
    "Y2D = np.empty([n_batch, len(n_list)], dtype=\"uint\")\n",
    "X = np.empty([n_batch, len(n_list)], dtype=\"longdouble\")\n",
    "X2 = np.empty([n_batch, len(n_list)], dtype=\"uint\")\n",
    "X_bool = np.empty([n_batch, len(n_list)], dtype=\"bool\")\n",
    "for i in np.arange(2, n_thres, n_batch):\n",
    "    np.square(y, y2)\n",
    "    np.outer(y2, n_list, Y2D)\n",
    "    Y2D += 1\n",
    "    np.sqrt(Y2D, X)\n",
    "    np.square(X.round().astype(\"uint\"), X2)\n",
    "    np.equal(X2, Y2D, X_bool)\n",
    "    i_val = X_bool.any(axis=0)\n",
    "    if i_val.any():\n",
    "        out[n_list[i_val]] = X.round().astype(\"uint\")[X_bool[:, i_val].argmax(axis=0), i_val]\n",
    "        n_list = n_list[~i_val]\n",
    "        print(y_list[-1], len(n_list), 2 * np.log2(y_list[-1]) + np.log2(n_list[-1]))\n",
    "        if len(n_list) == 0:\n",
    "            break\n",
    "        Y2D = np.empty([n_batch, len(n_list)], dtype=\"uint\")\n",
    "        X = np.empty([n_batch, len(n_list)], dtype=\"longdouble\")\n",
    "        X2 = np.empty([n_batch, len(n_list)], dtype=\"uint\")\n",
    "        X_bool = np.empty([n_batch, len(n_list)], dtype=\"bool\") \n",
    "    y_list += n_batch\n",
    "np.argmax(out)"
   ]
  },
  {
   "cell_type": "code",
   "execution_count": 68,
   "metadata": {},
   "outputs": [
    {
     "name": "stdout",
     "output_type": "stream",
     "text": [
      "7273\n",
      "CPU times: user 50.3 ms, sys: 9.02 ms, total: 59.4 ms\n",
      "Wall time: 541 ms\n"
     ]
    }
   ],
   "source": [
    "%%time\n",
    "## Problem 67: Maximum path sum II\n",
    "\n",
    "A = pd.read_fwf(\"https://projecteuler.net/project/resources/p067_triangle.txt\", delim_whitespace=True, header=None).fillna(0).values.astype('int')\n",
    "\n",
    "A_cum = A.copy()\n",
    "A_bool = np.zeros(A.shape, dtype=\"int\")\n",
    "for i in np.arange(len(A)-1, 0, -1):\n",
    "    A_bool[i - 1, :-1] = (np.diff(A_cum[i]) > 0).astype(\"int\")\n",
    "    A_cum[i - 1] += A_cum[i, np.arange(len(A)) + A_bool[i - 1]]\n",
    "print(A_cum[0, 0])"
   ]
  },
  {
   "cell_type": "code",
   "execution_count": 69,
   "metadata": {},
   "outputs": [
    {
     "name": "stdout",
     "output_type": "stream",
     "text": [
      "6531031914842725\n",
      "CPU times: user 11.2 s, sys: 12 ms, total: 11.2 s\n",
      "Wall time: 11.2 s\n"
     ]
    }
   ],
   "source": [
    "%%time\n",
    "## Problem 68: Magic 5-gon ring\n",
    "\n",
    "n_max = 10\n",
    "n_list = np.arange(1, n_max)\n",
    "\n",
    "out = []\n",
    "for i in itertools.permutations(n_list):\n",
    "    i = list(i) + [n_max]\n",
    "    i_val = np.array([[i[5 + j], i[j], i[(j + 1) % 5]] for j in range(5)])\n",
    "    if (np.diff(i_val.sum(axis=1)) == 0).all():\n",
    "        i_begin = np.argmin(i_val[:, 0])\n",
    "        out.append(int(\"\".join([\"\".join([str(k) for k in j]) for j in i_val[i_begin:].tolist() + i_val[:i_begin].tolist()])))\n",
    "print(max(out))"
   ]
  },
  {
   "cell_type": "code",
   "execution_count": 70,
   "metadata": {},
   "outputs": [
    {
     "name": "stdout",
     "output_type": "stream",
     "text": [
      "510510\n",
      "CPU times: user 468 µs, sys: 275 µs, total: 743 µs\n",
      "Wall time: 608 µs\n"
     ]
    }
   ],
   "source": [
    "%%time\n",
    "## Problem 69: Totient maximum\n",
    "\n",
    "n_max = 1000000\n",
    "\n",
    "i_val = 1\n",
    "out = []\n",
    "for i in itertools.count(1):\n",
    "    i_val *= prime.prime(i)\n",
    "    if i_val > n_max:\n",
    "        break\n",
    "    out.append(i_val)\n",
    "print(max(out))"
   ]
  },
  {
   "cell_type": "code",
   "execution_count": 71,
   "metadata": {},
   "outputs": [
    {
     "name": "stdout",
     "output_type": "stream",
     "text": [
      "8319823\n",
      "CPU times: user 1min 33s, sys: 1.52 s, total: 1min 35s\n",
      "Wall time: 1min 35s\n"
     ]
    }
   ],
   "source": [
    "%%time\n",
    "## Problem 70: Totient permutation\n",
    "\n",
    "n_max = int(1e7)\n",
    "\n",
    "prime_list = prime.primerange(2 * n_max)\n",
    "log_prime_list = np.log(prime_list)\n",
    "val_list = np.log(1 - 1 / prime_list)\n",
    "\n",
    "def top_totient(n_max, prime_max):\n",
    "    log_n_max = np.log(n_max)\n",
    "    i_list = [0]\n",
    "    i_val_list = [prime_list[i] for i in i_list]\n",
    "    log_i_val_list = [log_prime_list[i] for i in i_list]\n",
    "    out = sum(log_i_val_list)\n",
    "    i = i_list[-1]\n",
    "    i_bool = True\n",
    "    while True:\n",
    "        i += 1\n",
    "        i_val = prime_list[i]\n",
    "        log_i_val = log_prime_list[i]\n",
    "        if i_val > prime_max:\n",
    "            i_bool = False\n",
    "        if i_bool:\n",
    "            if out + log_i_val < log_n_max:\n",
    "                i_list.append(i)\n",
    "                out += log_i_val\n",
    "                i_val_list.append(i_val)\n",
    "                log_i_val_list.append(log_i_val)\n",
    "                yield [out, val_list[i_list].sum()]\n",
    "            else:\n",
    "                i -= 1\n",
    "                i_bool = False\n",
    "        elif (i_val <= prime_max) & (out + log_i_val - log_i_val_list[-1] < log_n_max):\n",
    "            i_list[-1] = i\n",
    "            out += log_i_val - log_i_val_list[-1]\n",
    "            i_val_list[-1] = prime_list[i]\n",
    "            log_i_val_list[-1] = log_prime_list[i]\n",
    "            yield [out, val_list[i_list].sum()]\n",
    "        else:\n",
    "            i_list.pop()\n",
    "            if len(i_list) == 0:\n",
    "                break\n",
    "            i_list[-1] += 1\n",
    "            i = i_list[-1]\n",
    "            i_val_list.pop()\n",
    "            i_val_list[-1] = prime_list[i]\n",
    "            log_i_val_list.pop()\n",
    "            log_i_val_list[-1] = log_prime_list[i]\n",
    "            out = sum(log_i_val_list)\n",
    "            yield [out, val_list[i_list].sum()]\n",
    "            i_bool = True\n",
    "            \n",
    "df = pd.DataFrame(np.exp(list(top_totient(n_max, n_max))), columns=[\"n\", \"phi\"])\n",
    "df = df.sort_values([\"phi\"], ascending=False).reset_index(drop=True).assign(n = lambda x: x[\"n\"], phi = lambda x: (x[\"n\"] * x[\"phi\"])).round().astype('int')\n",
    "for i, i_phi in df.values:\n",
    "    i_val = np.bincount([int(j) for j in str(i)], minlength=10)\n",
    "    i_val_phi = np.bincount([int(j) for j in str(i_phi)], minlength=10)\n",
    "    if all(i_val_phi == i_val):\n",
    "        break\n",
    "print(i)"
   ]
  },
  {
   "cell_type": "code",
   "execution_count": 72,
   "metadata": {},
   "outputs": [
    {
     "name": "stdout",
     "output_type": "stream",
     "text": [
      "428570\n",
      "CPU times: user 45.8 ms, sys: 26.3 ms, total: 72.2 ms\n",
      "Wall time: 69.5 ms\n"
     ]
    }
   ],
   "source": [
    "%%time\n",
    "## Problem 71: Ordered fractions\n",
    "\n",
    "n_max = int(1e6)\n",
    "p = 3\n",
    "q = 7\n",
    "\n",
    "q_list = 1 + np.arange(n_max)\n",
    "p_list = (q_list * p / q).round().astype('int')\n",
    "r_list = p_list * q / (q_list * p) - 1\n",
    "p_list = p_list[r_list < 0]\n",
    "q_list = q_list[r_list < 0]\n",
    "r_list = p_list * q / (q_list * p) - 1\n",
    "print(p_list[np.argmax(r_list)])"
   ]
  },
  {
   "cell_type": "code",
   "execution_count": 73,
   "metadata": {},
   "outputs": [
    {
     "name": "stdout",
     "output_type": "stream",
     "text": [
      "303963552391\n",
      "CPU times: user 12.9 s, sys: 205 ms, total: 13.1 s\n",
      "Wall time: 13.1 s\n"
     ]
    }
   ],
   "source": [
    "%%time\n",
    "## Problem 72: Counting fractions\n",
    "\n",
    "n_max = int(1e6)\n",
    "\n",
    "prime_list = prime.primerange(2 * n_max)\n",
    "log_prime_list = np.log(prime_list)\n",
    "log_phi_n_list = np.log(1 - 1 / prime_list)\n",
    "\n",
    "def full_totient(n_max, prime_max):\n",
    "    log_n_max = np.log(n_max + 0.5)\n",
    "    i_list = []\n",
    "    i_val_list = []\n",
    "    log_i_val_list = []\n",
    "    out = 0\n",
    "    \n",
    "    i = 0\n",
    "    i_val = prime_list[i]\n",
    "    log_i_val = log_prime_list[i]\n",
    "    i_bool = True\n",
    "    while True:\n",
    "        i_val = prime_list[i]\n",
    "        log_i_val = log_prime_list[i]\n",
    "        if i_val > prime_max:\n",
    "            i_bool = False\n",
    "        if i_bool:\n",
    "            if out + log_i_val < log_n_max:\n",
    "                i_list.append(i)\n",
    "                i_val_list.append(i_val)\n",
    "                log_i_val_list.append(log_i_val)\n",
    "                out += log_i_val\n",
    "                yield [out, log_phi_n_list[list(set(i_list))].sum()]\n",
    "            else:\n",
    "                i += 1\n",
    "                i_bool = False\n",
    "        elif (i_val <= prime_max) & (out + log_i_val - log_i_val_list[-1] < log_n_max):\n",
    "            i_list[-1] = i\n",
    "            out += log_i_val - log_i_val_list[-1]\n",
    "            i_val_list[-1] = prime_list[i]\n",
    "            log_i_val_list[-1] = log_prime_list[i]\n",
    "            yield [out, log_phi_n_list[list(set(i_list))].sum()]\n",
    "            i += 1\n",
    "        else:\n",
    "            i_list.pop()\n",
    "            if len(i_list) == 0:\n",
    "                break\n",
    "            i_list[-1] += 1\n",
    "            i = i_list[-1]\n",
    "            i_val_list.pop()\n",
    "            i_val_list[-1] = prime_list[i]\n",
    "            log_i_val_list.pop()\n",
    "            log_i_val_list[-1] = log_prime_list[i]\n",
    "            out = sum(log_i_val_list)\n",
    "            yield [out, log_phi_n_list[list(set(i_list))].sum()]\n",
    "            i_bool = True\n",
    "            \n",
    "df = pd.DataFrame(np.exp(list(full_totient(n_max, n_max))), columns=[\"n\", \"phi\"])\n",
    "df = df.assign(n = lambda x: x[\"n\"], phi = lambda x: (x[\"n\"] * x[\"phi\"])).round().astype('int').sort_values(\"n\")\n",
    "print(sum(df[\"phi\"]))"
   ]
  },
  {
   "cell_type": "code",
   "execution_count": 74,
   "metadata": {},
   "outputs": [
    {
     "name": "stdout",
     "output_type": "stream",
     "text": [
      "7295372\n",
      "CPU times: user 42.2 s, sys: 4.11 s, total: 46.4 s\n",
      "Wall time: 47.1 s\n"
     ]
    }
   ],
   "source": [
    "%%time\n",
    "## Problem 73: Counting fractions in a range\n",
    "\n",
    "n_max = 12000\n",
    "i_max = 1 / 2\n",
    "i_min = 1 / 3\n",
    "\n",
    "n_list = 1 + np.arange(n_max)\n",
    "\n",
    "out = [i for i in set(np.divide.outer(n_list[:int(n_max * i_max + 1)], n_list).flatten()) if i_min < i < i_max]\n",
    "print(len(out))"
   ]
  },
  {
   "cell_type": "code",
   "execution_count": 75,
   "metadata": {},
   "outputs": [
    {
     "name": "stdout",
     "output_type": "stream",
     "text": [
      "402\n",
      "CPU times: user 33.2 s, sys: 648 ms, total: 33.9 s\n",
      "Wall time: 33.9 s\n"
     ]
    }
   ],
   "source": [
    "%%time\n",
    "## Problem 74: Digit factorial chains\n",
    "\n",
    "n_max = int(1e6)\n",
    "n_dict = {str(i): special.factorial(i, exact=True) for i in range(10)}\n",
    "    \n",
    "chain_val_dict = {}\n",
    "out = []\n",
    "\n",
    "def chain_path(x):\n",
    "    x_val = x[-1]\n",
    "    x_next = chain_val_dict.get(x_val)\n",
    "    if x_next is None:\n",
    "        x_next = sum(n_dict[i] for i in str(x_val))\n",
    "        chain_val_dict[x_val] = x_next\n",
    "    if x_next in x:\n",
    "        return(x)\n",
    "    else:\n",
    "        x.append(x_next)\n",
    "        return(chain_path(x))\n",
    "\n",
    "for i in range(n_max):\n",
    "    out.append(chain_path([i]))\n",
    "print(sum(len(i) == 60 for i in out))"
   ]
  },
  {
   "cell_type": "code",
   "execution_count": 76,
   "metadata": {},
   "outputs": [
    {
     "name": "stdout",
     "output_type": "stream",
     "text": [
      "161667\n",
      "CPU times: user 4.13 s, sys: 77.4 ms, total: 4.21 s\n",
      "Wall time: 4.2 s\n"
     ]
    }
   ],
   "source": [
    "%%time\n",
    "## Problem 75: Singular integer right triangles\n",
    "\n",
    "n_max = 1500000\n",
    "\n",
    "n_list = 1 + np.arange(int(np.sqrt(n_max)))\n",
    "m_list = 1 + np.arange(0, int(np.sqrt(n_max)), 2)\n",
    "nm = np.outer(2 * n_list, m_list)\n",
    "\n",
    "A = (nm + m_list ** 2).T\n",
    "B = nm.T + 2 * n_list ** 2\n",
    "C = A + 2 * n_list ** 2\n",
    "L = A + B + C\n",
    "S = pd.Series((C / L).flatten(), L.flatten()).sort_index().loc[:n_max].drop_duplicates().groupby(level=0).count()\n",
    "out = np.zeros(n_max + 1, dtype=\"int\")\n",
    "out[S.index] = S.values\n",
    "for i, i_val in S.iteritems():\n",
    "    out[np.arange(2 * i, n_max + 1, i)] += i_val\n",
    "print(sum(out == 1))"
   ]
  },
  {
   "cell_type": "code",
   "execution_count": 171,
   "metadata": {},
   "outputs": [
    {
     "name": "stdout",
     "output_type": "stream",
     "text": [
      "190569291\n",
      "CPU times: user 63 ms, sys: 12.7 ms, total: 75.7 ms\n",
      "Wall time: 66 ms\n"
     ]
    }
   ],
   "source": [
    "%%time\n",
    "## Problem 76: Counting summations\n",
    "\n",
    "n = 100\n",
    "\n",
    "class CountSum():\n",
    "    '''\n",
    "    Problem 66 - 68\n",
    "    '''\n",
    "    def __init__(self, n_list = None):\n",
    "        self.n_list = n_list\n",
    "        self.val_dict = {}\n",
    "        \n",
    "    def count(self, x, val, key):\n",
    "        if val == 0:\n",
    "            return(1)\n",
    "        out = self.val_dict.get((x, val, key))\n",
    "        if out is None:\n",
    "            diff = self.n_list[key + 1] - self.n_list[key]\n",
    "            if key < (len(self.n_list) - 1):\n",
    "                if val >= diff:\n",
    "                    out = sum(self.count(i, val - i * diff, key + 1) for i in 1 + np.arange(min(x, val // diff)))\n",
    "                else:\n",
    "                    out = 0\n",
    "                self.val_dict[(x, val, key)] = out\n",
    "            else:\n",
    "                out = int(x % diff == 0)\n",
    "        return(out)\n",
    "    \n",
    "    def countint(self, x, val):\n",
    "        if val == 0:\n",
    "            return(1)\n",
    "        out = self.val_dict.get((x, val))\n",
    "        if out is None:\n",
    "            out = sum(self.countint(i, val - i) for i in 1 + np.arange(min(x, val)))\n",
    "            self.val_dict[(x, val)] = out\n",
    "        return(out)\n",
    "    \n",
    "    def countsum(self, n):\n",
    "        if self.n_list is None:\n",
    "            return(sum(self.countint(i, n - i) for i in 1 + np.arange(n)))\n",
    "        else:\n",
    "            return(sum(self.count(i, n - self.n_list[0] * i, 0) for i in 1 + np.arange(n // self.n_list[0])))\n",
    "        \n",
    "counter = CountSum()\n",
    "print(counter.countsum(n) - 1)"
   ]
  },
  {
   "cell_type": "code",
   "execution_count": 156,
   "metadata": {},
   "outputs": [
    {
     "name": "stdout",
     "output_type": "stream",
     "text": [
      "71\n",
      "CPU times: user 73.5 ms, sys: 12.5 ms, total: 86.1 ms\n",
      "Wall time: 76.8 ms\n"
     ]
    }
   ],
   "source": [
    "%%time\n",
    "## Problem 77: Prime summations\n",
    "\n",
    "n_min = 2\n",
    "n_out = 5000\n",
    "\n",
    "counter = CountSum(prime.prime_list)\n",
    "for n in itertools.count(n_min):\n",
    "    n_val = counter.countsum(n)\n",
    "    if n_val > n_out:\n",
    "        break\n",
    "print(n)"
   ]
  },
  {
   "cell_type": "code",
   "execution_count": 172,
   "metadata": {},
   "outputs": [
    {
     "name": "stdout",
     "output_type": "stream",
     "text": [
      "100 141569292\n",
      "200 2396029388\n",
      "300 7058723602\n",
      "400 14128041926\n",
      "500 23845995027\n",
      "600 36166553622\n",
      "700 51107028659\n",
      "800 68714911979\n",
      "900 88779365430\n",
      "1000 111481727991\n",
      "1100 136673281283\n",
      "1200 164276661657\n",
      "1300 194410411672\n",
      "1400 226932998261\n",
      "1500 262106891117\n",
      "1600 299587572183\n",
      "1700 339505010007\n",
      "1800 381896590849\n",
      "1900 426575767364\n",
      "2000 473970344166\n"
     ]
    },
    {
     "ename": "KeyboardInterrupt",
     "evalue": "",
     "output_type": "error",
     "traceback": [
      "\u001b[0;31m---------------------------------------------------------------------------\u001b[0m",
      "\u001b[0;31mKeyboardInterrupt\u001b[0m                         Traceback (most recent call last)",
      "\u001b[0;32m<ipython-input-172-471c7f3da5f0>\u001b[0m in \u001b[0;36m<module>\u001b[0;34m()\u001b[0m\n\u001b[1;32m     44\u001b[0m \u001b[0mcounter\u001b[0m \u001b[0;34m=\u001b[0m \u001b[0mCountSum\u001b[0m\u001b[0;34m(\u001b[0m\u001b[0;34m)\u001b[0m\u001b[0;34m\u001b[0m\u001b[0m\n\u001b[1;32m     45\u001b[0m \u001b[0;32mfor\u001b[0m \u001b[0mn\u001b[0m \u001b[0;32min\u001b[0m \u001b[0mitertools\u001b[0m\u001b[0;34m.\u001b[0m\u001b[0mcount\u001b[0m\u001b[0;34m(\u001b[0m\u001b[0;36m1\u001b[0m\u001b[0;34m)\u001b[0m\u001b[0;34m:\u001b[0m\u001b[0;34m\u001b[0m\u001b[0m\n\u001b[0;32m---> 46\u001b[0;31m     \u001b[0mn_val\u001b[0m \u001b[0;34m=\u001b[0m \u001b[0mcounter\u001b[0m\u001b[0;34m.\u001b[0m\u001b[0mcountsum\u001b[0m\u001b[0;34m(\u001b[0m\u001b[0mn\u001b[0m\u001b[0;34m)\u001b[0m\u001b[0;34m\u001b[0m\u001b[0m\n\u001b[0m\u001b[1;32m     47\u001b[0m     \u001b[0;32mif\u001b[0m \u001b[0mn\u001b[0m \u001b[0;34m%\u001b[0m \u001b[0;36m100\u001b[0m \u001b[0;34m==\u001b[0m \u001b[0;36m0\u001b[0m\u001b[0;34m:\u001b[0m\u001b[0;34m\u001b[0m\u001b[0m\n\u001b[1;32m     48\u001b[0m         \u001b[0mprint\u001b[0m\u001b[0;34m(\u001b[0m\u001b[0mn\u001b[0m\u001b[0;34m,\u001b[0m \u001b[0mn_val\u001b[0m\u001b[0;34m)\u001b[0m\u001b[0;34m\u001b[0m\u001b[0m\n",
      "\u001b[0;32m<ipython-input-172-471c7f3da5f0>\u001b[0m in \u001b[0;36mcountsum\u001b[0;34m(self, n)\u001b[0m\n\u001b[1;32m     38\u001b[0m     \u001b[0;32mdef\u001b[0m \u001b[0mcountsum\u001b[0m\u001b[0;34m(\u001b[0m\u001b[0mself\u001b[0m\u001b[0;34m,\u001b[0m \u001b[0mn\u001b[0m\u001b[0;34m)\u001b[0m\u001b[0;34m:\u001b[0m\u001b[0;34m\u001b[0m\u001b[0m\n\u001b[1;32m     39\u001b[0m         \u001b[0;32mif\u001b[0m \u001b[0mself\u001b[0m\u001b[0;34m.\u001b[0m\u001b[0mn_list\u001b[0m \u001b[0;32mis\u001b[0m \u001b[0;32mNone\u001b[0m\u001b[0;34m:\u001b[0m\u001b[0;34m\u001b[0m\u001b[0m\n\u001b[0;32m---> 40\u001b[0;31m             \u001b[0;32mreturn\u001b[0m\u001b[0;34m(\u001b[0m\u001b[0msum\u001b[0m\u001b[0;34m(\u001b[0m\u001b[0mself\u001b[0m\u001b[0;34m.\u001b[0m\u001b[0mcountint\u001b[0m\u001b[0;34m(\u001b[0m\u001b[0mi\u001b[0m\u001b[0;34m,\u001b[0m \u001b[0mn\u001b[0m \u001b[0;34m-\u001b[0m \u001b[0mi\u001b[0m\u001b[0;34m)\u001b[0m \u001b[0;32mfor\u001b[0m \u001b[0mi\u001b[0m \u001b[0;32min\u001b[0m \u001b[0;36m1\u001b[0m \u001b[0;34m+\u001b[0m \u001b[0mnp\u001b[0m\u001b[0;34m.\u001b[0m\u001b[0marange\u001b[0m\u001b[0;34m(\u001b[0m\u001b[0mn\u001b[0m\u001b[0;34m)\u001b[0m\u001b[0;34m)\u001b[0m\u001b[0;34m)\u001b[0m\u001b[0;34m\u001b[0m\u001b[0m\n\u001b[0m\u001b[1;32m     41\u001b[0m         \u001b[0;32melse\u001b[0m\u001b[0;34m:\u001b[0m\u001b[0;34m\u001b[0m\u001b[0m\n\u001b[1;32m     42\u001b[0m             \u001b[0;32mreturn\u001b[0m\u001b[0;34m(\u001b[0m\u001b[0msum\u001b[0m\u001b[0;34m(\u001b[0m\u001b[0mself\u001b[0m\u001b[0;34m.\u001b[0m\u001b[0mcount\u001b[0m\u001b[0;34m(\u001b[0m\u001b[0mi\u001b[0m\u001b[0;34m,\u001b[0m \u001b[0mn\u001b[0m \u001b[0;34m-\u001b[0m \u001b[0mself\u001b[0m\u001b[0;34m.\u001b[0m\u001b[0mn_list\u001b[0m\u001b[0;34m[\u001b[0m\u001b[0;36m0\u001b[0m\u001b[0;34m]\u001b[0m \u001b[0;34m*\u001b[0m \u001b[0mi\u001b[0m\u001b[0;34m,\u001b[0m \u001b[0;36m0\u001b[0m\u001b[0;34m)\u001b[0m \u001b[0;32mfor\u001b[0m \u001b[0mi\u001b[0m \u001b[0;32min\u001b[0m \u001b[0;36m1\u001b[0m \u001b[0;34m+\u001b[0m \u001b[0mnp\u001b[0m\u001b[0;34m.\u001b[0m\u001b[0marange\u001b[0m\u001b[0;34m(\u001b[0m\u001b[0mn\u001b[0m \u001b[0;34m//\u001b[0m \u001b[0mself\u001b[0m\u001b[0;34m.\u001b[0m\u001b[0mn_list\u001b[0m\u001b[0;34m[\u001b[0m\u001b[0;36m0\u001b[0m\u001b[0;34m]\u001b[0m\u001b[0;34m)\u001b[0m\u001b[0;34m)\u001b[0m\u001b[0;34m)\u001b[0m\u001b[0;34m\u001b[0m\u001b[0m\n",
      "\u001b[0;32m<ipython-input-172-471c7f3da5f0>\u001b[0m in \u001b[0;36m<genexpr>\u001b[0;34m(.0)\u001b[0m\n\u001b[1;32m     38\u001b[0m     \u001b[0;32mdef\u001b[0m \u001b[0mcountsum\u001b[0m\u001b[0;34m(\u001b[0m\u001b[0mself\u001b[0m\u001b[0;34m,\u001b[0m \u001b[0mn\u001b[0m\u001b[0;34m)\u001b[0m\u001b[0;34m:\u001b[0m\u001b[0;34m\u001b[0m\u001b[0m\n\u001b[1;32m     39\u001b[0m         \u001b[0;32mif\u001b[0m \u001b[0mself\u001b[0m\u001b[0;34m.\u001b[0m\u001b[0mn_list\u001b[0m \u001b[0;32mis\u001b[0m \u001b[0;32mNone\u001b[0m\u001b[0;34m:\u001b[0m\u001b[0;34m\u001b[0m\u001b[0m\n\u001b[0;32m---> 40\u001b[0;31m             \u001b[0;32mreturn\u001b[0m\u001b[0;34m(\u001b[0m\u001b[0msum\u001b[0m\u001b[0;34m(\u001b[0m\u001b[0mself\u001b[0m\u001b[0;34m.\u001b[0m\u001b[0mcountint\u001b[0m\u001b[0;34m(\u001b[0m\u001b[0mi\u001b[0m\u001b[0;34m,\u001b[0m \u001b[0mn\u001b[0m \u001b[0;34m-\u001b[0m \u001b[0mi\u001b[0m\u001b[0;34m)\u001b[0m \u001b[0;32mfor\u001b[0m \u001b[0mi\u001b[0m \u001b[0;32min\u001b[0m \u001b[0;36m1\u001b[0m \u001b[0;34m+\u001b[0m \u001b[0mnp\u001b[0m\u001b[0;34m.\u001b[0m\u001b[0marange\u001b[0m\u001b[0;34m(\u001b[0m\u001b[0mn\u001b[0m\u001b[0;34m)\u001b[0m\u001b[0;34m)\u001b[0m\u001b[0;34m)\u001b[0m\u001b[0;34m\u001b[0m\u001b[0m\n\u001b[0m\u001b[1;32m     41\u001b[0m         \u001b[0;32melse\u001b[0m\u001b[0;34m:\u001b[0m\u001b[0;34m\u001b[0m\u001b[0m\n\u001b[1;32m     42\u001b[0m             \u001b[0;32mreturn\u001b[0m\u001b[0;34m(\u001b[0m\u001b[0msum\u001b[0m\u001b[0;34m(\u001b[0m\u001b[0mself\u001b[0m\u001b[0;34m.\u001b[0m\u001b[0mcount\u001b[0m\u001b[0;34m(\u001b[0m\u001b[0mi\u001b[0m\u001b[0;34m,\u001b[0m \u001b[0mn\u001b[0m \u001b[0;34m-\u001b[0m \u001b[0mself\u001b[0m\u001b[0;34m.\u001b[0m\u001b[0mn_list\u001b[0m\u001b[0;34m[\u001b[0m\u001b[0;36m0\u001b[0m\u001b[0;34m]\u001b[0m \u001b[0;34m*\u001b[0m \u001b[0mi\u001b[0m\u001b[0;34m,\u001b[0m \u001b[0;36m0\u001b[0m\u001b[0;34m)\u001b[0m \u001b[0;32mfor\u001b[0m \u001b[0mi\u001b[0m \u001b[0;32min\u001b[0m \u001b[0;36m1\u001b[0m \u001b[0;34m+\u001b[0m \u001b[0mnp\u001b[0m\u001b[0;34m.\u001b[0m\u001b[0marange\u001b[0m\u001b[0;34m(\u001b[0m\u001b[0mn\u001b[0m \u001b[0;34m//\u001b[0m \u001b[0mself\u001b[0m\u001b[0;34m.\u001b[0m\u001b[0mn_list\u001b[0m\u001b[0;34m[\u001b[0m\u001b[0;36m0\u001b[0m\u001b[0;34m]\u001b[0m\u001b[0;34m)\u001b[0m\u001b[0;34m)\u001b[0m\u001b[0;34m)\u001b[0m\u001b[0;34m\u001b[0m\u001b[0m\n",
      "\u001b[0;32m<ipython-input-172-471c7f3da5f0>\u001b[0m in \u001b[0;36mcountint\u001b[0;34m(self, x, val)\u001b[0m\n\u001b[1;32m     32\u001b[0m         \u001b[0mout\u001b[0m \u001b[0;34m=\u001b[0m \u001b[0mself\u001b[0m\u001b[0;34m.\u001b[0m\u001b[0mval_dict\u001b[0m\u001b[0;34m.\u001b[0m\u001b[0mget\u001b[0m\u001b[0;34m(\u001b[0m\u001b[0;34m(\u001b[0m\u001b[0mx\u001b[0m\u001b[0;34m,\u001b[0m \u001b[0mval\u001b[0m\u001b[0;34m)\u001b[0m\u001b[0;34m)\u001b[0m\u001b[0;34m\u001b[0m\u001b[0m\n\u001b[1;32m     33\u001b[0m         \u001b[0;32mif\u001b[0m \u001b[0mout\u001b[0m \u001b[0;32mis\u001b[0m \u001b[0;32mNone\u001b[0m\u001b[0;34m:\u001b[0m\u001b[0;34m\u001b[0m\u001b[0m\n\u001b[0;32m---> 34\u001b[0;31m             \u001b[0mout\u001b[0m \u001b[0;34m=\u001b[0m \u001b[0msum\u001b[0m\u001b[0;34m(\u001b[0m\u001b[0mself\u001b[0m\u001b[0;34m.\u001b[0m\u001b[0mcountint\u001b[0m\u001b[0;34m(\u001b[0m\u001b[0mi\u001b[0m\u001b[0;34m,\u001b[0m \u001b[0mval\u001b[0m \u001b[0;34m-\u001b[0m \u001b[0mi\u001b[0m\u001b[0;34m)\u001b[0m \u001b[0;32mfor\u001b[0m \u001b[0mi\u001b[0m \u001b[0;32min\u001b[0m \u001b[0;36m1\u001b[0m \u001b[0;34m+\u001b[0m \u001b[0mnp\u001b[0m\u001b[0;34m.\u001b[0m\u001b[0marange\u001b[0m\u001b[0;34m(\u001b[0m\u001b[0mmin\u001b[0m\u001b[0;34m(\u001b[0m\u001b[0mx\u001b[0m\u001b[0;34m,\u001b[0m \u001b[0mval\u001b[0m\u001b[0;34m)\u001b[0m\u001b[0;34m)\u001b[0m\u001b[0;34m)\u001b[0m\u001b[0;34m\u001b[0m\u001b[0m\n\u001b[0m\u001b[1;32m     35\u001b[0m             \u001b[0mself\u001b[0m\u001b[0;34m.\u001b[0m\u001b[0mval_dict\u001b[0m\u001b[0;34m[\u001b[0m\u001b[0;34m(\u001b[0m\u001b[0mx\u001b[0m\u001b[0;34m,\u001b[0m \u001b[0mval\u001b[0m\u001b[0;34m)\u001b[0m\u001b[0;34m]\u001b[0m \u001b[0;34m=\u001b[0m \u001b[0mout\u001b[0m \u001b[0;34m%\u001b[0m \u001b[0mn_q\u001b[0m\u001b[0;34m\u001b[0m\u001b[0m\n\u001b[1;32m     36\u001b[0m         \u001b[0;32mreturn\u001b[0m\u001b[0;34m(\u001b[0m\u001b[0mout\u001b[0m\u001b[0;34m)\u001b[0m\u001b[0;34m\u001b[0m\u001b[0m\n",
      "\u001b[0;32m<ipython-input-172-471c7f3da5f0>\u001b[0m in \u001b[0;36m<genexpr>\u001b[0;34m(.0)\u001b[0m\n\u001b[1;32m     32\u001b[0m         \u001b[0mout\u001b[0m \u001b[0;34m=\u001b[0m \u001b[0mself\u001b[0m\u001b[0;34m.\u001b[0m\u001b[0mval_dict\u001b[0m\u001b[0;34m.\u001b[0m\u001b[0mget\u001b[0m\u001b[0;34m(\u001b[0m\u001b[0;34m(\u001b[0m\u001b[0mx\u001b[0m\u001b[0;34m,\u001b[0m \u001b[0mval\u001b[0m\u001b[0;34m)\u001b[0m\u001b[0;34m)\u001b[0m\u001b[0;34m\u001b[0m\u001b[0m\n\u001b[1;32m     33\u001b[0m         \u001b[0;32mif\u001b[0m \u001b[0mout\u001b[0m \u001b[0;32mis\u001b[0m \u001b[0;32mNone\u001b[0m\u001b[0;34m:\u001b[0m\u001b[0;34m\u001b[0m\u001b[0m\n\u001b[0;32m---> 34\u001b[0;31m             \u001b[0mout\u001b[0m \u001b[0;34m=\u001b[0m \u001b[0msum\u001b[0m\u001b[0;34m(\u001b[0m\u001b[0mself\u001b[0m\u001b[0;34m.\u001b[0m\u001b[0mcountint\u001b[0m\u001b[0;34m(\u001b[0m\u001b[0mi\u001b[0m\u001b[0;34m,\u001b[0m \u001b[0mval\u001b[0m \u001b[0;34m-\u001b[0m \u001b[0mi\u001b[0m\u001b[0;34m)\u001b[0m \u001b[0;32mfor\u001b[0m \u001b[0mi\u001b[0m \u001b[0;32min\u001b[0m \u001b[0;36m1\u001b[0m \u001b[0;34m+\u001b[0m \u001b[0mnp\u001b[0m\u001b[0;34m.\u001b[0m\u001b[0marange\u001b[0m\u001b[0;34m(\u001b[0m\u001b[0mmin\u001b[0m\u001b[0;34m(\u001b[0m\u001b[0mx\u001b[0m\u001b[0;34m,\u001b[0m \u001b[0mval\u001b[0m\u001b[0;34m)\u001b[0m\u001b[0;34m)\u001b[0m\u001b[0;34m)\u001b[0m\u001b[0;34m\u001b[0m\u001b[0m\n\u001b[0m\u001b[1;32m     35\u001b[0m             \u001b[0mself\u001b[0m\u001b[0;34m.\u001b[0m\u001b[0mval_dict\u001b[0m\u001b[0;34m[\u001b[0m\u001b[0;34m(\u001b[0m\u001b[0mx\u001b[0m\u001b[0;34m,\u001b[0m \u001b[0mval\u001b[0m\u001b[0;34m)\u001b[0m\u001b[0;34m]\u001b[0m \u001b[0;34m=\u001b[0m \u001b[0mout\u001b[0m \u001b[0;34m%\u001b[0m \u001b[0mn_q\u001b[0m\u001b[0;34m\u001b[0m\u001b[0m\n\u001b[1;32m     36\u001b[0m         \u001b[0;32mreturn\u001b[0m\u001b[0;34m(\u001b[0m\u001b[0mout\u001b[0m\u001b[0;34m)\u001b[0m\u001b[0;34m\u001b[0m\u001b[0m\n",
      "\u001b[0;31mKeyboardInterrupt\u001b[0m: "
     ]
    }
   ],
   "source": [
    "## Problem 78: Coin partitions\n",
    "\n",
    "n_q = int(1e6)\n",
    "\n",
    "class CountSum():\n",
    "    '''\n",
    "    Problem 66 - 68\n",
    "    '''\n",
    "    def __init__(self, n_list = None):\n",
    "        self.n_list = n_list\n",
    "        self.val_dict = {}\n",
    "        \n",
    "    def count(self, x, val, key):\n",
    "        if val == 0:\n",
    "            return(1)\n",
    "        out = self.val_dict.get((x, val, key))\n",
    "        if out is None:\n",
    "            diff = self.n_list[key + 1] - self.n_list[key]\n",
    "            if key < (len(self.n_list) - 1):\n",
    "                if val >= diff:\n",
    "                    out = sum(self.count(i, val - i * diff, key + 1) for i in 1 + np.arange(min(x, val // diff)))\n",
    "                else:\n",
    "                    out = 0\n",
    "                self.val_dict[(x, val, key)] = out\n",
    "            else:\n",
    "                out = int(x % diff == 0)\n",
    "        return(out)\n",
    "    \n",
    "    def countint(self, x, val):\n",
    "        if val == 0:\n",
    "            return(1)\n",
    "        out = self.val_dict.get((x, val))\n",
    "        if out is None:\n",
    "            out = sum(self.countint(i, val - i) for i in 1 + np.arange(min(x, val)))\n",
    "            self.val_dict[(x, val)] = out % n_q\n",
    "        return(out)\n",
    "    \n",
    "    def countsum(self, n):\n",
    "        if self.n_list is None:\n",
    "            return(sum(self.countint(i, n - i) for i in 1 + np.arange(n)))\n",
    "        else:\n",
    "            return(sum(self.count(i, n - self.n_list[0] * i, 0) for i in 1 + np.arange(n // self.n_list[0])))\n",
    "    \n",
    "counter = CountSum()\n",
    "for n in itertools.count(1):\n",
    "    n_val = counter.countsum(n)\n",
    "    if n % 100 == 0:\n",
    "        print(n, n_val)\n",
    "    if n_val % n_q == 0:\n",
    "        break\n",
    "print(n)"
   ]
  },
  {
   "cell_type": "code",
   "execution_count": 99,
   "metadata": {},
   "outputs": [
    {
     "name": "stdout",
     "output_type": "stream",
     "text": [
      "73162890\n",
      "CPU times: user 17.2 ms, sys: 1.1 ms, total: 18.3 ms\n",
      "Wall time: 411 ms\n"
     ]
    }
   ],
   "source": [
    "%%time\n",
    "## Problem 79\n",
    "\n",
    "S = pd.read_csv(\"https://projecteuler.net/project/resources/p079_keylog.txt\", header=None, squeeze=True, dtype=\"str\")\n",
    "\n",
    "S = np.array([[int(j) for j in i] for i in S])\n",
    "A = np.zeros([10, 10], dtype=\"int\")\n",
    "pair_list = np.vstack(S[:, i] for i in itertools.combinations(range(S.shape[1]), 2))\n",
    "for i in pair_list:\n",
    "    A[tuple(i)] += 1\n",
    "    \n",
    "n_list = np.nonzero(A.sum(axis=0) + A.sum(axis=1))[0].tolist()\n",
    "A = A[np.ix_(n_list, n_list)]\n",
    "out = []\n",
    "while len(A):\n",
    "    i_val = A.sum(axis=0).tolist().index(0)\n",
    "    A = np.delete(A, i_val, axis=0)\n",
    "    A = np.delete(A, i_val, axis=1)\n",
    "    out.append(n_list.pop(i_val))\n",
    "    \n",
    "print(int(\"\".join(str(i) for i in out)))"
   ]
  },
  {
   "cell_type": "code",
   "execution_count": 47,
   "metadata": {},
   "outputs": [
    {
     "name": "stdout",
     "output_type": "stream",
     "text": [
      "40886\n",
      "CPU times: user 15.6 ms, sys: 0 ns, total: 15.6 ms\n",
      "Wall time: 23.6 ms\n"
     ]
    }
   ],
   "source": [
    "%%time\n",
    "## Problem 80: Square root digital expansion\n",
    "\n",
    "n_max = 100\n",
    "\n",
    "out = []\n",
    "for n in range(n_max + 1):\n",
    "    if np.sqrt(n) % 1 != 0:\n",
    "        out.append(sum(int(i) for i in str(sympy.N(sympy.sqrt(n), 10 + n_max)).replace(\".\", \"\")[:n_max]))\n",
    "print(sum(out))"
   ]
  },
  {
   "cell_type": "code",
   "execution_count": 3,
   "metadata": {},
   "outputs": [
    {
     "data": {
      "text/plain": [
       "(80, 80)"
      ]
     },
     "execution_count": 3,
     "metadata": {},
     "output_type": "execute_result"
    }
   ],
   "source": [
    "## Problem 81: Path sum: two ways\n",
    "\n",
    "A = pd.read_csv(\"https://projecteuler.net/project/resources/p081_matrix.txt\", header=None).values\n",
    "A.shape"
   ]
  },
  {
   "cell_type": "code",
   "execution_count": null,
   "metadata": {},
   "outputs": [],
   "source": []
  }
 ],
 "metadata": {
  "kernelspec": {
   "display_name": "Python 3",
   "language": "python",
   "name": "python3"
  },
  "language_info": {
   "codemirror_mode": {
    "name": "ipython",
    "version": 3
   },
   "file_extension": ".py",
   "mimetype": "text/x-python",
   "name": "python",
   "nbconvert_exporter": "python",
   "pygments_lexer": "ipython3",
   "version": "3.6.1"
  }
 },
 "nbformat": 4,
 "nbformat_minor": 2
}
